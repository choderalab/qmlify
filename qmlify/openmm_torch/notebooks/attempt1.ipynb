{
 "cells": [
  {
   "cell_type": "markdown",
   "id": "d6089520-a0cf-4356-981d-4f41c97f74ae",
   "metadata": {},
   "source": [
    "attempt 1"
   ]
  },
  {
   "cell_type": "code",
   "execution_count": 1,
   "id": "59384e57-c965-4eaf-9015-7678065b368a",
   "metadata": {},
   "outputs": [],
   "source": [
    "from openmmtools.testsystems import HostGuestExplicit"
   ]
  },
  {
   "cell_type": "code",
   "execution_count": 2,
   "id": "ff6703d1-8be7-4ba5-bba2-47e033d25f3a",
   "metadata": {},
   "outputs": [],
   "source": [
    "hge = HostGuestExplicit()"
   ]
  },
  {
   "cell_type": "code",
   "execution_count": 3,
   "id": "8e6ce554-a2b6-4fe0-ac56-6f7fea69283c",
   "metadata": {},
   "outputs": [],
   "source": [
    "system, positions, topology = hge.system, hge.positions, hge.topology\n"
   ]
  },
  {
   "cell_type": "code",
   "execution_count": 4,
   "id": "cc3efe87-7ee9-4a15-9c0c-9839af42c8b5",
   "metadata": {},
   "outputs": [],
   "source": [
    "from qmlify.openmm_torch.force_hybridization import HybridSystemFactory\n",
    "from simtk import unit"
   ]
  },
  {
   "cell_type": "code",
   "execution_count": 5,
   "id": "3b81ec75-a9cc-49ac-a6d2-b24e7ea46c13",
   "metadata": {},
   "outputs": [],
   "source": [
    "from openmmtools.testsystems import HostGuestExplicit\n",
    "T = 300*unit.kelvin\n",
    "system, positions, topology = hge.system, hge.positions, hge.topology\n",
    "system.removeForce(system.getNumForces() - 1) # remove the CMMotionRemover force because it is unknown\n",
    "_atoms = list(range(126,156)) #these atoms correspond to the guest. query these with the second residue in the topology"
   ]
  },
  {
   "cell_type": "code",
   "execution_count": 6,
   "id": "8e661781-24cb-4ebd-ad1d-eb4e8431d7f9",
   "metadata": {},
   "outputs": [
    {
     "data": {
      "text/plain": [
       "[<simtk.openmm.openmm.HarmonicBondForce; proxy of <Swig Object of type 'OpenMM::HarmonicBondForce *' at 0x7faae862ad20> >,\n",
       " <simtk.openmm.openmm.HarmonicAngleForce; proxy of <Swig Object of type 'OpenMM::HarmonicAngleForce *' at 0x7faae862a720> >,\n",
       " <simtk.openmm.openmm.PeriodicTorsionForce; proxy of <Swig Object of type 'OpenMM::PeriodicTorsionForce *' at 0x7faae862a300> >,\n",
       " <simtk.openmm.openmm.NonbondedForce; proxy of <Swig Object of type 'OpenMM::NonbondedForce *' at 0x7faae862a390> >]"
      ]
     },
     "execution_count": 6,
     "metadata": {},
     "output_type": "execute_result"
    }
   ],
   "source": [
    "system.getForces()"
   ]
  },
  {
   "cell_type": "code",
   "execution_count": 7,
   "id": "dba67ae3-805d-42ab-a727-91f5a8035674",
   "metadata": {},
   "outputs": [
    {
     "name": "stderr",
     "output_type": "stream",
     "text": [
      "INFO:force-hybridization:initializing system modifier...\n",
      "INFO:force-hybridization:found 1 from [1]\n",
      "INFO:force-hybridization:identified 30 to treat with ML.\n",
      "INFO:force-hybridization:modifying harmonic bonds...\n",
      "INFO:force-hybridization:modifying harmonic angles...\n",
      "INFO:force-hybridization:modifying periodic torsions...\n",
      "INFO:force-hybridization:modifying nonbondeds...\n",
      "DEBUG:force-hybridization:iterating over existing exceptions and adding to custom force...\n",
      "DEBUG:force-hybridization:iterating over alchemical particle combinations\n",
      "DEBUG:force-hybridization:enabling rest-like scaling to alchemical particle nonbondeds\n"
     ]
    }
   ],
   "source": [
    "\n",
    "hsf = HybridSystemFactory(topology = topology,\n",
    "         alchemical_residue_indices = [1],\n",
    "         system = system,\n",
    "         softcore_alpha_sterics = 0.5,\n",
    "         softcore_alpha_electrostatics = 0.5)\n",
    "# grab the modified system and endstate system...\n",
    "mod_system = hsf.system\n",
    "endstate_system = hsf.endstate_system"
   ]
  },
  {
   "cell_type": "markdown",
   "id": "28dc192e-a6d4-4045-b811-ccc7efdbc4c6",
   "metadata": {},
   "source": [
    "now that we have the modified system, we want to get the energy at _this_ endstate and make sure the energy is bookkeeping well with the non-alchemically-modified state."
   ]
  },
  {
   "cell_type": "code",
   "execution_count": 8,
   "id": "7050d622-73f1-4626-8b43-daef40fd9d9b",
   "metadata": {},
   "outputs": [],
   "source": [
    "from openmmtools.integrators import LangevinIntegrator\n",
    "from simtk import openmm"
   ]
  },
  {
   "cell_type": "code",
   "execution_count": 9,
   "id": "a605e67a-9d25-438e-8ed3-a06a5b53e85e",
   "metadata": {},
   "outputs": [],
   "source": [
    "nonalch_int = LangevinIntegrator(temperature=T)\n",
    "alch_int = LangevinIntegrator(temperature=T)"
   ]
  },
  {
   "cell_type": "code",
   "execution_count": 10,
   "id": "7a3c68da-7414-4046-975a-659058c662c1",
   "metadata": {},
   "outputs": [],
   "source": [
    "nonalch_context, alch_context = openmm.Context(system, nonalch_int), openmm.Context(mod_system, alch_int)"
   ]
  },
  {
   "cell_type": "code",
   "execution_count": 11,
   "id": "0e321df7-f042-49ac-a086-54ad036f6ce4",
   "metadata": {},
   "outputs": [],
   "source": [
    "for context in [nonalch_context, alch_context]:\n",
    "    context.setPositions(positions)\n",
    "    context.setPeriodicBoxVectors(*system.getDefaultPeriodicBoxVectors())"
   ]
  },
  {
   "cell_type": "code",
   "execution_count": 12,
   "id": "8e0bad0f-a1bd-4072-81c7-b3f60ec375b3",
   "metadata": {},
   "outputs": [
    {
     "data": {
      "text/plain": [
       "Quantity(value=-51940.52312226919, unit=kilojoule/mole)"
      ]
     },
     "execution_count": 12,
     "metadata": {},
     "output_type": "execute_result"
    }
   ],
   "source": [
    "nonalch_context.getState(getEnergy=True).getPotentialEnergy()"
   ]
  },
  {
   "cell_type": "code",
   "execution_count": 13,
   "id": "05f95748-764b-408a-9fb4-31ec307387e0",
   "metadata": {},
   "outputs": [
    {
     "data": {
      "text/plain": [
       "Quantity(value=-51940.52321274875, unit=kilojoule/mole)"
      ]
     },
     "execution_count": 13,
     "metadata": {},
     "output_type": "execute_result"
    }
   ],
   "source": [
    "alch_context.getState(getEnergy=True).getPotentialEnergy()"
   ]
  },
  {
   "cell_type": "markdown",
   "id": "09994b0d-6686-4941-add6-7d2026fe02a0",
   "metadata": {},
   "source": [
    "we're only off by a thousandth of a kj/mol."
   ]
  },
  {
   "cell_type": "markdown",
   "id": "003ec3c3-40b2-4e3d-a924-6df7ffeb0833",
   "metadata": {},
   "source": [
    "if this is an artifact of the nonbonded term, we can safely ignore it."
   ]
  },
  {
   "cell_type": "code",
   "execution_count": 14,
   "id": "c34602f8-2705-4b49-ba70-810b99822d22",
   "metadata": {},
   "outputs": [],
   "source": [
    "from qmlify.openmm_torch.utils import *"
   ]
  },
  {
   "cell_type": "code",
   "execution_count": 15,
   "id": "1fe6d43c-f7a5-40c0-af0f-6c0edcc66b00",
   "metadata": {},
   "outputs": [],
   "source": [
    "from openmmtools.constants import kB"
   ]
  },
  {
   "cell_type": "code",
   "execution_count": 16,
   "id": "295955cc-6f28-444e-94fc-669e0963238b",
   "metadata": {},
   "outputs": [],
   "source": [
    "beta = 1. / (T * kB)"
   ]
  },
  {
   "cell_type": "code",
   "execution_count": 17,
   "id": "1e938945-6f64-440e-a818-8e26807b0909",
   "metadata": {},
   "outputs": [],
   "source": [
    "from openmmtools import utils"
   ]
  },
  {
   "cell_type": "code",
   "execution_count": 18,
   "id": "fb283b1a-10fd-4b6d-aea6-b0c6ccce52a2",
   "metadata": {},
   "outputs": [],
   "source": [
    "platform = utils.get_fastest_platform()"
   ]
  },
  {
   "cell_type": "code",
   "execution_count": 19,
   "id": "c7cfdfb4-d969-41fa-b5d3-86262c464a6a",
   "metadata": {},
   "outputs": [
    {
     "name": "stdout",
     "output_type": "stream",
     "text": [
      "conducting subsequent work with the following platform: CPU\n"
     ]
    },
    {
     "data": {
      "text/plain": [
       "[('HarmonicBondForce', 139.49451696522257),\n",
       " ('HarmonicAngleForce', 255.44177887656315),\n",
       " ('PeriodicTorsionForce', 157.44462259341995),\n",
       " ('NonbondedForce', -21375.74437865682)]"
      ]
     },
     "execution_count": 19,
     "metadata": {},
     "output_type": "execute_result"
    }
   ],
   "source": [
    "compute_potential_components(nonalch_context, beta, platform)"
   ]
  },
  {
   "cell_type": "code",
   "execution_count": 20,
   "id": "6faad451-6dd4-4df2-81f9-1508b4f82fc3",
   "metadata": {},
   "outputs": [
    {
     "name": "stdout",
     "output_type": "stream",
     "text": [
      "conducting subsequent work with the following platform: CPU\n"
     ]
    },
    {
     "data": {
      "text/plain": [
       "[('HarmonicBondForce', 138.25363257328587),\n",
       " ('HarmonicAngleForce', 250.5430402178495),\n",
       " ('PeriodicTorsionForce', 127.8038989999598),\n",
       " ('NonbondedForce', -21397.72292678986),\n",
       " ('CustomBondForce', 1.2408843919367571),\n",
       " ('CustomAngleForce', 4.898738658713599),\n",
       " ('CustomTorsionForce', 29.64072359346019),\n",
       " ('CustomBondForce', 21.978560798018687)]"
      ]
     },
     "execution_count": 20,
     "metadata": {},
     "output_type": "execute_result"
    }
   ],
   "source": [
    "compute_potential_components(alch_context, beta, platform)"
   ]
  },
  {
   "cell_type": "code",
   "execution_count": 21,
   "id": "31602e53-486a-498c-a739-14d882ab220c",
   "metadata": {},
   "outputs": [
    {
     "data": {
      "text/plain": [
       "5.684341886080802e-14"
      ]
     },
     "execution_count": 21,
     "metadata": {},
     "output_type": "execute_result"
    }
   ],
   "source": [
    "138.25363257328587 + 1.2408843919367571 - 139.49451696522257"
   ]
  },
  {
   "cell_type": "code",
   "execution_count": 22,
   "id": "a72c913c-4d6b-4faf-b828-28cb4ad4df24",
   "metadata": {},
   "outputs": [
    {
     "data": {
      "text/plain": [
       "-5.684341886080802e-14"
      ]
     },
     "execution_count": 22,
     "metadata": {},
     "output_type": "execute_result"
    }
   ],
   "source": [
    "250.5430402178495 + 4.898738658713599 - 255.44177887656315"
   ]
  },
  {
   "cell_type": "code",
   "execution_count": 23,
   "id": "c6c46327-5098-4230-a5af-b9580aca52a1",
   "metadata": {},
   "outputs": [
    {
     "data": {
      "text/plain": [
       "2.842170943040401e-14"
      ]
     },
     "execution_count": 23,
     "metadata": {},
     "output_type": "execute_result"
    }
   ],
   "source": [
    "29.64072359346019 + 127.8038989999598 - 157.44462259341995"
   ]
  },
  {
   "cell_type": "markdown",
   "id": "2e0115e7-8a1e-47a1-8aa5-707e4b58eb74",
   "metadata": {},
   "source": [
    "so it is nonbonded. can we write a function that pushed the alchemical context to the opposite endstate and asserts that all of the custom forces go to zero?"
   ]
  },
  {
   "cell_type": "markdown",
   "id": "1f943eb3-38b3-4d61-a3cb-915611df8d6d",
   "metadata": {},
   "source": [
    "first, let's gather the alchemical lambdas that must change..."
   ]
  },
  {
   "cell_type": "code",
   "execution_count": 24,
   "id": "f29fdb0c-c6fd-464b-afdb-f470f642e2a8",
   "metadata": {},
   "outputs": [],
   "source": [
    "final_lambdas = {'lambda_MM_bonds' : 0.,\n",
    "                 'lambda_MM_angles': 0.,\n",
    "                 'lambda_MM_torsions': 0.,\n",
    "                 'lambda_nonbonded_MM_sterics' : 1.,\n",
    "                 'lambda_nonbonded_MM_electrostatics': 1.,\n",
    "                 }"
   ]
  },
  {
   "cell_type": "code",
   "execution_count": 25,
   "id": "35c46def-b02d-410a-85ae-afa9131af6c4",
   "metadata": {},
   "outputs": [],
   "source": [
    "for key, val in final_lambdas.items():\n",
    "    alch_context.setParameter(key, val)"
   ]
  },
  {
   "cell_type": "code",
   "execution_count": 26,
   "id": "513c3c6c-4ac4-4063-abea-5ebfef613f85",
   "metadata": {},
   "outputs": [
    {
     "name": "stdout",
     "output_type": "stream",
     "text": [
      "conducting subsequent work with the following platform: CPU\n"
     ]
    },
    {
     "data": {
      "text/plain": [
       "[('HarmonicBondForce', 138.25363257328587),\n",
       " ('HarmonicAngleForce', 250.5430402178495),\n",
       " ('PeriodicTorsionForce', 127.8038989999598),\n",
       " ('NonbondedForce', -21397.72292678986),\n",
       " ('CustomBondForce', 0.0),\n",
       " ('CustomAngleForce', 0.0),\n",
       " ('CustomTorsionForce', 0.0),\n",
       " ('CustomBondForce', 0.0)]"
      ]
     },
     "execution_count": 26,
     "metadata": {},
     "output_type": "execute_result"
    }
   ],
   "source": [
    "compute_potential_components(alch_context, beta, platform)"
   ]
  },
  {
   "cell_type": "code",
   "execution_count": 27,
   "id": "d9bad02e-5ee8-4b89-89da-20c7e087367f",
   "metadata": {},
   "outputs": [],
   "source": [
    "swig_params = alch_context.getParameters()"
   ]
  },
  {
   "cell_type": "code",
   "execution_count": 28,
   "id": "1675d9ee-062c-4e3d-829a-a795ccb68fd8",
   "metadata": {},
   "outputs": [
    {
     "name": "stdout",
     "output_type": "stream",
     "text": [
      "lambda_MM_angles 0.0\n",
      "lambda_MM_bonds 0.0\n",
      "lambda_MM_torsions 0.0\n",
      "lambda_electrostatic_scale 0.0\n",
      "lambda_epsilon_scale 0.0\n",
      "lambda_nonbonded_MM_electrostatics 1.0\n",
      "lambda_nonbonded_MM_sterics 1.0\n",
      "lambda_scale 1.0\n"
     ]
    }
   ],
   "source": [
    "for i in swig_params:\n",
    "    print(i, swig_params[i])\n",
    "    "
   ]
  },
  {
   "cell_type": "markdown",
   "id": "a5a8563e-277f-4472-98a3-8c44d051fcb0",
   "metadata": {},
   "source": [
    "alright! now can we add the torchforce?"
   ]
  },
  {
   "cell_type": "code",
   "execution_count": 29,
   "id": "4b532374-0d6e-44ef-97cf-830323ac50a9",
   "metadata": {},
   "outputs": [],
   "source": [
    "from qmlify.openmm_torch.torchforce_generator import torch_alchemification_wrapper"
   ]
  },
  {
   "cell_type": "code",
   "execution_count": 30,
   "id": "1aab9b5d-6b03-4103-846f-740b6605c4b1",
   "metadata": {},
   "outputs": [
    {
     "name": "stderr",
     "output_type": "stream",
     "text": [
      "INFO:force-hybridization:initializing system modifier...\n",
      "INFO:force-hybridization:found 1 from [1]\n",
      "INFO:force-hybridization:identified 30 to treat with ML.\n",
      "INFO:force-hybridization:modifying harmonic bonds...\n",
      "INFO:force-hybridization:modifying harmonic angles...\n",
      "INFO:force-hybridization:modifying periodic torsions...\n",
      "INFO:force-hybridization:modifying nonbondeds...\n",
      "DEBUG:force-hybridization:iterating over existing exceptions and adding to custom force...\n",
      "DEBUG:force-hybridization:iterating over alchemical particle combinations\n",
      "DEBUG:force-hybridization:enabling rest-like scaling to alchemical particle nonbondeds\n"
     ]
    },
    {
     "name": "stdout",
     "output_type": "stream",
     "text": [
      "elements: ['C', 'C', 'C', 'C', 'C', 'C', 'C', 'C', 'C', 'O', 'C', 'O', 'H', 'H', 'H', 'H', 'H', 'H', 'H', 'H', 'H', 'H', 'H', 'H', 'H', 'H', 'H', 'H', 'H', 'H']\n",
      "species: tensor([[1, 1, 1, 1, 1, 1, 1, 1, 1, 3, 1, 3, 0, 0, 0, 0, 0, 0, 0, 0, 0, 0, 0, 0,\n",
      "         0, 0, 0, 0, 0, 0]])\n"
     ]
    }
   ],
   "source": [
    "ml_system, hsf_mod = torch_alchemification_wrapper(topology, system, [1])"
   ]
  },
  {
   "cell_type": "code",
   "execution_count": null,
   "id": "72442330-1739-495c-aa6d-f802595f8efe",
   "metadata": {},
   "outputs": [],
   "source": []
  }
 ],
 "metadata": {
  "kernelspec": {
   "display_name": "Python 3",
   "language": "python",
   "name": "python3"
  },
  "language_info": {
   "codemirror_mode": {
    "name": "ipython",
    "version": 3
   },
   "file_extension": ".py",
   "mimetype": "text/x-python",
   "name": "python",
   "nbconvert_exporter": "python",
   "pygments_lexer": "ipython3",
   "version": "3.9.2"
  }
 },
 "nbformat": 4,
 "nbformat_minor": 5
}
