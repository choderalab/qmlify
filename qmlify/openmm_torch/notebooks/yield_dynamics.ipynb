{
 "cells": [
  {
   "cell_type": "code",
   "execution_count": 1,
   "id": "ce3fcd4d",
   "metadata": {},
   "outputs": [],
   "source": [
    "from qmlify.openmm_torch.utils import prepare_ml_system"
   ]
  },
  {
   "cell_type": "code",
   "execution_count": 2,
   "id": "f97f4dd8",
   "metadata": {},
   "outputs": [],
   "source": [
    "from qmlify.openmm_torch.utils import prepare_ml_system\n",
    "from qmlify.openmm_torch.test_openmm_torch import get_HostGuestExplicit\n",
    "import os\n",
    "testsystem_class = get_HostGuestExplicit()"
   ]
  },
  {
   "cell_type": "code",
   "execution_count": 3,
   "id": "9e264b9d",
   "metadata": {},
   "outputs": [],
   "source": [
    "torch_scale_name = 'torch_scale'\n",
    "torch_scale_default_value = 0."
   ]
  },
  {
   "cell_type": "code",
   "execution_count": 4,
   "id": "7f9aa906",
   "metadata": {},
   "outputs": [
    {
     "name": "stderr",
     "output_type": "stream",
     "text": [
      "INFO:utils:preparing ML system and initializing assertions...\n",
      "INFO:utils:executing torch alchemification wrapper to make ml_system and hybrid_factory\n",
      "INFO:force-hybridization:initializing system modifier...\n",
      "INFO:force-hybridization:found 1 from [1]\n",
      "INFO:force-hybridization:identified 30 to treat with ML.\n",
      "INFO:force-hybridization:modifying harmonic bonds...\n",
      "INFO:force-hybridization:modifying harmonic angles...\n",
      "INFO:force-hybridization:modifying periodic torsions...\n",
      "INFO:force-hybridization:modifying nonbondeds...\n",
      "DEBUG:force-hybridization:iterating over existing exceptions and adding to custom force...\n",
      "DEBUG:force-hybridization:iterating over alchemical particle combinations\n",
      "DEBUG:force-hybridization:enabling rest-like scaling to alchemical particle nonbondeds\n",
      "INFO:torchforce_generator:registering `torch` device...\n",
      "INFO:torchforce_generator:found torch device 'cuda': False\n",
      "DEBUG:torchforce_generator:elements: ['C', 'C', 'C', 'C', 'C', 'C', 'C', 'C', 'C', 'O', 'C', 'O', 'H', 'H', 'H', 'H', 'H', 'H', 'H', 'H', 'H', 'H', 'H', 'H', 'H', 'H', 'H', 'H', 'H', 'H']\n",
      "DEBUG:torchforce_generator:species: tensor([[1, 1, 1, 1, 1, 1, 1, 1, 1, 3, 1, 3, 0, 0, 0, 0, 0, 0, 0, 0, 0, 0, 0, 0,\n",
      "         0, 0, 0, 0, 0, 0]])\n",
      "WARNING:utils:Warning: Returning CPU platform instead of requested platform <simtk.openmm.openmm.Platform; proxy of <Swig Object of type 'OpenMM::Platform *' at 0x7f5e09c782a0> >\n",
      "INFO:utils:conducting subsequent work with the following platform: CPU\n",
      "DEBUG:utils:ensuring appropriate lambda initialization at lambda0 for alchemical system...\n",
      "DEBUG:utils:ensuring appropriate lambda initialization at lambda0 for ml alchemical system...\n",
      "DEBUG:utils:computing potential components of _all_ contexts...standby.\n",
      "INFO:utils:conducting subsequent work with the following platform: CPU\n",
      "INFO:utils:conducting subsequent work with the following platform: CPU\n",
      "INFO:utils:checking mm bookkeeping energies...\n",
      "INFO:utils:checking mm bookkeeping energies...\n"
     ]
    }
   ],
   "source": [
    "ml_system, hybrid_factory = prepare_ml_system(                          \n",
    "                          positions = testsystem_class.positions,\n",
    "                          topology = testsystem_class.topology,\n",
    "                          system = testsystem_class.system,\n",
    "                          residue_indices = [1],\n",
    "                          model_name='ani2x',\n",
    "                          save_filename = 'repex.pt',\n",
    "                          torch_scale_name=torch_scale_name,\n",
    "                          torch_scale_default_value=torch_scale_default_value,\n",
    "                          HybridSystemFactory_kwargs = {},\n",
    "                          minimizer_kwargs = {'maxIterations': 1000}\n",
    "                          )"
   ]
  },
  {
   "cell_type": "code",
   "execution_count": null,
   "id": "3c15d6f5",
   "metadata": {},
   "outputs": [],
   "source": []
  },
  {
   "cell_type": "code",
   "execution_count": 5,
   "id": "260ec782",
   "metadata": {},
   "outputs": [],
   "source": [
    "from qmlify.openmm_torch.utils import configure_platform\n",
    "from openmmtools import utils\n",
    "from openmmtools.integrators import LangevinIntegrator\n",
    "import simtk"
   ]
  },
  {
   "cell_type": "code",
   "execution_count": 6,
   "id": "afc487bf",
   "metadata": {},
   "outputs": [],
   "source": [
    "from qmlify.openmm_torch.utils import *"
   ]
  },
  {
   "cell_type": "code",
   "execution_count": 7,
   "id": "4a683660",
   "metadata": {},
   "outputs": [],
   "source": [
    "nonalch_system = testsystem_class.system\n"
   ]
  },
  {
   "cell_type": "code",
   "execution_count": 8,
   "id": "8ca4c1df",
   "metadata": {},
   "outputs": [],
   "source": [
    "nonalch_int = LangevinIntegrator()\n",
    "ml_int = LangevinIntegrator(splitting= 'V0 V1 R O R V1 V0')"
   ]
  },
  {
   "cell_type": "code",
   "execution_count": 9,
   "id": "a21396b3",
   "metadata": {},
   "outputs": [
    {
     "name": "stderr",
     "output_type": "stream",
     "text": [
      "WARNING:utils:Warning: Returning CPU platform instead of requested platform <simtk.openmm.openmm.Platform; proxy of <Swig Object of type 'OpenMM::Platform *' at 0x7f5e0849ded0> >\n",
      "INFO:utils:conducting subsequent work with the following platform: CPU\n"
     ]
    }
   ],
   "source": [
    "platform = configure_platform(utils.get_fastest_platform())"
   ]
  },
  {
   "cell_type": "code",
   "execution_count": 10,
   "id": "8f5daef5",
   "metadata": {},
   "outputs": [],
   "source": [
    "nonalch_context = openmm.Context(nonalch_system, nonalch_int, platform)\n",
    "ml_context = openmm.Context(ml_system, ml_int, platform)"
   ]
  },
  {
   "cell_type": "code",
   "execution_count": 13,
   "id": "90f3ccaa",
   "metadata": {},
   "outputs": [],
   "source": [
    "for context in [nonalch_context, ml_context]:\n",
    "    context.setPositions(testsystem_class.positions)\n",
    "    context.setPeriodicBoxVectors(*testsystem_class.system.getDefaultPeriodicBoxVectors())"
   ]
  },
  {
   "cell_type": "code",
   "execution_count": 14,
   "id": "6fbbaaaa",
   "metadata": {},
   "outputs": [],
   "source": [
    "from time import time"
   ]
  },
  {
   "cell_type": "code",
   "execution_count": 15,
   "id": "071c689f",
   "metadata": {},
   "outputs": [],
   "source": [
    "nonalch_times = []\n",
    "ml_times = []\n",
    "\n",
    "for i in range(100):\n",
    "    timer1 = time()\n",
    "    nonalch_int.step(1)\n",
    "    nonalch_times.append(time() - timer1)\n",
    "    \n",
    "    timer2 = time()\n",
    "    ml_int.step(1)\n",
    "    ml_times.append(time() - timer2)\n",
    "    \n",
    "    "
   ]
  },
  {
   "cell_type": "code",
   "execution_count": 18,
   "id": "22599a48",
   "metadata": {},
   "outputs": [],
   "source": [
    "import numpy as np"
   ]
  },
  {
   "cell_type": "code",
   "execution_count": 20,
   "id": "4b5b498f",
   "metadata": {},
   "outputs": [],
   "source": [
    "nonalch_mean = np.mean(nonalch_times[1:])"
   ]
  },
  {
   "cell_type": "code",
   "execution_count": 21,
   "id": "9cbc751a",
   "metadata": {},
   "outputs": [],
   "source": [
    "ml_mean = np.mean(ml_times[1:])"
   ]
  },
  {
   "cell_type": "code",
   "execution_count": 22,
   "id": "3cfcb814",
   "metadata": {},
   "outputs": [
    {
     "name": "stdout",
     "output_type": "stream",
     "text": [
      "nonalch_mean: 0.024363235993818802\n",
      "ml_mean: 0.14026167898467093\n"
     ]
    }
   ],
   "source": [
    "print(f\"nonalch_mean: {nonalch_mean}\")\n",
    "print(f\"ml_mean: {ml_mean}\")"
   ]
  },
  {
   "cell_type": "code",
   "execution_count": 24,
   "id": "71e07377",
   "metadata": {},
   "outputs": [
    {
     "name": "stdout",
     "output_type": "stream",
     "text": [
      "the ml context runs 17.36984482873718% slower than the mm context\n"
     ]
    }
   ],
   "source": [
    "print(f\"the ml context runs {100 * nonalch_mean / ml_mean}% slower than the mm context\")"
   ]
  },
  {
   "cell_type": "code",
   "execution_count": null,
   "id": "6cc8c7c7",
   "metadata": {},
   "outputs": [],
   "source": []
  }
 ],
 "metadata": {
  "kernelspec": {
   "display_name": "Python 3",
   "language": "python",
   "name": "python3"
  },
  "language_info": {
   "codemirror_mode": {
    "name": "ipython",
    "version": 3
   },
   "file_extension": ".py",
   "mimetype": "text/x-python",
   "name": "python",
   "nbconvert_exporter": "python",
   "pygments_lexer": "ipython3",
   "version": "3.8.10"
  }
 },
 "nbformat": 4,
 "nbformat_minor": 5
}
