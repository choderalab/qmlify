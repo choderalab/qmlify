{
 "cells": [
  {
   "cell_type": "code",
   "execution_count": 1,
   "id": "ce3fcd4d",
   "metadata": {},
   "outputs": [],
   "source": [
    "from qmlify.openmm_torch.utils import prepare_ml_system"
   ]
  },
  {
   "cell_type": "code",
   "execution_count": 2,
   "id": "f97f4dd8",
   "metadata": {},
   "outputs": [],
   "source": [
    "from qmlify.openmm_torch.utils import prepare_ml_system\n",
    "from qmlify.openmm_torch.test_openmm_torch import get_HostGuestExplicit\n",
    "import os\n",
    "testsystem_class = get_HostGuestExplicit()"
   ]
  },
  {
   "cell_type": "code",
   "execution_count": 3,
   "id": "9e264b9d",
   "metadata": {},
   "outputs": [],
   "source": [
    "torch_scale_name = 'torch_scale'\n",
    "torch_scale_default_value = 0."
   ]
  },
  {
   "cell_type": "code",
   "execution_count": 4,
   "id": "7f9aa906",
   "metadata": {},
   "outputs": [
    {
     "name": "stderr",
     "output_type": "stream",
     "text": [
      "INFO:utils:preparing ML system and initializing assertions...\n",
      "INFO:utils:executing torch alchemification wrapper to make ml_system and hybrid_factory\n",
      "INFO:force-hybridization:initializing system modifier...\n",
      "INFO:force-hybridization:found 1 from [1]\n",
      "INFO:force-hybridization:identified 30 to treat with ML.\n",
      "INFO:force-hybridization:modifying harmonic bonds...\n",
      "INFO:force-hybridization:modifying harmonic angles...\n",
      "INFO:force-hybridization:modifying periodic torsions...\n",
      "INFO:force-hybridization:modifying nonbondeds...\n",
      "DEBUG:force-hybridization:iterating over existing exceptions and adding to custom force...\n",
      "DEBUG:force-hybridization:iterating over alchemical particle combinations\n",
      "DEBUG:force-hybridization:enabling rest-like scaling to alchemical particle nonbondeds\n",
      "INFO:torchforce_generator:registering `torch` device...\n",
      "INFO:torchforce_generator:found torch device 'cuda': False\n",
      "DEBUG:torchforce_generator:elements: ['C', 'C', 'C', 'C', 'C', 'C', 'C', 'C', 'C', 'O', 'C', 'O', 'H', 'H', 'H', 'H', 'H', 'H', 'H', 'H', 'H', 'H', 'H', 'H', 'H', 'H', 'H', 'H', 'H', 'H']\n",
      "DEBUG:torchforce_generator:species: tensor([[1, 1, 1, 1, 1, 1, 1, 1, 1, 3, 1, 3, 0, 0, 0, 0, 0, 0, 0, 0, 0, 0, 0, 0,\n",
      "         0, 0, 0, 0, 0, 0]])\n",
      "WARNING:utils:Warning: Returning CPU platform instead of requested platform <simtk.openmm.openmm.Platform; proxy of <Swig Object of type 'OpenMM::Platform *' at 0x7f91595644b0> >\n",
      "INFO:utils:conducting subsequent work with the following platform: CPU\n",
      "DEBUG:utils:ensuring appropriate lambda initialization at lambda0 for alchemical system...\n",
      "DEBUG:utils:ensuring appropriate lambda initialization at lambda0 for ml alchemical system...\n",
      "DEBUG:utils:computing potential components of _all_ contexts...standby.\n",
      "INFO:utils:conducting subsequent work with the following platform: CPU\n",
      "INFO:utils:conducting subsequent work with the following platform: CPU\n",
      "INFO:utils:checking mm bookkeeping energies...\n",
      "INFO:utils:checking mm bookkeeping energies...\n"
     ]
    }
   ],
   "source": [
    "ml_system, hybrid_factory = prepare_ml_system(                          \n",
    "                          positions = testsystem_class.positions,\n",
    "                          topology = testsystem_class.topology,\n",
    "                          system = testsystem_class.system,\n",
    "                          residue_indices = [1],\n",
    "                          model_name='ani2x',\n",
    "                          save_filename = 'repex.pt',\n",
    "                          torch_scale_name=torch_scale_name,\n",
    "                          torch_scale_default_value=torch_scale_default_value,\n",
    "                          HybridSystemFactory_kwargs = {},\n",
    "                          minimizer_kwargs = {'maxIterations': 1000}\n",
    "                          )"
   ]
  },
  {
   "cell_type": "code",
   "execution_count": 5,
   "id": "260ec782",
   "metadata": {},
   "outputs": [],
   "source": [
    "from qmlify.openmm_torch.utils import configure_platform\n",
    "from openmmtools import utils\n",
    "from openmmtools.integrators import LangevinIntegrator\n",
    "import simtk"
   ]
  },
  {
   "cell_type": "code",
   "execution_count": 6,
   "id": "c3f0cd43",
   "metadata": {},
   "outputs": [],
   "source": [
    "from openmmtools import cache\n",
    "from openmmtools.states import SamplerState, ThermodynamicState, CompoundThermodynamicState\n"
   ]
  },
  {
   "cell_type": "code",
   "execution_count": 7,
   "id": "55fa9512",
   "metadata": {},
   "outputs": [],
   "source": [
    "sampler_state = SamplerState(testsystem_class.positions, box_vectors=testsystem_class.system.getDefaultPeriodicBoxVectors())"
   ]
  },
  {
   "cell_type": "code",
   "execution_count": 8,
   "id": "afc487bf",
   "metadata": {},
   "outputs": [],
   "source": [
    "from qmlify.openmm_torch.utils import *"
   ]
  },
  {
   "cell_type": "code",
   "execution_count": 9,
   "id": "bdeab9bf",
   "metadata": {},
   "outputs": [],
   "source": [
    "thermostate = ThermodynamicState(ml_system, temperature = DEFAULT_TEMPERATURE)"
   ]
  },
  {
   "cell_type": "code",
   "execution_count": 10,
   "id": "b78927e8",
   "metadata": {},
   "outputs": [
    {
     "data": {
      "text/plain": [
       "{'lambda_MM_angles': 1.0,\n",
       " 'lambda_MM_bonds': 1.0,\n",
       " 'lambda_MM_torsions': 1.0,\n",
       " 'lambda_electrostatic_scale': 0.0,\n",
       " 'lambda_epsilon_scale': 0.0,\n",
       " 'lambda_nonbonded_MM_electrostatics': 0.0,\n",
       " 'lambda_nonbonded_MM_sterics': 0.0,\n",
       " 'lambda_scale': 1.0}"
      ]
     },
     "execution_count": 10,
     "metadata": {},
     "output_type": "execute_result"
    }
   ],
   "source": [
    "DEFAULT_LAMBDA0s"
   ]
  },
  {
   "cell_type": "code",
   "execution_count": 11,
   "id": "7fa155fe",
   "metadata": {},
   "outputs": [],
   "source": [
    "class Protocol(object):\n",
    "\n",
    "    def __init__(self, \n",
    "                 alchemical_lambda, \n",
    "                 T_low, \n",
    "                 T_target):\n",
    "        from openmmtools.constants import kB\n",
    "        import numpy as np\n",
    "        beta0 = 1. / (kB * T_low)\n",
    "        beta = 1. / (kB * T_target)\n",
    "        \n",
    "        functions = {'lambda_MM_bonds': lambda x, beta0, beta: 1 - x,\n",
    "                         \n",
    "                     'lambda_MM_angles': lambda x, beta0, beta: 1 - x,\n",
    "                         \n",
    "                     'lambda_MM_torsions': lambda x, beta0, beta: 1 - x,\n",
    "                         \n",
    "                     'lambda_electrostatic_scale': lambda x, beta0, beta: np.sqrt(beta / beta0) - 1.,\n",
    "                         \n",
    "                     'lambda_epsilon_scale': lambda x, beta0, beta: (beta / beta0) - 1.,\n",
    "                         \n",
    "                     'lambda_nonbonded_MM_electrostatics': lambda x, beta0, beta: x,\n",
    "                         \n",
    "                     'lambda_nonbonded_MM_sterics': lambda x, beta0, beta: x,\n",
    "                         \n",
    "                     'lambda_scale': lambda x, beta0, beta: beta / beta0,\n",
    "                         \n",
    "                     'torch_scale': lambda x, beta0, beta: x,\n",
    "                         \n",
    "                     'auxiliary_torch_scale': lambda x, beta0, beta : beta / beta0\n",
    "                    }\n",
    "        outters = {}\n",
    "        for name, _function in functions.items():\n",
    "            outters[name] = _function(alchemical_lambda, beta0, beta)\n",
    "        \n",
    "        self.lambdas = outters\n",
    "        \n",
    "        \n",
    "        \n",
    "        "
   ]
  },
  {
   "cell_type": "code",
   "execution_count": 12,
   "id": "4331ef80",
   "metadata": {},
   "outputs": [],
   "source": [
    "from openmmtools.alchemy import AlchemicalState\n",
    "class TorchAlchemicalState(AlchemicalState):\n",
    "    \"\"\"\n",
    "    \"\"\"\n",
    "    \n",
    "    #add the lambda_validator\n",
    "    class _LambdaParameter(AlchemicalState._LambdaParameter):\n",
    "        @staticmethod\n",
    "        def lambda_validator(self, instance, parameter_value):\n",
    "            if parameter_value is None:\n",
    "                return parameter_value\n",
    "            return float(parameter_value)\n",
    "    \n",
    "    # alchemical\n",
    "    lambda_MM_bonds = _LambdaParameter('lambda_MM_bonds')\n",
    "    lambda_MM_angles = _LambdaParameter('lambda_MM_angles')\n",
    "    lambda_MM_torsions = _LambdaParameter('lambda_MM_torsions')\n",
    "    lambda_electrostatic_scale = _LambdaParameter('lambda_electrostatic_scale')\n",
    "    lambda_epsilon_scale = _LambdaParameter('lambda_epsilon_scale')\n",
    "    lambda_nonbonded_MM_electrostatics = _LambdaParameter('lambda_nonbonded_MM_electrostatics')\n",
    "    lambda_nonbonded_MM_sterics = _LambdaParameter('lambda_nonbonded_MM_sterics')\n",
    "    lambda_scale = _LambdaParameter('lambda_scale')\n",
    "    \n",
    "    #ml\n",
    "    torch_scale = _LambdaParameter('torch_scale')\n",
    "    auxiliary_torch_scale = _LambdaParameter('auxiliary_torch_scale')\n",
    "    \n",
    "    def set_alchemical_parameters(self, lambda_protocol):\n",
    "        for parameter_name in lambda_protocol:\n",
    "            lambda_value = lambda_protocol[parameter_name]\n",
    "            setattr(self, parameter_name, lambda_value)\n",
    "\n",
    "    \n",
    "    "
   ]
  },
  {
   "cell_type": "code",
   "execution_count": 13,
   "id": "3845cccb",
   "metadata": {},
   "outputs": [],
   "source": [
    "import math\n",
    "import numpy as np\n",
    "num_replicas = 7\n",
    "num_temps = num_replicas // 2 + 1  # Number of temperature replicas.\n",
    "T_min = 300.0 * unit.kelvin  # Minimum temperature.\n",
    "T_max = 800.0 * unit.kelvin  # Maximum temperature.\n",
    "temperatures = [T_min + (T_max - T_min) * (math.exp(float(i) / float(num_temps-1)) - 1.0) / (math.e - 1.0)\n",
    "    for i in range(num_temps)]\n",
    "all_temperatures = temperatures + temperatures[::-1][1:]\n",
    "alch_lambdas = np.linspace(0,1,num_replicas)\n",
    "\n",
    "#all_temps = temperatures + temperatures[1:][::-1]"
   ]
  },
  {
   "cell_type": "code",
   "execution_count": 14,
   "id": "3b1f55f6",
   "metadata": {},
   "outputs": [
    {
     "data": {
      "text/plain": [
       "[Quantity(value=300.0, unit=kelvin),\n",
       " Quantity(value=415.11860817409524, unit=kelvin),\n",
       " Quantity(value=575.7795681004795, unit=kelvin),\n",
       " Quantity(value=800.0, unit=kelvin),\n",
       " Quantity(value=575.7795681004795, unit=kelvin),\n",
       " Quantity(value=415.11860817409524, unit=kelvin),\n",
       " Quantity(value=300.0, unit=kelvin)]"
      ]
     },
     "execution_count": 14,
     "metadata": {},
     "output_type": "execute_result"
    }
   ],
   "source": [
    "all_temperatures"
   ]
  },
  {
   "cell_type": "code",
   "execution_count": 15,
   "id": "8b39223d",
   "metadata": {},
   "outputs": [],
   "source": [
    "lam_zero_alch_state = TorchAlchemicalState.from_system(ml_system)"
   ]
  },
  {
   "cell_type": "code",
   "execution_count": 16,
   "id": "93f009a1",
   "metadata": {},
   "outputs": [],
   "source": [
    "compound_thermostate = CompoundThermodynamicState(thermostate, composable_states=[lam_zero_alch_state\n",
    "                                                                                 ])"
   ]
  },
  {
   "cell_type": "code",
   "execution_count": 17,
   "id": "461d4019",
   "metadata": {},
   "outputs": [],
   "source": [
    "import copy"
   ]
  },
  {
   "cell_type": "code",
   "execution_count": 18,
   "id": "dead3aa8",
   "metadata": {},
   "outputs": [],
   "source": [
    "thermostate_list = []"
   ]
  },
  {
   "cell_type": "code",
   "execution_count": 19,
   "id": "df9005b2",
   "metadata": {},
   "outputs": [],
   "source": [
    "for alch_lam, temp in zip(alch_lambdas, all_temperatures):\n",
    "    comp_thermostate_copy = copy.deepcopy(compound_thermostate)\n",
    "    protocol = Protocol(alch_lam, all_temperatures[0], temp).lambdas\n",
    "    comp_thermostate_copy.set_alchemical_parameters(protocol)\n",
    "    thermostate_list.append(comp_thermostate_copy)\n",
    "                                                    "
   ]
  },
  {
   "cell_type": "code",
   "execution_count": 30,
   "id": "149d9299",
   "metadata": {},
   "outputs": [],
   "source": [
    "sampler_states = [copy.deepcopy(sampler_state) for i in range(num_replicas)]"
   ]
  },
  {
   "cell_type": "code",
   "execution_count": 31,
   "id": "33bfb361",
   "metadata": {},
   "outputs": [],
   "source": [
    "import openmmtools"
   ]
  },
  {
   "cell_type": "code",
   "execution_count": 32,
   "id": "997e60eb",
   "metadata": {},
   "outputs": [],
   "source": [
    "move = openmmtools.mcmc.LangevinSplittingDynamicsMove(n_steps=1, splitting='V0 V1 R O R V1 V0')"
   ]
  },
  {
   "cell_type": "code",
   "execution_count": 34,
   "id": "2adc2be7",
   "metadata": {},
   "outputs": [],
   "source": [
    "import tempfile"
   ]
  },
  {
   "cell_type": "code",
   "execution_count": 37,
   "id": "a3c75b2f",
   "metadata": {},
   "outputs": [
    {
     "name": "stderr",
     "output_type": "stream",
     "text": [
      "WARNING:openmmtools.multistate.multistatesampler:Warning: The openmmtools.multistate API is experimental and may change in future releases\n"
     ]
    }
   ],
   "source": [
    "simulation = openmmtools.multistate.ReplicaExchangeSampler(mcmc_moves=move, number_of_iterations=2)"
   ]
  },
  {
   "cell_type": "code",
   "execution_count": 38,
   "id": "83fd72b8",
   "metadata": {},
   "outputs": [
    {
     "name": "stderr",
     "output_type": "stream",
     "text": [
      "WARNING:openmmtools.multistate.multistatereporter:Warning: The openmmtools.multistate API is experimental and may change in future releases\n",
      "DEBUG:openmmtools.multistate.multistatereporter:Initial checkpoint file automatically chosen as /tmp/tmp3q8mrinc_checkpoint.nc\n"
     ]
    }
   ],
   "source": [
    "storage_path = tempfile.NamedTemporaryFile(delete=False).name + '.nc'\n",
    "reporter = openmmtools.multistate.MultiStateReporter(storage_path, checkpoint_interval=1)"
   ]
  },
  {
   "cell_type": "code",
   "execution_count": 39,
   "id": "fd8e1625",
   "metadata": {},
   "outputs": [
    {
     "name": "stderr",
     "output_type": "stream",
     "text": [
      "DEBUG:mpiplus.mpiplus:Cannot find MPI environment. MPI disabled.\n",
      "DEBUG:mpiplus.mpiplus:Single node: executing <bound method MultiStateReporter.storage_exists of <openmmtools.multistate.multistatereporter.MultiStateReporter object at 0x7f91553dd2e0>>\n",
      "DEBUG:mpiplus.mpiplus:Single node: executing <function ReplicaExchangeSampler._display_citations at 0x7f915a29c3a0>\n",
      "DEBUG:mpiplus.mpiplus:Single node: executing <function MultiStateSampler._display_citations at 0x7f915ffb89d0>\n",
      "DEBUG:mpiplus.mpiplus:Single node: executing <function MultiStateSampler._initialize_reporter at 0x7f915ffb8ca0>\n",
      "DEBUG:openmmtools.multistate.multistatereporter:Serialized state thermodynamic_states/0 is  63533B | 62.044KB | 0.061MB\n",
      "DEBUG:openmmtools.utils:Storing thermodynamic states took    0.088s\n",
      "DEBUG:openmmtools.multistate.multistatesampler:Storing general ReplicaExchange options...\n",
      "DEBUG:mpiplus.mpiplus:Single node: executing <function MultiStateSampler._report_iteration at 0x7f915ffb8dc0>\n",
      "DEBUG:mpiplus.mpiplus:Single node: executing <function MultiStateSampler._report_iteration_items at 0x7f915ffbb0d0>\n",
      "DEBUG:openmmtools.utils:Storing sampler states took    0.007s\n",
      "DEBUG:openmmtools.utils:Writing iteration information to storage took    0.027s\n"
     ]
    },
    {
     "name": "stdout",
     "output_type": "stream",
     "text": [
      "Please cite the following:\n",
      "\n",
      "        Friedrichs MS, Eastman P, Vaidyanathan V, Houston M, LeGrand S, Beberg AL, Ensign DL, Bruns CM, and Pande VS. Accelerating molecular dynamic simulations on graphics processing unit. J. Comput. Chem. 30:864, 2009. DOI: 10.1002/jcc.21209\n",
      "        Eastman P and Pande VS. OpenMM: A hardware-independent framework for molecular simulations. Comput. Sci. Eng. 12:34, 2010. DOI: 10.1109/MCSE.2010.27\n",
      "        Eastman P and Pande VS. Efficient nonbonded interactions for molecular dynamics on a graphics processing unit. J. Comput. Chem. 31:1268, 2010. DOI: 10.1002/jcc.21413\n",
      "        Eastman P and Pande VS. Constant constraint matrix approximation: A robust, parallelizable constraint method for molecular simulations. J. Chem. Theor. Comput. 6:434, 2010. DOI: 10.1021/ct900463w\n",
      "        Chodera JD and Shirts MR. Replica exchange and expanded ensemble simulations as Gibbs multistate: Simple improvements for enhanced mixing. J. Chem. Phys., 135:194110, 2011. DOI:10.1063/1.3660669\n",
      "        \n"
     ]
    }
   ],
   "source": [
    "simulation.create(thermodynamic_states=thermostate_list,\n",
    "                   sampler_states=sampler_states,\n",
    "                   storage=reporter)"
   ]
  },
  {
   "cell_type": "code",
   "execution_count": null,
   "id": "32743252",
   "metadata": {},
   "outputs": [],
   "source": []
  },
  {
   "cell_type": "code",
   "execution_count": 40,
   "id": "904287b2",
   "metadata": {},
   "outputs": [
    {
     "name": "stderr",
     "output_type": "stream",
     "text": [
      "DEBUG:mpiplus.mpiplus:Running _compute_replica_energies serially.\n"
     ]
    },
    {
     "ename": "AlchemicalStateError",
     "evalue": "Could not find global parameter torch_scale in the system.",
     "output_type": "error",
     "traceback": [
      "\u001b[0;31m---------------------------------------------------------------------------\u001b[0m",
      "\u001b[0;31mKeyError\u001b[0m                                  Traceback (most recent call last)",
      "\u001b[0;32m~/anaconda3/envs/perses-torch/lib/python3.8/site-packages/openmmtools/cache.py\u001b[0m in \u001b[0;36mget_context\u001b[0;34m(self, thermodynamic_state, integrator)\u001b[0m\n\u001b[1;32m    444\u001b[0m             \u001b[0;32mtry\u001b[0m\u001b[0;34m:\u001b[0m\u001b[0;34m\u001b[0m\u001b[0;34m\u001b[0m\u001b[0m\n\u001b[0;32m--> 445\u001b[0;31m                 \u001b[0mcontext\u001b[0m \u001b[0;34m=\u001b[0m \u001b[0mself\u001b[0m\u001b[0;34m.\u001b[0m\u001b[0m_lru\u001b[0m\u001b[0;34m[\u001b[0m\u001b[0mcontext_id\u001b[0m\u001b[0;34m]\u001b[0m\u001b[0;34m\u001b[0m\u001b[0;34m\u001b[0m\u001b[0m\n\u001b[0m\u001b[1;32m    446\u001b[0m             \u001b[0;32mexcept\u001b[0m \u001b[0mKeyError\u001b[0m\u001b[0;34m:\u001b[0m\u001b[0;34m\u001b[0m\u001b[0;34m\u001b[0m\u001b[0m\n",
      "\u001b[0;32m~/anaconda3/envs/perses-torch/lib/python3.8/site-packages/openmmtools/cache.py\u001b[0m in \u001b[0;36m__getitem__\u001b[0;34m(self, key)\u001b[0m\n\u001b[1;32m    146\u001b[0m         \u001b[0;31m# end to make it the most recently used.\u001b[0m\u001b[0;34m\u001b[0m\u001b[0;34m\u001b[0m\u001b[0;34m\u001b[0m\u001b[0m\n\u001b[0;32m--> 147\u001b[0;31m         \u001b[0mentry\u001b[0m \u001b[0;34m=\u001b[0m \u001b[0mself\u001b[0m\u001b[0;34m.\u001b[0m\u001b[0m_data\u001b[0m\u001b[0;34m.\u001b[0m\u001b[0mpop\u001b[0m\u001b[0;34m(\u001b[0m\u001b[0mkey\u001b[0m\u001b[0;34m)\u001b[0m\u001b[0;34m\u001b[0m\u001b[0;34m\u001b[0m\u001b[0m\n\u001b[0m\u001b[1;32m    148\u001b[0m         \u001b[0mself\u001b[0m\u001b[0;34m.\u001b[0m\u001b[0m_data\u001b[0m\u001b[0;34m[\u001b[0m\u001b[0mkey\u001b[0m\u001b[0;34m]\u001b[0m \u001b[0;34m=\u001b[0m \u001b[0mentry\u001b[0m\u001b[0;34m\u001b[0m\u001b[0;34m\u001b[0m\u001b[0m\n",
      "\u001b[0;31mKeyError\u001b[0m: (-8463096874039042420, 520451547302546690)",
      "\nDuring handling of the above exception, another exception occurred:\n",
      "\u001b[0;31mAlchemicalStateError\u001b[0m                      Traceback (most recent call last)",
      "\u001b[0;32m<ipython-input-40-3fc69adf90d3>\u001b[0m in \u001b[0;36m<module>\u001b[0;34m\u001b[0m\n\u001b[0;32m----> 1\u001b[0;31m \u001b[0msimulation\u001b[0m\u001b[0;34m.\u001b[0m\u001b[0mrun\u001b[0m\u001b[0;34m(\u001b[0m\u001b[0;34m)\u001b[0m\u001b[0;34m\u001b[0m\u001b[0;34m\u001b[0m\u001b[0m\n\u001b[0m",
      "\u001b[0;32m~/anaconda3/envs/perses-torch/lib/python3.8/site-packages/openmmtools/multistate/multistatesampler.py\u001b[0m in \u001b[0;36mrun\u001b[0;34m(self, n_iterations)\u001b[0m\n\u001b[1;32m    650\u001b[0m                 \u001b[0;32melse\u001b[0m\u001b[0;34m:\u001b[0m\u001b[0;34m\u001b[0m\u001b[0;34m\u001b[0m\u001b[0m\n\u001b[1;32m    651\u001b[0m                     \u001b[0;31m# If not the special case, raise the error normally\u001b[0m\u001b[0;34m\u001b[0m\u001b[0;34m\u001b[0m\u001b[0;34m\u001b[0m\u001b[0m\n\u001b[0;32m--> 652\u001b[0;31m                     \u001b[0;32mraise\u001b[0m \u001b[0me\u001b[0m\u001b[0;34m\u001b[0m\u001b[0;34m\u001b[0m\u001b[0m\n\u001b[0m\u001b[1;32m    653\u001b[0m             mpiplus.run_single_node(0, self._reporter.write_energies, self._energy_thermodynamic_states,\n\u001b[1;32m    654\u001b[0m                                 self._neighborhoods, self._energy_unsampled_states, self._iteration)\n",
      "\u001b[0;32m~/anaconda3/envs/perses-torch/lib/python3.8/site-packages/openmmtools/multistate/multistatesampler.py\u001b[0m in \u001b[0;36mrun\u001b[0;34m(self, n_iterations)\u001b[0m\n\u001b[1;32m    640\u001b[0m         \u001b[0;32mif\u001b[0m \u001b[0mself\u001b[0m\u001b[0;34m.\u001b[0m\u001b[0m_iteration\u001b[0m \u001b[0;34m==\u001b[0m \u001b[0;36m0\u001b[0m\u001b[0;34m:\u001b[0m\u001b[0;34m\u001b[0m\u001b[0;34m\u001b[0m\u001b[0m\n\u001b[1;32m    641\u001b[0m             \u001b[0;32mtry\u001b[0m\u001b[0;34m:\u001b[0m\u001b[0;34m\u001b[0m\u001b[0;34m\u001b[0m\u001b[0m\n\u001b[0;32m--> 642\u001b[0;31m                 \u001b[0mself\u001b[0m\u001b[0;34m.\u001b[0m\u001b[0m_compute_energies\u001b[0m\u001b[0;34m(\u001b[0m\u001b[0;34m)\u001b[0m\u001b[0;34m\u001b[0m\u001b[0;34m\u001b[0m\u001b[0m\n\u001b[0m\u001b[1;32m    643\u001b[0m             \u001b[0;31m# We're intercepting a possible initial NaN position here thrown by OpenMM, which is a simple exception\u001b[0m\u001b[0;34m\u001b[0m\u001b[0;34m\u001b[0m\u001b[0;34m\u001b[0m\u001b[0m\n\u001b[1;32m    644\u001b[0m             \u001b[0;31m# So we have to under-specify this trap.\u001b[0m\u001b[0;34m\u001b[0m\u001b[0;34m\u001b[0m\u001b[0;34m\u001b[0m\u001b[0m\n",
      "\u001b[0;32m~/anaconda3/envs/perses-torch/lib/python3.8/site-packages/openmmtools/utils.py\u001b[0m in \u001b[0;36m_wrapper\u001b[0;34m(*args, **kwargs)\u001b[0m\n\u001b[1;32m     88\u001b[0m         \u001b[0;32mdef\u001b[0m \u001b[0m_wrapper\u001b[0m\u001b[0;34m(\u001b[0m\u001b[0;34m*\u001b[0m\u001b[0margs\u001b[0m\u001b[0;34m,\u001b[0m \u001b[0;34m**\u001b[0m\u001b[0mkwargs\u001b[0m\u001b[0;34m)\u001b[0m\u001b[0;34m:\u001b[0m\u001b[0;34m\u001b[0m\u001b[0;34m\u001b[0m\u001b[0m\n\u001b[1;32m     89\u001b[0m             \u001b[0;32mwith\u001b[0m \u001b[0mtime_it\u001b[0m\u001b[0;34m(\u001b[0m\u001b[0mtask_name\u001b[0m\u001b[0;34m)\u001b[0m\u001b[0;34m:\u001b[0m\u001b[0;34m\u001b[0m\u001b[0;34m\u001b[0m\u001b[0m\n\u001b[0;32m---> 90\u001b[0;31m                 \u001b[0;32mreturn\u001b[0m \u001b[0mfunc\u001b[0m\u001b[0;34m(\u001b[0m\u001b[0;34m*\u001b[0m\u001b[0margs\u001b[0m\u001b[0;34m,\u001b[0m \u001b[0;34m**\u001b[0m\u001b[0mkwargs\u001b[0m\u001b[0;34m)\u001b[0m\u001b[0;34m\u001b[0m\u001b[0;34m\u001b[0m\u001b[0m\n\u001b[0m\u001b[1;32m     91\u001b[0m         \u001b[0;32mreturn\u001b[0m \u001b[0m_wrapper\u001b[0m\u001b[0;34m\u001b[0m\u001b[0;34m\u001b[0m\u001b[0m\n\u001b[1;32m     92\u001b[0m     \u001b[0;32mreturn\u001b[0m \u001b[0m_with_timer\u001b[0m\u001b[0;34m\u001b[0m\u001b[0;34m\u001b[0m\u001b[0m\n",
      "\u001b[0;32m~/anaconda3/envs/perses-torch/lib/python3.8/site-packages/openmmtools/multistate/multistatesampler.py\u001b[0m in \u001b[0;36m_compute_energies\u001b[0;34m(self)\u001b[0m\n\u001b[1;32m   1316\u001b[0m         \u001b[0;31m# Distribute energy computation across nodes. Only node 0 receives\u001b[0m\u001b[0;34m\u001b[0m\u001b[0;34m\u001b[0m\u001b[0;34m\u001b[0m\u001b[0m\n\u001b[1;32m   1317\u001b[0m         \u001b[0;31m# all the energies since it needs to store them and mix states.\u001b[0m\u001b[0;34m\u001b[0m\u001b[0;34m\u001b[0m\u001b[0;34m\u001b[0m\u001b[0m\n\u001b[0;32m-> 1318\u001b[0;31m         new_energies, replica_ids = mpiplus.distribute(self._compute_replica_energies, range(self.n_replicas),\n\u001b[0m\u001b[1;32m   1319\u001b[0m                                                    send_results_to=0)\n\u001b[1;32m   1320\u001b[0m \u001b[0;34m\u001b[0m\u001b[0m\n",
      "\u001b[0;32m~/anaconda3/envs/perses-torch/lib/python3.8/site-packages/mpiplus/mpiplus.py\u001b[0m in \u001b[0;36mdistribute\u001b[0;34m(task, distributed_args, send_results_to, propagate_exceptions_to, sync_nodes, group_size, *other_args, **kwargs)\u001b[0m\n\u001b[1;32m    510\u001b[0m     \u001b[0;32mif\u001b[0m \u001b[0mget_mpicomm\u001b[0m\u001b[0;34m(\u001b[0m\u001b[0;34m)\u001b[0m \u001b[0;32mis\u001b[0m \u001b[0;32mNone\u001b[0m\u001b[0;34m:\u001b[0m\u001b[0;34m\u001b[0m\u001b[0;34m\u001b[0m\u001b[0m\n\u001b[1;32m    511\u001b[0m         \u001b[0mlogger\u001b[0m\u001b[0;34m.\u001b[0m\u001b[0mdebug\u001b[0m\u001b[0;34m(\u001b[0m\u001b[0;34m'Running {} serially.'\u001b[0m\u001b[0;34m.\u001b[0m\u001b[0mformat\u001b[0m\u001b[0;34m(\u001b[0m\u001b[0mtask\u001b[0m\u001b[0;34m.\u001b[0m\u001b[0m__name__\u001b[0m\u001b[0;34m)\u001b[0m\u001b[0;34m)\u001b[0m\u001b[0;34m\u001b[0m\u001b[0;34m\u001b[0m\u001b[0m\n\u001b[0;32m--> 512\u001b[0;31m         \u001b[0mall_results\u001b[0m \u001b[0;34m=\u001b[0m \u001b[0;34m[\u001b[0m\u001b[0mtask\u001b[0m\u001b[0;34m(\u001b[0m\u001b[0mjob_args\u001b[0m\u001b[0;34m,\u001b[0m \u001b[0;34m*\u001b[0m\u001b[0mother_args\u001b[0m\u001b[0;34m,\u001b[0m \u001b[0;34m**\u001b[0m\u001b[0mkwargs\u001b[0m\u001b[0;34m)\u001b[0m \u001b[0;32mfor\u001b[0m \u001b[0mjob_args\u001b[0m \u001b[0;32min\u001b[0m \u001b[0mdistributed_args\u001b[0m\u001b[0;34m]\u001b[0m\u001b[0;34m\u001b[0m\u001b[0;34m\u001b[0m\u001b[0m\n\u001b[0m\u001b[1;32m    513\u001b[0m         \u001b[0;32mif\u001b[0m \u001b[0msend_results_to\u001b[0m \u001b[0;34m==\u001b[0m \u001b[0;34m'all'\u001b[0m\u001b[0;34m:\u001b[0m\u001b[0;34m\u001b[0m\u001b[0;34m\u001b[0m\u001b[0m\n\u001b[1;32m    514\u001b[0m             \u001b[0;32mreturn\u001b[0m \u001b[0mall_results\u001b[0m\u001b[0;34m\u001b[0m\u001b[0;34m\u001b[0m\u001b[0m\n",
      "\u001b[0;32m~/anaconda3/envs/perses-torch/lib/python3.8/site-packages/mpiplus/mpiplus.py\u001b[0m in \u001b[0;36m<listcomp>\u001b[0;34m(.0)\u001b[0m\n\u001b[1;32m    510\u001b[0m     \u001b[0;32mif\u001b[0m \u001b[0mget_mpicomm\u001b[0m\u001b[0;34m(\u001b[0m\u001b[0;34m)\u001b[0m \u001b[0;32mis\u001b[0m \u001b[0;32mNone\u001b[0m\u001b[0;34m:\u001b[0m\u001b[0;34m\u001b[0m\u001b[0;34m\u001b[0m\u001b[0m\n\u001b[1;32m    511\u001b[0m         \u001b[0mlogger\u001b[0m\u001b[0;34m.\u001b[0m\u001b[0mdebug\u001b[0m\u001b[0;34m(\u001b[0m\u001b[0;34m'Running {} serially.'\u001b[0m\u001b[0;34m.\u001b[0m\u001b[0mformat\u001b[0m\u001b[0;34m(\u001b[0m\u001b[0mtask\u001b[0m\u001b[0;34m.\u001b[0m\u001b[0m__name__\u001b[0m\u001b[0;34m)\u001b[0m\u001b[0;34m)\u001b[0m\u001b[0;34m\u001b[0m\u001b[0;34m\u001b[0m\u001b[0m\n\u001b[0;32m--> 512\u001b[0;31m         \u001b[0mall_results\u001b[0m \u001b[0;34m=\u001b[0m \u001b[0;34m[\u001b[0m\u001b[0mtask\u001b[0m\u001b[0;34m(\u001b[0m\u001b[0mjob_args\u001b[0m\u001b[0;34m,\u001b[0m \u001b[0;34m*\u001b[0m\u001b[0mother_args\u001b[0m\u001b[0;34m,\u001b[0m \u001b[0;34m**\u001b[0m\u001b[0mkwargs\u001b[0m\u001b[0;34m)\u001b[0m \u001b[0;32mfor\u001b[0m \u001b[0mjob_args\u001b[0m \u001b[0;32min\u001b[0m \u001b[0mdistributed_args\u001b[0m\u001b[0;34m]\u001b[0m\u001b[0;34m\u001b[0m\u001b[0;34m\u001b[0m\u001b[0m\n\u001b[0m\u001b[1;32m    513\u001b[0m         \u001b[0;32mif\u001b[0m \u001b[0msend_results_to\u001b[0m \u001b[0;34m==\u001b[0m \u001b[0;34m'all'\u001b[0m\u001b[0;34m:\u001b[0m\u001b[0;34m\u001b[0m\u001b[0;34m\u001b[0m\u001b[0m\n\u001b[1;32m    514\u001b[0m             \u001b[0;32mreturn\u001b[0m \u001b[0mall_results\u001b[0m\u001b[0;34m\u001b[0m\u001b[0;34m\u001b[0m\u001b[0m\n",
      "\u001b[0;32m~/anaconda3/envs/perses-torch/lib/python3.8/site-packages/openmmtools/multistate/multistatesampler.py\u001b[0m in \u001b[0;36m_compute_replica_energies\u001b[0;34m(self, replica_id)\u001b[0m\n\u001b[1;32m   1349\u001b[0m             \u001b[0;32mfor\u001b[0m \u001b[0mcompatible_group\u001b[0m\u001b[0;34m,\u001b[0m \u001b[0mstate_indices\u001b[0m \u001b[0;32min\u001b[0m \u001b[0mzip\u001b[0m\u001b[0;34m(\u001b[0m\u001b[0mcompatible_groups\u001b[0m\u001b[0;34m,\u001b[0m \u001b[0moriginal_indices\u001b[0m\u001b[0;34m)\u001b[0m\u001b[0;34m:\u001b[0m\u001b[0;34m\u001b[0m\u001b[0;34m\u001b[0m\u001b[0m\n\u001b[1;32m   1350\u001b[0m                 \u001b[0;31m# Get the context, any Integrator works.\u001b[0m\u001b[0;34m\u001b[0m\u001b[0;34m\u001b[0m\u001b[0;34m\u001b[0m\u001b[0m\n\u001b[0;32m-> 1351\u001b[0;31m                 \u001b[0mcontext\u001b[0m\u001b[0;34m,\u001b[0m \u001b[0mintegrator\u001b[0m \u001b[0;34m=\u001b[0m \u001b[0mcache\u001b[0m\u001b[0;34m.\u001b[0m\u001b[0mglobal_context_cache\u001b[0m\u001b[0;34m.\u001b[0m\u001b[0mget_context\u001b[0m\u001b[0;34m(\u001b[0m\u001b[0mcompatible_group\u001b[0m\u001b[0;34m[\u001b[0m\u001b[0;36m0\u001b[0m\u001b[0;34m]\u001b[0m\u001b[0;34m)\u001b[0m\u001b[0;34m\u001b[0m\u001b[0;34m\u001b[0m\u001b[0m\n\u001b[0m\u001b[1;32m   1352\u001b[0m \u001b[0;34m\u001b[0m\u001b[0m\n\u001b[1;32m   1353\u001b[0m                 \u001b[0;31m# Update positions and box vectors. We don't need\u001b[0m\u001b[0;34m\u001b[0m\u001b[0;34m\u001b[0m\u001b[0;34m\u001b[0m\u001b[0m\n",
      "\u001b[0;32m~/anaconda3/envs/perses-torch/lib/python3.8/site-packages/openmmtools/cache.py\u001b[0m in \u001b[0;36mget_context\u001b[0;34m(self, thermodynamic_state, integrator)\u001b[0m\n\u001b[1;32m    445\u001b[0m                 \u001b[0mcontext\u001b[0m \u001b[0;34m=\u001b[0m \u001b[0mself\u001b[0m\u001b[0;34m.\u001b[0m\u001b[0m_lru\u001b[0m\u001b[0;34m[\u001b[0m\u001b[0mcontext_id\u001b[0m\u001b[0;34m]\u001b[0m\u001b[0;34m\u001b[0m\u001b[0;34m\u001b[0m\u001b[0m\n\u001b[1;32m    446\u001b[0m             \u001b[0;32mexcept\u001b[0m \u001b[0mKeyError\u001b[0m\u001b[0;34m:\u001b[0m\u001b[0;34m\u001b[0m\u001b[0;34m\u001b[0m\u001b[0m\n\u001b[0;32m--> 447\u001b[0;31m                 \u001b[0mcontext\u001b[0m \u001b[0;34m=\u001b[0m \u001b[0mthermodynamic_state\u001b[0m\u001b[0;34m.\u001b[0m\u001b[0mcreate_context\u001b[0m\u001b[0;34m(\u001b[0m\u001b[0mintegrator\u001b[0m\u001b[0;34m,\u001b[0m \u001b[0mself\u001b[0m\u001b[0;34m.\u001b[0m\u001b[0m_platform\u001b[0m\u001b[0;34m,\u001b[0m \u001b[0mself\u001b[0m\u001b[0;34m.\u001b[0m\u001b[0m_platform_properties\u001b[0m\u001b[0;34m)\u001b[0m\u001b[0;34m\u001b[0m\u001b[0;34m\u001b[0m\u001b[0m\n\u001b[0m\u001b[1;32m    448\u001b[0m             \u001b[0mself\u001b[0m\u001b[0;34m.\u001b[0m\u001b[0m_lru\u001b[0m\u001b[0;34m[\u001b[0m\u001b[0mcontext_id\u001b[0m\u001b[0;34m]\u001b[0m \u001b[0;34m=\u001b[0m \u001b[0mcontext\u001b[0m\u001b[0;34m\u001b[0m\u001b[0;34m\u001b[0m\u001b[0m\n\u001b[1;32m    449\u001b[0m         \u001b[0mcontext_integrator\u001b[0m \u001b[0;34m=\u001b[0m \u001b[0mcontext\u001b[0m\u001b[0;34m.\u001b[0m\u001b[0mgetIntegrator\u001b[0m\u001b[0;34m(\u001b[0m\u001b[0;34m)\u001b[0m\u001b[0;34m\u001b[0m\u001b[0;34m\u001b[0m\u001b[0m\n",
      "\u001b[0;32m~/anaconda3/envs/perses-torch/lib/python3.8/site-packages/openmmtools/states.py\u001b[0m in \u001b[0;36mcreate_context\u001b[0;34m(self, integrator, platform, platform_properties)\u001b[0m\n\u001b[1;32m   1164\u001b[0m         \u001b[0;31m# Get a copy of the system. If integrator is coupled\u001b[0m\u001b[0;34m\u001b[0m\u001b[0;34m\u001b[0m\u001b[0;34m\u001b[0m\u001b[0m\n\u001b[1;32m   1165\u001b[0m         \u001b[0;31m# to heat bath, remove the system thermostat.\u001b[0m\u001b[0;34m\u001b[0m\u001b[0;34m\u001b[0m\u001b[0;34m\u001b[0m\u001b[0m\n\u001b[0;32m-> 1166\u001b[0;31m         \u001b[0msystem\u001b[0m \u001b[0;34m=\u001b[0m \u001b[0mself\u001b[0m\u001b[0;34m.\u001b[0m\u001b[0mget_system\u001b[0m\u001b[0;34m(\u001b[0m\u001b[0mremove_thermostat\u001b[0m\u001b[0;34m=\u001b[0m\u001b[0mis_thermostated\u001b[0m\u001b[0;34m)\u001b[0m\u001b[0;34m\u001b[0m\u001b[0;34m\u001b[0m\u001b[0m\n\u001b[0m\u001b[1;32m   1167\u001b[0m \u001b[0;34m\u001b[0m\u001b[0m\n\u001b[1;32m   1168\u001b[0m         \u001b[0;31m# Create context.\u001b[0m\u001b[0;34m\u001b[0m\u001b[0;34m\u001b[0m\u001b[0;34m\u001b[0m\u001b[0m\n",
      "\u001b[0;32m~/anaconda3/envs/perses-torch/lib/python3.8/site-packages/openmmtools/states.py\u001b[0m in \u001b[0;36mget_system\u001b[0;34m(self, **kwargs)\u001b[0m\n\u001b[1;32m   2808\u001b[0m         \u001b[0;31m# so we need to set them to the actual value of the composable states.\u001b[0m\u001b[0;34m\u001b[0m\u001b[0;34m\u001b[0m\u001b[0;34m\u001b[0m\u001b[0m\n\u001b[1;32m   2809\u001b[0m         \u001b[0;32mfor\u001b[0m \u001b[0ms\u001b[0m \u001b[0;32min\u001b[0m \u001b[0mself\u001b[0m\u001b[0;34m.\u001b[0m\u001b[0m_composable_states\u001b[0m\u001b[0;34m:\u001b[0m\u001b[0;34m\u001b[0m\u001b[0;34m\u001b[0m\u001b[0m\n\u001b[0;32m-> 2810\u001b[0;31m             \u001b[0ms\u001b[0m\u001b[0;34m.\u001b[0m\u001b[0mapply_to_system\u001b[0m\u001b[0;34m(\u001b[0m\u001b[0msystem\u001b[0m\u001b[0;34m)\u001b[0m\u001b[0;34m\u001b[0m\u001b[0;34m\u001b[0m\u001b[0m\n\u001b[0m\u001b[1;32m   2811\u001b[0m         \u001b[0;32mreturn\u001b[0m \u001b[0msystem\u001b[0m\u001b[0;34m\u001b[0m\u001b[0;34m\u001b[0m\u001b[0m\n\u001b[1;32m   2812\u001b[0m \u001b[0;34m\u001b[0m\u001b[0m\n",
      "\u001b[0;32m~/anaconda3/envs/perses-torch/lib/python3.8/site-packages/openmmtools/alchemy.py\u001b[0m in \u001b[0;36mapply_to_system\u001b[0;34m(self, system)\u001b[0m\n\u001b[1;32m    366\u001b[0m         \"\"\"\n\u001b[1;32m    367\u001b[0m         \u001b[0;31m# The function is redefined here only to provide more specific documentation for this method.\u001b[0m\u001b[0;34m\u001b[0m\u001b[0;34m\u001b[0m\u001b[0;34m\u001b[0m\u001b[0m\n\u001b[0;32m--> 368\u001b[0;31m         \u001b[0msuper\u001b[0m\u001b[0;34m(\u001b[0m\u001b[0;34m)\u001b[0m\u001b[0;34m.\u001b[0m\u001b[0mapply_to_system\u001b[0m\u001b[0;34m(\u001b[0m\u001b[0msystem\u001b[0m\u001b[0;34m)\u001b[0m\u001b[0;34m\u001b[0m\u001b[0;34m\u001b[0m\u001b[0m\n\u001b[0m\u001b[1;32m    369\u001b[0m \u001b[0;34m\u001b[0m\u001b[0m\n\u001b[1;32m    370\u001b[0m     \u001b[0;32mdef\u001b[0m \u001b[0mcheck_system_consistency\u001b[0m\u001b[0;34m(\u001b[0m\u001b[0mself\u001b[0m\u001b[0;34m,\u001b[0m \u001b[0msystem\u001b[0m\u001b[0;34m)\u001b[0m\u001b[0;34m:\u001b[0m\u001b[0;34m\u001b[0m\u001b[0;34m\u001b[0m\u001b[0m\n",
      "\u001b[0;32m~/anaconda3/envs/perses-torch/lib/python3.8/site-packages/openmmtools/states.py\u001b[0m in \u001b[0;36mapply_to_system\u001b[0;34m(self, system)\u001b[0m\n\u001b[1;32m   3511\u001b[0m                     parameter_name not in parameters_applied):\n\u001b[1;32m   3512\u001b[0m                 \u001b[0merr_msg\u001b[0m \u001b[0;34m=\u001b[0m \u001b[0;34m'Could not find global parameter {} in the system.'\u001b[0m\u001b[0;34m\u001b[0m\u001b[0;34m\u001b[0m\u001b[0m\n\u001b[0;32m-> 3513\u001b[0;31m                 \u001b[0;32mraise\u001b[0m \u001b[0mself\u001b[0m\u001b[0;34m.\u001b[0m\u001b[0m_GLOBAL_PARAMETER_ERROR\u001b[0m\u001b[0;34m(\u001b[0m\u001b[0merr_msg\u001b[0m\u001b[0;34m.\u001b[0m\u001b[0mformat\u001b[0m\u001b[0;34m(\u001b[0m\u001b[0mparameter_name\u001b[0m\u001b[0;34m)\u001b[0m\u001b[0;34m)\u001b[0m\u001b[0;34m\u001b[0m\u001b[0;34m\u001b[0m\u001b[0m\n\u001b[0m\u001b[1;32m   3514\u001b[0m \u001b[0;34m\u001b[0m\u001b[0m\n\u001b[1;32m   3515\u001b[0m     \u001b[0;32mdef\u001b[0m \u001b[0mcheck_system_consistency\u001b[0m\u001b[0;34m(\u001b[0m\u001b[0mself\u001b[0m\u001b[0;34m,\u001b[0m \u001b[0msystem\u001b[0m\u001b[0;34m)\u001b[0m\u001b[0;34m:\u001b[0m\u001b[0;34m\u001b[0m\u001b[0;34m\u001b[0m\u001b[0m\n",
      "\u001b[0;31mAlchemicalStateError\u001b[0m: Could not find global parameter torch_scale in the system."
     ]
    }
   ],
   "source": [
    "simulation.run()"
   ]
  },
  {
   "cell_type": "code",
   "execution_count": null,
   "id": "6fbbaaaa",
   "metadata": {},
   "outputs": [],
   "source": []
  }
 ],
 "metadata": {
  "kernelspec": {
   "display_name": "Python 3",
   "language": "python",
   "name": "python3"
  },
  "language_info": {
   "codemirror_mode": {
    "name": "ipython",
    "version": 3
   },
   "file_extension": ".py",
   "mimetype": "text/x-python",
   "name": "python",
   "nbconvert_exporter": "python",
   "pygments_lexer": "ipython3",
   "version": "3.8.10"
  }
 },
 "nbformat": 4,
 "nbformat_minor": 5
}
