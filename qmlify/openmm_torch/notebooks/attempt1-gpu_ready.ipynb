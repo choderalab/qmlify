{
 "cells": [
  {
   "cell_type": "markdown",
   "id": "d6089520-a0cf-4356-981d-4f41c97f74ae",
   "metadata": {},
   "source": [
    "attempt 1"
   ]
  },
  {
   "cell_type": "code",
   "execution_count": 1,
   "id": "59384e57-c965-4eaf-9015-7678065b368a",
   "metadata": {},
   "outputs": [],
   "source": [
    "from openmmtools.testsystems import AlanineDipeptideExplicit"
   ]
  },
  {
   "cell_type": "code",
   "execution_count": 2,
   "id": "ff6703d1-8be7-4ba5-bba2-47e033d25f3a",
   "metadata": {},
   "outputs": [],
   "source": [
    "hge = "
   ]
  },
  {
   "cell_type": "code",
   "execution_count": 3,
   "id": "8e6ce554-a2b6-4fe0-ac56-6f7fea69283c",
   "metadata": {},
   "outputs": [],
   "source": [
    "system, positions, topology = hge.system, hge.positions, hge.topology\n"
   ]
  },
  {
   "cell_type": "code",
   "execution_count": 4,
   "id": "cc3efe87-7ee9-4a15-9c0c-9839af42c8b5",
   "metadata": {},
   "outputs": [],
   "source": [
    "from qmlify.openmm_torch.force_hybridization import HybridSystemFactory\n",
    "from simtk import unit"
   ]
  },
  {
   "cell_type": "code",
   "execution_count": 6,
   "id": "9f92f78c",
   "metadata": {},
   "outputs": [
    {
     "data": {
      "text/plain": [
       "[<simtk.openmm.openmm.HarmonicBondForce; proxy of <Swig Object of type 'OpenMM::HarmonicBondForce *' at 0x7f71b76f0ba0> >,\n",
       " <simtk.openmm.openmm.HarmonicAngleForce; proxy of <Swig Object of type 'OpenMM::HarmonicAngleForce *' at 0x7f71b76f0ae0> >,\n",
       " <simtk.openmm.openmm.PeriodicTorsionForce; proxy of <Swig Object of type 'OpenMM::PeriodicTorsionForce *' at 0x7f71b6c691e0> >,\n",
       " <simtk.openmm.openmm.NonbondedForce; proxy of <Swig Object of type 'OpenMM::NonbondedForce *' at 0x7f71b6c69510> >,\n",
       " <simtk.openmm.openmm.CMMotionRemover; proxy of <Swig Object of type 'OpenMM::CMMotionRemover *' at 0x7f71b6c69330> >]"
      ]
     },
     "execution_count": 6,
     "metadata": {},
     "output_type": "execute_result"
    }
   ],
   "source": [
    "hge.system.getForces()"
   ]
  },
  {
   "cell_type": "code",
   "execution_count": 5,
   "id": "3b81ec75-a9cc-49ac-a6d2-b24e7ea46c13",
   "metadata": {},
   "outputs": [],
   "source": [
    "from openmmtools.testsystems import HostGuestExplicit\n",
    "T = 300*unit.kelvin\n",
    "system, positions, topology = hge.system, hge.positions, hge.topology\n",
    "system.removeForce(system.getNumForces() - 1) # remove the CMMotionRemover force because it is unknown\n",
    "_atoms = list(range(126,156)) #these atoms correspond to the guest. query these with the second residue in the topology"
   ]
  },
  {
   "cell_type": "code",
   "execution_count": 6,
   "id": "8e661781-24cb-4ebd-ad1d-eb4e8431d7f9",
   "metadata": {},
   "outputs": [
    {
     "data": {
      "text/plain": [
       "[<simtk.openmm.openmm.HarmonicBondForce; proxy of <Swig Object of type 'OpenMM::HarmonicBondForce *' at 0x7f3d12b727e0> >,\n",
       " <simtk.openmm.openmm.HarmonicAngleForce; proxy of <Swig Object of type 'OpenMM::HarmonicAngleForce *' at 0x7f3d12b729c0> >,\n",
       " <simtk.openmm.openmm.PeriodicTorsionForce; proxy of <Swig Object of type 'OpenMM::PeriodicTorsionForce *' at 0x7f3d12b72f30> >,\n",
       " <simtk.openmm.openmm.NonbondedForce; proxy of <Swig Object of type 'OpenMM::NonbondedForce *' at 0x7f3d12b72780> >]"
      ]
     },
     "execution_count": 6,
     "metadata": {},
     "output_type": "execute_result"
    }
   ],
   "source": [
    "system.getForces()"
   ]
  },
  {
   "cell_type": "code",
   "execution_count": 7,
   "id": "dba67ae3-805d-42ab-a727-91f5a8035674",
   "metadata": {},
   "outputs": [
    {
     "name": "stderr",
     "output_type": "stream",
     "text": [
      "INFO:force-hybridization:initializing system modifier...\n",
      "INFO:force-hybridization:found 1 from [1]\n",
      "INFO:force-hybridization:identified 30 to treat with ML.\n",
      "INFO:force-hybridization:modifying harmonic bonds...\n",
      "INFO:force-hybridization:modifying harmonic angles...\n",
      "INFO:force-hybridization:modifying periodic torsions...\n",
      "INFO:force-hybridization:modifying nonbondeds...\n",
      "DEBUG:force-hybridization:iterating over existing exceptions and adding to custom force...\n",
      "DEBUG:force-hybridization:iterating over alchemical particle combinations\n",
      "DEBUG:force-hybridization:enabling rest-like scaling to alchemical particle nonbondeds\n"
     ]
    }
   ],
   "source": [
    "hsf = HybridSystemFactory(topology = topology,\n",
    "         alchemical_residue_indices = [1],\n",
    "         system = system,\n",
    "         softcore_alpha_sterics = 0.5,\n",
    "         softcore_alpha_electrostatics = 0.5)\n",
    "# grab the modified system and endstate system...\n",
    "mod_system = hsf.system\n",
    "endstate_system = hsf.endstate_system"
   ]
  },
  {
   "cell_type": "markdown",
   "id": "28dc192e-a6d4-4045-b811-ccc7efdbc4c6",
   "metadata": {},
   "source": [
    "now that we have the modified system, we want to get the energy at _this_ endstate and make sure the energy is bookkeeping well with the non-alchemically-modified state."
   ]
  },
  {
   "cell_type": "code",
   "execution_count": 8,
   "id": "7050d622-73f1-4626-8b43-daef40fd9d9b",
   "metadata": {},
   "outputs": [],
   "source": [
    "from openmmtools.integrators import LangevinIntegrator\n",
    "from simtk import openmm"
   ]
  },
  {
   "cell_type": "code",
   "execution_count": 9,
   "id": "a605e67a-9d25-438e-8ed3-a06a5b53e85e",
   "metadata": {},
   "outputs": [],
   "source": [
    "nonalch_int = LangevinIntegrator(temperature=T)\n",
    "alch_int = LangevinIntegrator(temperature=T)"
   ]
  },
  {
   "cell_type": "code",
   "execution_count": 10,
   "id": "7a3c68da-7414-4046-975a-659058c662c1",
   "metadata": {},
   "outputs": [],
   "source": [
    "nonalch_context, alch_context = openmm.Context(system, nonalch_int), openmm.Context(mod_system, alch_int)"
   ]
  },
  {
   "cell_type": "code",
   "execution_count": 11,
   "id": "0e321df7-f042-49ac-a086-54ad036f6ce4",
   "metadata": {},
   "outputs": [],
   "source": [
    "for context in [nonalch_context, alch_context]:\n",
    "    context.setPositions(positions)\n",
    "    context.setPeriodicBoxVectors(*system.getDefaultPeriodicBoxVectors())"
   ]
  },
  {
   "cell_type": "code",
   "execution_count": 12,
   "id": "8e0bad0f-a1bd-4072-81c7-b3f60ec375b3",
   "metadata": {},
   "outputs": [
    {
     "data": {
      "text/plain": [
       "Quantity(value=-51940.52312226919, unit=kilojoule/mole)"
      ]
     },
     "execution_count": 12,
     "metadata": {},
     "output_type": "execute_result"
    }
   ],
   "source": [
    "nonalch_context.getState(getEnergy=True).getPotentialEnergy()"
   ]
  },
  {
   "cell_type": "code",
   "execution_count": 13,
   "id": "05f95748-764b-408a-9fb4-31ec307387e0",
   "metadata": {},
   "outputs": [
    {
     "data": {
      "text/plain": [
       "Quantity(value=-51940.523090678435, unit=kilojoule/mole)"
      ]
     },
     "execution_count": 13,
     "metadata": {},
     "output_type": "execute_result"
    }
   ],
   "source": [
    "alch_context.getState(getEnergy=True).getPotentialEnergy()"
   ]
  },
  {
   "cell_type": "markdown",
   "id": "09994b0d-6686-4941-add6-7d2026fe02a0",
   "metadata": {},
   "source": [
    "we're only off by a thousandth of a kj/mol."
   ]
  },
  {
   "cell_type": "markdown",
   "id": "003ec3c3-40b2-4e3d-a924-6df7ffeb0833",
   "metadata": {},
   "source": [
    "if this is an artifact of the nonbonded term, we can safely ignore it."
   ]
  },
  {
   "cell_type": "code",
   "execution_count": 14,
   "id": "c34602f8-2705-4b49-ba70-810b99822d22",
   "metadata": {},
   "outputs": [],
   "source": [
    "from qmlify.openmm_torch.utils import *"
   ]
  },
  {
   "cell_type": "code",
   "execution_count": 15,
   "id": "1fe6d43c-f7a5-40c0-af0f-6c0edcc66b00",
   "metadata": {},
   "outputs": [],
   "source": [
    "from openmmtools.constants import kB"
   ]
  },
  {
   "cell_type": "code",
   "execution_count": 16,
   "id": "295955cc-6f28-444e-94fc-669e0963238b",
   "metadata": {},
   "outputs": [],
   "source": [
    "beta = 1. / (T * kB)"
   ]
  },
  {
   "cell_type": "code",
   "execution_count": 17,
   "id": "1e938945-6f64-440e-a818-8e26807b0909",
   "metadata": {},
   "outputs": [],
   "source": [
    "from openmmtools import utils"
   ]
  },
  {
   "cell_type": "code",
   "execution_count": 18,
   "id": "fb283b1a-10fd-4b6d-aea6-b0c6ccce52a2",
   "metadata": {},
   "outputs": [],
   "source": [
    "platform = utils.get_fastest_platform()"
   ]
  },
  {
   "cell_type": "code",
   "execution_count": 19,
   "id": "c7cfdfb4-d969-41fa-b5d3-86262c464a6a",
   "metadata": {},
   "outputs": [
    {
     "name": "stdout",
     "output_type": "stream",
     "text": [
      "conducting subsequent work with the following platform: CPU\n"
     ]
    },
    {
     "data": {
      "text/plain": [
       "[('HarmonicBondForce', 139.49451696522257),\n",
       " ('HarmonicAngleForce', 255.44177887656315),\n",
       " ('PeriodicTorsionForce', 157.44462259341995),\n",
       " ('NonbondedForce', -21375.74437865682)]"
      ]
     },
     "execution_count": 19,
     "metadata": {},
     "output_type": "execute_result"
    }
   ],
   "source": [
    "compute_potential_components(nonalch_context, beta, platform)"
   ]
  },
  {
   "cell_type": "code",
   "execution_count": 20,
   "id": "6faad451-6dd4-4df2-81f9-1508b4f82fc3",
   "metadata": {},
   "outputs": [
    {
     "name": "stdout",
     "output_type": "stream",
     "text": [
      "conducting subsequent work with the following platform: CPU\n"
     ]
    },
    {
     "data": {
      "text/plain": [
       "[('HarmonicBondForce', 138.25363257328587),\n",
       " ('HarmonicAngleForce', 250.5430402178495),\n",
       " ('PeriodicTorsionForce', 127.8038989999598),\n",
       " ('NonbondedForce', -21397.72292678986),\n",
       " ('CustomBondForce', 1.2408843919367571),\n",
       " ('CustomAngleForce', 4.898738658713599),\n",
       " ('CustomTorsionForce', 29.64072359346019),\n",
       " ('CustomBondForce', 21.978560798018687)]"
      ]
     },
     "execution_count": 20,
     "metadata": {},
     "output_type": "execute_result"
    }
   ],
   "source": [
    "compute_potential_components(alch_context, beta, platform)"
   ]
  },
  {
   "cell_type": "code",
   "execution_count": 21,
   "id": "31602e53-486a-498c-a739-14d882ab220c",
   "metadata": {},
   "outputs": [
    {
     "data": {
      "text/plain": [
       "5.684341886080802e-14"
      ]
     },
     "execution_count": 21,
     "metadata": {},
     "output_type": "execute_result"
    }
   ],
   "source": [
    "138.25363257328587 + 1.2408843919367571 - 139.49451696522257"
   ]
  },
  {
   "cell_type": "code",
   "execution_count": 22,
   "id": "a72c913c-4d6b-4faf-b828-28cb4ad4df24",
   "metadata": {},
   "outputs": [
    {
     "data": {
      "text/plain": [
       "-5.684341886080802e-14"
      ]
     },
     "execution_count": 22,
     "metadata": {},
     "output_type": "execute_result"
    }
   ],
   "source": [
    "250.5430402178495 + 4.898738658713599 - 255.44177887656315"
   ]
  },
  {
   "cell_type": "code",
   "execution_count": 23,
   "id": "c6c46327-5098-4230-a5af-b9580aca52a1",
   "metadata": {},
   "outputs": [
    {
     "data": {
      "text/plain": [
       "2.842170943040401e-14"
      ]
     },
     "execution_count": 23,
     "metadata": {},
     "output_type": "execute_result"
    }
   ],
   "source": [
    "29.64072359346019 + 127.8038989999598 - 157.44462259341995"
   ]
  },
  {
   "cell_type": "markdown",
   "id": "2e0115e7-8a1e-47a1-8aa5-707e4b58eb74",
   "metadata": {},
   "source": [
    "so it is nonbonded. can we write a function that pushed the alchemical context to the opposite endstate and asserts that all of the custom forces go to zero?"
   ]
  },
  {
   "cell_type": "markdown",
   "id": "1f943eb3-38b3-4d61-a3cb-915611df8d6d",
   "metadata": {},
   "source": [
    "first, let's gather the alchemical lambdas that must change..."
   ]
  },
  {
   "cell_type": "code",
   "execution_count": 24,
   "id": "f29fdb0c-c6fd-464b-afdb-f470f642e2a8",
   "metadata": {},
   "outputs": [],
   "source": [
    "final_lambdas = {'lambda_MM_bonds' : 0.,\n",
    "                 'lambda_MM_angles': 0.,\n",
    "                 'lambda_MM_torsions': 0.,\n",
    "                 'lambda_nonbonded_MM_sterics' : 1.,\n",
    "                 'lambda_nonbonded_MM_electrostatics': 1.,\n",
    "                 }"
   ]
  },
  {
   "cell_type": "code",
   "execution_count": 25,
   "id": "35c46def-b02d-410a-85ae-afa9131af6c4",
   "metadata": {},
   "outputs": [],
   "source": [
    "for key, val in final_lambdas.items():\n",
    "    alch_context.setParameter(key, val)"
   ]
  },
  {
   "cell_type": "code",
   "execution_count": 26,
   "id": "513c3c6c-4ac4-4063-abea-5ebfef613f85",
   "metadata": {},
   "outputs": [
    {
     "name": "stdout",
     "output_type": "stream",
     "text": [
      "conducting subsequent work with the following platform: CPU\n"
     ]
    },
    {
     "data": {
      "text/plain": [
       "[('HarmonicBondForce', 138.25363257328587),\n",
       " ('HarmonicAngleForce', 250.5430402178495),\n",
       " ('PeriodicTorsionForce', 127.8038989999598),\n",
       " ('NonbondedForce', -21397.72292678986),\n",
       " ('CustomBondForce', 0.0),\n",
       " ('CustomAngleForce', 0.0),\n",
       " ('CustomTorsionForce', 0.0),\n",
       " ('CustomBondForce', 0.0)]"
      ]
     },
     "execution_count": 26,
     "metadata": {},
     "output_type": "execute_result"
    }
   ],
   "source": [
    "compute_potential_components(alch_context, beta, platform)"
   ]
  },
  {
   "cell_type": "code",
   "execution_count": 27,
   "id": "d9bad02e-5ee8-4b89-89da-20c7e087367f",
   "metadata": {},
   "outputs": [],
   "source": [
    "swig_params = alch_context.getParameters()"
   ]
  },
  {
   "cell_type": "code",
   "execution_count": 28,
   "id": "1675d9ee-062c-4e3d-829a-a795ccb68fd8",
   "metadata": {},
   "outputs": [
    {
     "name": "stdout",
     "output_type": "stream",
     "text": [
      "lambda_MM_angles 0.0\n",
      "lambda_MM_bonds 0.0\n",
      "lambda_MM_torsions 0.0\n",
      "lambda_electrostatic_scale 0.0\n",
      "lambda_epsilon_scale 0.0\n",
      "lambda_nonbonded_MM_electrostatics 1.0\n",
      "lambda_nonbonded_MM_sterics 1.0\n",
      "lambda_scale 1.0\n"
     ]
    }
   ],
   "source": [
    "for i in swig_params:\n",
    "    print(i, swig_params[i])\n",
    "    "
   ]
  },
  {
   "cell_type": "markdown",
   "id": "a5a8563e-277f-4472-98a3-8c44d051fcb0",
   "metadata": {},
   "source": [
    "alright! now can we add the torchforce?"
   ]
  },
  {
   "cell_type": "code",
   "execution_count": 29,
   "id": "4b532374-0d6e-44ef-97cf-830323ac50a9",
   "metadata": {},
   "outputs": [],
   "source": [
    "from qmlify.openmm_torch.torchforce_generator import torch_alchemification_wrapper"
   ]
  },
  {
   "cell_type": "code",
   "execution_count": 30,
   "id": "1aab9b5d-6b03-4103-846f-740b6605c4b1",
   "metadata": {},
   "outputs": [
    {
     "name": "stderr",
     "output_type": "stream",
     "text": [
      "INFO:force-hybridization:initializing system modifier...\n",
      "INFO:force-hybridization:found 1 from [1]\n",
      "INFO:force-hybridization:identified 30 to treat with ML.\n",
      "INFO:force-hybridization:modifying harmonic bonds...\n",
      "INFO:force-hybridization:modifying harmonic angles...\n",
      "INFO:force-hybridization:modifying periodic torsions...\n",
      "INFO:force-hybridization:modifying nonbondeds...\n",
      "DEBUG:force-hybridization:iterating over existing exceptions and adding to custom force...\n",
      "DEBUG:force-hybridization:iterating over alchemical particle combinations\n",
      "DEBUG:force-hybridization:enabling rest-like scaling to alchemical particle nonbondeds\n",
      "INFO:torchforce_generator:registering `torch` device...\n",
      "INFO:torchforce_generator:found torch device 'cuda': False\n",
      "DEBUG:torchforce_generator:elements: ['C', 'C', 'C', 'C', 'C', 'C', 'C', 'C', 'C', 'O', 'C', 'O', 'H', 'H', 'H', 'H', 'H', 'H', 'H', 'H', 'H', 'H', 'H', 'H', 'H', 'H', 'H', 'H', 'H', 'H']\n",
      "DEBUG:torchforce_generator:species: tensor([[1, 1, 1, 1, 1, 1, 1, 1, 1, 3, 1, 3, 0, 0, 0, 0, 0, 0, 0, 0, 0, 0, 0, 0,\n",
      "         0, 0, 0, 0, 0, 0]])\n"
     ]
    }
   ],
   "source": [
    "ml_system, hsf_mod = torch_alchemification_wrapper(topology, system, [1])"
   ]
  },
  {
   "cell_type": "code",
   "execution_count": 31,
   "id": "60aa065f",
   "metadata": {},
   "outputs": [
    {
     "data": {
      "text/plain": [
       "[<simtk.openmm.openmm.HarmonicBondForce; proxy of <Swig Object of type 'OpenMM::HarmonicBondForce *' at 0x7f3d12b7cf60> >,\n",
       " <simtk.openmm.openmm.HarmonicAngleForce; proxy of <Swig Object of type 'OpenMM::HarmonicAngleForce *' at 0x7f3d12b7c240> >,\n",
       " <simtk.openmm.openmm.PeriodicTorsionForce; proxy of <Swig Object of type 'OpenMM::PeriodicTorsionForce *' at 0x7f3ca5540990> >,\n",
       " <simtk.openmm.openmm.NonbondedForce; proxy of <Swig Object of type 'OpenMM::NonbondedForce *' at 0x7f3ca55404e0> >,\n",
       " <simtk.openmm.openmm.CustomBondForce; proxy of <Swig Object of type 'OpenMM::CustomBondForce *' at 0x7f3ca56cd5d0> >,\n",
       " <simtk.openmm.openmm.CustomAngleForce; proxy of <Swig Object of type 'OpenMM::CustomAngleForce *' at 0x7f3ca56c4ea0> >,\n",
       " <simtk.openmm.openmm.CustomTorsionForce; proxy of <Swig Object of type 'OpenMM::CustomTorsionForce *' at 0x7f3ca560d4e0> >,\n",
       " <simtk.openmm.openmm.CustomBondForce; proxy of <Swig Object of type 'OpenMM::CustomBondForce *' at 0x7f3ca595a930> >,\n",
       " <simtk.openmm.openmm.Force; proxy of <Swig Object of type 'OpenMM::Force *' at 0x7f3ca5911330> >]"
      ]
     },
     "execution_count": 31,
     "metadata": {},
     "output_type": "execute_result"
    }
   ],
   "source": [
    "ml_system.getForces()"
   ]
  },
  {
   "cell_type": "code",
   "execution_count": 32,
   "id": "4fa07c58",
   "metadata": {},
   "outputs": [],
   "source": [
    "ml_int = LangevinIntegrator(splitting = 'V0 V1 R O R V1 V0')"
   ]
  },
  {
   "cell_type": "code",
   "execution_count": 33,
   "id": "d41f2257",
   "metadata": {},
   "outputs": [],
   "source": [
    "ml_context = openmm.Context(ml_system, ml_int)"
   ]
  },
  {
   "cell_type": "code",
   "execution_count": 34,
   "id": "643aacf7",
   "metadata": {},
   "outputs": [],
   "source": [
    "ml_context.setPositions(positions)"
   ]
  },
  {
   "cell_type": "code",
   "execution_count": 35,
   "id": "a8b2f3cb",
   "metadata": {},
   "outputs": [],
   "source": [
    "ml_context.setPeriodicBoxVectors(*system.getDefaultPeriodicBoxVectors())"
   ]
  },
  {
   "cell_type": "code",
   "execution_count": 36,
   "id": "02f73d9a",
   "metadata": {},
   "outputs": [],
   "source": [
    "import tqdm"
   ]
  },
  {
   "cell_type": "code",
   "execution_count": 37,
   "id": "78f604e5",
   "metadata": {},
   "outputs": [],
   "source": [
    "swig_params = ml_context.getParameters()"
   ]
  },
  {
   "cell_type": "code",
   "execution_count": 38,
   "id": "bca83dc7",
   "metadata": {},
   "outputs": [
    {
     "data": {
      "text/plain": [
       "Quantity(value=-51940.523090678435, unit=kilojoule/mole)"
      ]
     },
     "execution_count": 38,
     "metadata": {},
     "output_type": "execute_result"
    }
   ],
   "source": [
    "ml_context.getState(getEnergy=True, groups={0}).getPotentialEnergy()"
   ]
  },
  {
   "cell_type": "code",
   "execution_count": 39,
   "id": "d9ad52a2",
   "metadata": {},
   "outputs": [
    {
     "data": {
      "text/plain": [
       "Quantity(value=0.0, unit=kilojoule/mole)"
      ]
     },
     "execution_count": 39,
     "metadata": {},
     "output_type": "execute_result"
    }
   ],
   "source": [
    "ml_context.getState(getEnergy=True, groups={1}).getPotentialEnergy()"
   ]
  },
  {
   "cell_type": "code",
   "execution_count": 40,
   "id": "5f6f1a54",
   "metadata": {},
   "outputs": [
    {
     "name": "stdout",
     "output_type": "stream",
     "text": [
      "auxiliary_torch_scale 1.0\n",
      "lambda_MM_angles 1.0\n",
      "lambda_MM_bonds 1.0\n",
      "lambda_MM_torsions 1.0\n",
      "lambda_electrostatic_scale 0.0\n",
      "lambda_epsilon_scale 0.0\n",
      "lambda_nonbonded_MM_electrostatics 0.0\n",
      "lambda_nonbonded_MM_sterics 0.0\n",
      "lambda_scale 1.0\n",
      "torch_scale 0.0\n"
     ]
    }
   ],
   "source": [
    "for i in swig_params:\n",
    "    print(i, swig_params[i])"
   ]
  },
  {
   "cell_type": "code",
   "execution_count": 41,
   "id": "4bc53ee1",
   "metadata": {},
   "outputs": [
    {
     "name": "stderr",
     "output_type": "stream",
     "text": [
      "100%|██████████| 500/500 [03:23<00:00,  2.45it/s]\n"
     ]
    }
   ],
   "source": [
    "ml_energies, energies = [], []\n",
    "for i in tqdm.trange(500):\n",
    "    ml_int.step(1)\n",
    "    alch_int.step(1)\n",
    "    ml_energies.append(ml_context.getState(getEnergy=True).getPotentialEnergy())\n",
    "    energies.append(alch_context.getState(getEnergy=True).getPotentialEnergy())"
   ]
  },
  {
   "cell_type": "code",
   "execution_count": 42,
   "id": "883587bf",
   "metadata": {},
   "outputs": [
    {
     "name": "stderr",
     "output_type": "stream",
     "text": [
      "DEBUG:matplotlib:matplotlib data path: /home/dominic/anaconda3/envs/perses-torch/lib/python3.8/site-packages/matplotlib/mpl-data\n",
      "DEBUG:matplotlib:CONFIGDIR=/home/dominic/.config/matplotlib\n",
      "DEBUG:matplotlib:matplotlib version 3.4.2\n",
      "DEBUG:matplotlib:interactive is False\n",
      "DEBUG:matplotlib:platform is linux\n",
      "DEBUG:matplotlib:loaded modules: ['sys', 'builtins', '_frozen_importlib', '_imp', '_warnings', '_io', 'marshal', 'posix', '_frozen_importlib_external', '_thread', '_weakref', 'time', 'zipimport', '_codecs', 'codecs', 'encodings.aliases', 'encodings', 'encodings.utf_8', '_signal', '__main__', 'encodings.latin_1', '_abc', 'abc', 'io', '_stat', 'stat', '_collections_abc', 'genericpath', 'posixpath', 'os.path', 'os', '_sitebuiltins', '_locale', '_bootlocale', 'types', 'importlib._bootstrap', 'importlib._bootstrap_external', 'warnings', 'importlib', 'importlib.machinery', 'importlib.abc', '_operator', 'operator', 'keyword', '_heapq', 'heapq', 'itertools', 'reprlib', '_collections', 'collections', '_functools', 'functools', 'contextlib', 'importlib.util', 'mpl_toolkits', 'sphinxcontrib', 'site', '_weakrefset', 'weakref', 'pkgutil', 'runpy', 'ipykernel._version', 'enum', '_sre', 'sre_constants', 'sre_parse', 'sre_compile', 'copyreg', 're', '_json', 'json.scanner', 'json.decoder', 'json.encoder', 'json', 'errno', 'signal', 'threading', '_posixsubprocess', 'select', 'collections.abc', 'math', 'selectors', 'subprocess', 'IPython.core', 'IPython.core.getipython', 'IPython.core.release', 'atexit', 'copy', 'fnmatch', 'glob', 'token', 'tokenize', 'linecache', 'traceback', '_string', 'string', 'logging', 'zlib', '_compression', '_bz2', 'bz2', '_lzma', 'lzma', 'pwd', 'grp', 'shutil', '_ast', 'ast', '_opcode', 'opcode', 'dis', 'inspect', 'traitlets.utils', 'traitlets.utils.getargspec', 'traitlets.utils.importstring', 'traitlets.utils.sentinel', 'traitlets.utils.bunch', 'traitlets.utils.descriptions', 'traitlets.traitlets', 'traitlets.utils.decorators', 'traitlets._version', 'traitlets', 'pprint', 'locale', 'gettext', 'argparse', 'ipython_genutils._version', 'ipython_genutils', '_bisect', 'bisect', '_sha512', '_random', 'random', 'ipython_genutils.encoding', 'platform', 'ipython_genutils.py3compat', 'ipython_genutils.path', 'traitlets.config.loader', 'textwrap', 'ipython_genutils.text', 'traitlets.config.configurable', 'traitlets.config.application', 'traitlets.config', 'sysconfig', 'urllib', 'urllib.parse', '_sysconfigdata__linux_x86_64-linux-gnu', 'pydoc', 'bdb', 'IPython.utils', 'IPython.utils.ipstruct', 'IPython.utils.coloransi', 'pygments', 'IPython.utils.colorable', 'IPython.utils.PyColorize', 'IPython.utils.encoding', 'IPython.utils.py3compat', 'IPython.core.excolors', 'IPython.testing', 'IPython.testing.skipdoctest', 'cmd', '__future__', 'codeop', 'code', 'pdb', 'IPython.core.debugger', 'IPython.core.display_trap', 'pexpect.exceptions', 'pexpect.utils', 'pexpect.expect', 'termios', 'tty', 'pty', 'fcntl', 'resource', '_struct', 'struct', 'ptyprocess.util', 'ptyprocess.ptyprocess', 'ptyprocess', 'pexpect.spawnbase', 'pexpect.pty_spawn', 'pexpect.run', 'pexpect', 'shlex', 'IPython.utils._process_common', 'IPython.utils._process_posix', 'IPython.utils.process', 'IPython.utils.decorators', 'IPython.utils.path', 'IPython.utils.data', 'IPython.utils.terminal', 'IPython.core.ultratb', 'IPython.utils._sysinfo', 'IPython.utils.sysinfo', 'IPython.core.crashhandler', 'tempfile', 'IPython.utils.importstring', 'IPython.paths', 'IPython.core.profiledir', 'IPython.core.application', 'IPython.terminal', '_hashlib', '_blake2', '_sha3', 'hashlib', 'IPython.core.compilerop', 'IPython.core.error', 'ntpath', 'pathlib', 'IPython.utils.text', 'IPython.core.magic_arguments', 'getopt', 'typing.io', 'typing.re', 'typing', 'binascii', 'mimetypes', 'IPython.core.display', 'IPython.core.page', 'getpass', 'IPython.lib.security', 'IPython.lib', '_datetime', 'datetime', 'IPython.lib.pretty', 'IPython.utils.openpy', 'IPython.utils.dir2', 'IPython.utils.wildcard', 'pygments.lexers._mapping', 'pygments.modeline', 'pygments.plugin', 'pygments.util', 'pygments.lexers', 'pygments.filter', 'pygments.token', 'pygments.filters', 'pygments.regexopt', 'pygments.lexer', 'pygments.unistring', 'pygments.lexers.python', 'pygments.formatters._mapping', 'pygments.formatters', 'pygments.styles', 'pygments.formatter', 'pygments.formatters.html', 'IPython.core.oinspect', 'IPython.core.inputtransformer2', 'decorator', 'IPython.core.magic', '_compat_pickle', '_pickle', 'pickle', 'pickleshare', 'IPython.core.autocall', 'IPython.core.macro', 'IPython.core.splitinput', 'IPython.core.prefilter', 'IPython.core.alias', 'IPython.core.builtin_trap', 'backcall.backcall', 'backcall', 'IPython.core.events', 'IPython.core.displayhook', 'IPython.core.displaypub', 'IPython.core.extensions', 'IPython.utils.sentinel', 'IPython.core.formatters', '_sqlite3', 'sqlite3.dbapi2', 'sqlite3', 'IPython.core.history', 'IPython.core.logger', 'IPython.core.payload', 'IPython.core.usage', 'html.entities', 'html', 'IPython.lib.display', 'IPython.display', 'IPython.utils.capture', 'IPython.utils.io', 'IPython.core.hooks', 'IPython.utils.strdispatch', 'IPython.utils.syspathcontext', 'IPython.utils.tempdir', 'IPython.utils.contexts', 'IPython.core.async_helpers', 'IPython.core.interactiveshell', 'concurrent', 'concurrent.futures._base', 'concurrent.futures', '_socket', 'socket', '_ssl', 'base64', 'ssl', 'asyncio.constants', 'asyncio.format_helpers', 'asyncio.base_futures', 'asyncio.log', 'asyncio.coroutines', '_contextvars', 'contextvars', 'asyncio.exceptions', 'asyncio.base_tasks', '_asyncio', 'asyncio.events', 'asyncio.futures', 'asyncio.protocols', 'asyncio.transports', 'asyncio.sslproto', 'asyncio.locks', 'asyncio.tasks', 'asyncio.staggered', 'asyncio.trsock', 'asyncio.base_events', 'asyncio.runners', 'asyncio.queues', 'asyncio.streams', 'asyncio.subprocess', 'asyncio.base_subprocess', 'asyncio.selector_events', 'asyncio.unix_events', 'asyncio', 'prompt_toolkit.application.current', 'prompt_toolkit.eventloop.utils', 'prompt_toolkit.eventloop.async_generator', 'wcwidth.table_wide', 'wcwidth.table_zero', 'wcwidth.unicode_versions', 'wcwidth.wcwidth', 'wcwidth', 'prompt_toolkit.utils', 'prompt_toolkit.eventloop.inputhook', 'prompt_toolkit.eventloop', 'prompt_toolkit.application.run_in_terminal', 'prompt_toolkit.selection', 'prompt_toolkit.clipboard.base', 'prompt_toolkit.clipboard.in_memory', 'prompt_toolkit.clipboard', 'prompt_toolkit.cache', 'prompt_toolkit.enums', 'prompt_toolkit.filters.base', 'prompt_toolkit.filters.app', 'prompt_toolkit.filters.cli', 'prompt_toolkit.filters.utils', 'prompt_toolkit.filters', 'prompt_toolkit.document', 'prompt_toolkit.auto_suggest', 'prompt_toolkit.data_structures', 'prompt_toolkit.styles.base', 'prompt_toolkit.styles.named_colors', 'prompt_toolkit.styles.style', 'prompt_toolkit.styles.defaults', 'prompt_toolkit.styles.pygments', 'colorsys', 'prompt_toolkit.styles.style_transformation', 'prompt_toolkit.styles', 'prompt_toolkit.output.color_depth', 'prompt_toolkit.output.base', 'prompt_toolkit.output.defaults', 'prompt_toolkit.output', 'array', 'prompt_toolkit.output.vt100', 'prompt_toolkit.mouse_events', 'prompt_toolkit.formatted_text.base', 'prompt_toolkit.formatted_text.ansi', 'xml', 'xml.dom.domreg', 'xml.dom', 'xml.dom.minicompat', 'xml.dom.NodeFilter', 'xml.dom.xmlbuilder', 'xml.dom.minidom', 'prompt_toolkit.formatted_text.html', 'prompt_toolkit.formatted_text.pygments', 'prompt_toolkit.formatted_text.utils', 'prompt_toolkit.formatted_text', 'prompt_toolkit.completion.base', 'prompt_toolkit.completion.deduplicate', 'prompt_toolkit.completion.filesystem', 'prompt_toolkit.completion.word_completer', 'prompt_toolkit.completion.fuzzy_completer', 'prompt_toolkit.completion.nested', 'prompt_toolkit.completion', 'prompt_toolkit.history', 'prompt_toolkit.keys', 'prompt_toolkit.key_binding.key_bindings', 'prompt_toolkit.key_binding.key_processor', 'prompt_toolkit.key_binding', 'prompt_toolkit.key_binding.vi_state', 'prompt_toolkit.search', 'prompt_toolkit.validation', 'prompt_toolkit.buffer', 'prompt_toolkit.input.base', 'prompt_toolkit.input.defaults', 'prompt_toolkit.input', 'prompt_toolkit.input.typeahead', 'prompt_toolkit.key_binding.bindings', 'prompt_toolkit.key_binding.bindings.scroll', 'prompt_toolkit.key_binding.bindings.page_navigation', 'prompt_toolkit.lexers.base', 'prompt_toolkit.lexers.pygments', 'prompt_toolkit.lexers', 'prompt_toolkit.layout.utils', 'prompt_toolkit.layout.processors', 'prompt_toolkit.layout.controls', 'prompt_toolkit.layout.dimension', 'prompt_toolkit.layout.margins', 'prompt_toolkit.layout.mouse_handlers', 'prompt_toolkit.layout.screen', 'prompt_toolkit.layout.containers', 'prompt_toolkit.layout.layout', 'prompt_toolkit.layout.menus', 'prompt_toolkit.layout.scrollable_pane', 'prompt_toolkit.layout', 'prompt_toolkit.key_binding.bindings.completion', 'prompt_toolkit.key_binding.bindings.named_commands', 'prompt_toolkit.key_binding.bindings.basic', 'prompt_toolkit.key_binding.bindings.cpr', 'prompt_toolkit.key_binding.bindings.emacs', 'prompt_toolkit.key_binding.bindings.mouse', 'prompt_toolkit.input.ansi_escape_sequences', 'prompt_toolkit.input.vt100_parser', 'prompt_toolkit.key_binding.digraphs', 'prompt_toolkit.key_binding.bindings.vi', 'prompt_toolkit.key_binding.defaults', 'prompt_toolkit.key_binding.emacs_state', 'prompt_toolkit.layout.dummy', 'prompt_toolkit.renderer', 'prompt_toolkit.application.application', 'prompt_toolkit.application.dummy', 'prompt_toolkit.application', 'prompt_toolkit.key_binding.bindings.focus', 'prompt_toolkit.widgets.toolbars', 'prompt_toolkit.widgets.base', 'prompt_toolkit.widgets.dialogs', 'prompt_toolkit.widgets.menus', 'prompt_toolkit.widgets', 'prompt_toolkit.shortcuts.dialogs', 'prompt_toolkit.shortcuts.progress_bar.formatters', 'prompt_toolkit.shortcuts.progress_bar.base', 'prompt_toolkit.shortcuts.progress_bar', 'prompt_toolkit.key_binding.bindings.auto_suggest', 'prompt_toolkit.key_binding.bindings.open_in_editor', 'prompt_toolkit.shortcuts.prompt', 'prompt_toolkit.shortcuts.utils', 'prompt_toolkit.shortcuts', 'prompt_toolkit', '_queue', 'queue', 'prompt_toolkit.patch_stdout', 'pygments.style', 'unicodedata', 'IPython.core.latex_symbols', 'IPython.utils.generics', 'parso.utils', 'parso.tree', 'parso.python', 'parso.python.token', 'parso.python.tokenize', 'parso.pgen2.grammar_parser', 'parso.pgen2.generator', 'parso.pgen2', 'parso.parser', 'parso._compatibility', 'difflib', 'parso.python.prefix', 'parso.python.tree', 'parso.python.parser', 'parso.python.diff', 'gc', 'parso.cache', 'parso.normalizer', 'parso.python.errors', 'parso.python.pep8', 'parso.file_io', 'parso.grammar', 'parso', 'jedi._compatibility', 'jedi.parser_utils', 'colorama.ansi', '_ctypes', 'ctypes._endian', 'ctypes', 'colorama.win32', 'colorama.winterm', 'colorama.ansitowin32', 'colorama.initialise', 'colorama', 'jedi.debug', 'jedi.settings', 'jedi.cache', 'jedi.file_io', 'jedi.inference.cache', 'jedi.inference.helpers', 'jedi.inference.utils', 'jedi.inference.base_value', 'jedi.inference.sys_path', 'jedi.inference.recursion', 'jedi.inference.flow_analysis', 'jedi.common', 'jedi.inference.lazy_value', 'jedi.inference.docstrings', 'jedi.plugins', 'jedi.inference.names', 'jedi.inference.filters', 'jedi.inference.compiled.getattr_static', 'jedi.inference.compiled.access', 'jedi.inference.signature', 'jedi.inference.context', 'jedi.inference.compiled.value', 'jedi.inference.compiled', 'jedi.inference.analysis', 'jedi.inference.gradual', 'jedi.inference.value.module', 'jedi.inference.value.dynamic_arrays', 'jedi.inference.value.iterable', 'jedi.inference.arguments', 'jedi.inference.parser_cache', 'jedi.inference.gradual.generics', 'jedi.inference.value.function', 'jedi.inference.value.klass', 'jedi.inference.value.instance', 'jedi.inference.value', 'jedi.inference.gradual.base', 'jedi.inference.gradual.type_var', 'jedi.inference.gradual.typing', 'jedi.inference.gradual.stub_value', 'jedi.inference.gradual.typeshed', 'jedi.inference.compiled.subprocess.functions', 'jedi.api.exceptions', 'jedi.inference.compiled.subprocess', 'jedi.inference.imports', 'jedi.inference.param', 'jedi.inference.gradual.annotation', 'jedi.inference.value.decorator', 'jedi.inference.syntax_tree', 'jedi.inference', 'jedi.inference.gradual.conversion', 'jedi.inference.compiled.mixed', 'pydoc_data', 'pydoc_data.topics', 'jedi.api.keywords', 'jedi.api.completion_cache', 'jedi.api.helpers', 'jedi.api.classes', 'jedi.api.interpreter', 'jedi.api.strings', 'jedi.api.file_name', 'jedi.api.completion', 'filecmp', 'jedi.api.environment', 'jedi.inference.references', 'jedi.api.project', 'jedi.api.errors', 'jedi.api.refactoring', 'jedi.api.refactoring.extract', 'jedi.inference.gradual.utils', 'jedi.api', 'jedi.plugins.stdlib', 'jedi.plugins.flask', 'jedi.plugins.pytest', 'jedi.plugins.django', 'jedi.plugins.registry', 'jedi', 'IPython.core.completer', 'IPython.terminal.ptutils', 'IPython.terminal.shortcuts', 'IPython.terminal.debugger', 'IPython.lib.clipboard', 'IPython.terminal.magics', 'IPython.terminal.pt_inputhooks', 'IPython.terminal.prompts', 'IPython.terminal.interactiveshell', 'IPython.core.magics.auto', 'IPython.core.magics.basic', 'email', 'http', 'email.errors', 'email.quoprimime', 'email.base64mime', 'quopri', 'email.encoders', 'email.charset', 'email.header', 'calendar', 'email._parseaddr', 'email.utils', 'email._policybase', 'email.feedparser', 'email.parser', 'uu', 'email._encoded_words', 'email.iterators', 'email.message', 'http.client', 'urllib.response', 'urllib.error', 'urllib.request', 'IPython.core.magics.code', 'IPython.core.magics.config', 'IPython.core.magics.display', 'timeit', '_lsprof', 'profile', 'cProfile', 'pstats', 'IPython.utils.module_paths', 'IPython.utils.timing', 'IPython.core.magics.execution', 'IPython.core.magics.extension', 'IPython.core.magics.history', 'IPython.core.magics.logging', 'IPython.core.magics.namespace', 'IPython.core.magics.osm', 'IPython.core.magics.packaging', 'IPython.core.pylabtools', 'IPython.core.magics.pylab', 'IPython.lib.backgroundjobs', 'IPython.core.magics.script', 'IPython.core.magics', 'IPython.core.shellapp', 'IPython.extensions', 'IPython.extensions.storemagic', 'IPython.terminal.ipapp', 'IPython.terminal.embed', 'IPython.utils.frame', 'IPython', 'jupyter_client._version', 'zmq.backend.select', 'cython_runtime', 'zmq.backend.cython.constants', '_cython_0_29_21', 'zmq.backend.cython.error', 'zmq.error', 'zmq.backend.cython.message', 'zmq.backend.cython.context', 'zmq.backend.cython.socket', 'zmq.backend.cython.utils', 'zmq.backend.cython._poll', 'zmq.backend.cython._version', 'zmq.backend.cython._device', 'zmq.backend.cython._proxy_steerable', 'zmq.backend.cython', 'zmq.backend', 'zmq.utils', 'zmq.utils.constant_names', 'zmq.sugar.constants', 'zmq.sugar.attrsettr', 'zmq.sugar.poll', 'zmq.utils.strtypes', 'zmq.utils.jsonapi', 'zmq.sugar.socket', 'zmq.sugar.context', 'zmq.sugar.frame', 'zmq.sugar.tracker', 'zmq.sugar.version', 'zmq.sugar.stopwatch', 'zmq.sugar', 'zmq', 'jupyter_client.localinterfaces', 'jupyter_core.version', 'jupyter_core', 'jupyter_core.paths', 'jupyter_client.utils', 'jupyter_client.connect', 'traitlets.log', 'jupyter_client.launcher', 'jupyter_client.channelsabc', 'jupyter_client.channels', 'jupyter_client.clientabc', 'jupyter_client.client', 'jupyter_client.kernelspec', 'jupyter_client.managerabc', 'jupyter_client.manager', 'jupyter_client.blocking.channels', 'jupyter_client.blocking.client', 'jupyter_client.blocking', 'zmq._future', 'zmq.asyncio', 'jupyter_client.asynchronous.channels', 'jupyter_client.asynchronous.client', 'jupyter_client.asynchronous', 'uuid', 'jupyter_client.multikernelmanager', 'jupyter_client', 'ipykernel.connect', 'ipykernel', 'tornado', 'numbers', 'logging.handlers', 'tornado.speedups', 'tornado.util', 'tornado.escape', '_curses', 'curses', 'tornado.log', 'tornado.concurrent', 'tornado.ioloop', 'tornado.platform', 'tornado.gen', 'tornado.platform.asyncio', 'zmq.eventloop.ioloop', 'zmq.eventloop', 'zmq.eventloop.zmqstream', 'ipython_genutils.importstring', 'imp', 'hmac', 'dateutil._version', 'dateutil', 'six', '_decimal', 'decimal', 'dateutil._common', 'dateutil.relativedelta', 'six.moves', 'dateutil.tz._common', 'dateutil.tz._factories', 'dateutil.tz.tz', 'dateutil.tz', 'dateutil.parser._parser', 'dateutil.parser.isoparser', 'dateutil.parser', '_strptime', 'jupyter_client.jsonutil', 'jupyter_client.adapter', 'jupyter_client.session', 'ipykernel.iostream', 'ipykernel.heartbeat', 'IPython.utils.tokenutil', 'tornado.locks', 'tornado.queues', 'ipykernel.jsonutil', 'ipykernel.kernelbase', 'ipykernel.comm.comm', 'ipykernel.comm.manager', 'ipykernel.comm', 'IPython.core.payloadpage', 'ipykernel.displayhook', 'ipykernel.codeutil', 'ipykernel.pickleutil', 'ipykernel.serialize', 'ipykernel.datapub', 'ipykernel.zmqshell', 'distutils', 'distutils.version', 'ipykernel.eventloops', 'ipykernel.ipkernel', 'ipykernel.parentpoller', 'ipykernel.kernelapp', 'faulthandler', 'IPython.core.completerlib', 'storemagic', 'numpy._globals', 'numpy.__config__', 'numpy.version', 'numpy._distributor_init', 'numpy.core._multiarray_umath', 'numpy.compat._inspect', 'numpy.compat.py3k', 'numpy.compat', 'numpy.core.overrides', 'numpy.core.multiarray', 'numpy.core.umath', 'numpy.core._string_helpers', 'numpy.core._dtype', 'numpy.core._type_aliases', 'numpy.core.numerictypes', 'numpy.core._asarray', 'numpy.core._exceptions', 'numpy.core._methods', 'numpy.core.fromnumeric', 'numpy.core.shape_base', 'numpy.core._ufunc_config', 'numpy.core.arrayprint', 'numpy.core.numeric', 'numpy.core.defchararray', 'numpy.core.records', 'numpy.core.memmap', 'numpy.core.function_base', 'numpy.core.machar', 'numpy.core.getlimits', 'numpy.core.einsumfunc', 'numpy.core._multiarray_tests', 'numpy.core._add_newdocs', 'numpy.core._add_newdocs_scalars', 'numpy.core._dtype_ctypes', 'numpy.core._internal', 'numpy._pytesttester', 'numpy.core', 'numpy.lib.mixins', 'numpy.lib.ufunclike', 'numpy.lib.type_check', 'numpy.lib.scimath', 'numpy.lib.twodim_base', 'numpy.linalg.lapack_lite', 'numpy.linalg._umath_linalg', 'numpy.linalg.linalg', 'numpy.linalg', 'numpy.matrixlib.defmatrix', 'numpy.matrixlib', 'numpy.lib.histograms', 'numpy.lib.function_base', 'numpy.lib.stride_tricks', 'numpy.lib.index_tricks', 'numpy.lib.nanfunctions', 'numpy.lib.shape_base', 'numpy.lib.polynomial', 'numpy.lib.utils', 'numpy.lib.arraysetops', 'numpy.lib.format', 'numpy.lib._datasource', 'numpy.lib._iotools', 'numpy.lib.npyio', 'numpy.lib.arrayterator', 'numpy.lib.arraypad', 'numpy.lib._version', 'numpy.lib', 'numpy.fft._pocketfft_internal', 'numpy.fft._pocketfft', 'numpy.fft.helper', 'numpy.fft', 'numpy.polynomial.polyutils', 'numpy.polynomial._polybase', 'numpy.polynomial.polynomial', 'numpy.polynomial.chebyshev', 'numpy.polynomial.legendre', 'numpy.polynomial.hermite', 'numpy.polynomial.hermite_e', 'numpy.polynomial.laguerre', 'numpy.polynomial', '_cython_0_29_22', 'numpy.random._common', 'secrets', 'numpy.random.bit_generator', 'numpy.random._bounded_integers', 'numpy.random._mt19937', 'numpy.random.mtrand', 'numpy.random._philox', 'numpy.random._pcg64', 'numpy.random._sfc64', 'numpy.random._generator', 'numpy.random._pickle', 'numpy.random', 'numpy.ctypeslib', 'numpy.ma.core', 'numpy.ma.extras', 'numpy.ma', 'numpy', 'scipy._lib._testutils', 'scipy._lib', 'scipy._lib.deprecation', 'scipy.__config__', 'scipy.version', 'scipy._distributor_init', 'scipy._lib._pep440', 'scipy._lib._ccallback_c', 'scipy._lib._ccallback', 'scipy', 'scipy.special.sf_error', '_cython_0_29_23', 'scipy.special._ufuncs_cxx', 'scipy.special._ufuncs', 'scipy.special.specfun', 'scipy.linalg._fblas', 'scipy.linalg.blas', 'scipy.linalg._flapack', 'scipy._lib._util', 'scipy.linalg.lapack', 'scipy.linalg.misc', 'scipy.linalg._flinalg', 'scipy.linalg.flinalg', 'scipy.linalg.decomp', 'scipy.linalg.decomp_svd', 'scipy.linalg._solve_toeplitz', 'scipy.linalg.basic', 'scipy.linalg.decomp_lu', 'scipy.linalg._decomp_ldl', 'scipy.linalg.decomp_cholesky', 'scipy.linalg.decomp_qr', 'scipy.linalg._decomp_qz', 'scipy.linalg.decomp_schur', 'scipy.linalg._decomp_polar', 'scipy.linalg.special_matrices', 'scipy.linalg._expm_frechet', 'scipy.linalg._matfuncs_sqrtm_triu', 'scipy.linalg._matfuncs_sqrtm', 'scipy.linalg.matfuncs', 'scipy.linalg._solvers', 'scipy.linalg._procrustes', 'scipy.linalg.cython_blas', 'scipy.linalg.cython_lapack', 'scipy.linalg._decomp_update', 'scipy.sparse.sputils', 'scipy.sparse.base', 'scipy.sparse._sparsetools', 'scipy.sparse.data', 'scipy.sparse.dia', 'scipy.sparse._index', 'scipy.sparse.compressed', 'scipy.sparse.csr', 'scipy.sparse.csc', 'scipy.sparse._csparsetools', 'scipy.sparse.lil', 'scipy.sparse.dok', 'scipy.sparse.coo', 'scipy.sparse.bsr', 'scipy.sparse.construct', 'scipy.sparse.extract', 'scipy.sparse._matrix_io', 'scipy.sparse.csgraph._laplacian', 'scipy.sparse.csgraph._tools', 'scipy.sparse.csgraph._validation', 'scipy.sparse.csgraph._shortest_path', 'scipy.sparse.csgraph._traversal', 'scipy.sparse.csgraph._min_spanning_tree', 'scipy.sparse.csgraph._flow', 'scipy.sparse.csgraph._matching', 'scipy.sparse.csgraph._reordering', 'scipy.sparse.csgraph', 'scipy.sparse', 'scipy.linalg._sketches', 'scipy.linalg._decomp_cossin', 'scipy.linalg', 'scipy.special.orthogonal', 'scipy.special._comb', 'scipy.special._basic', 'scipy.special._logsumexp', 'scipy.special.spfun_stats', 'scipy.special._ellip_harm_2', 'scipy.special._ellip_harm', 'scipy.special._lambertw', 'scipy.special._spherical_bessel', 'scipy.special', 'scipy.integrate._quadrature', 'scipy.integrate._odepack', 'scipy.integrate.odepack', 'scipy.integrate._quadpack', 'scipy.integrate.quadpack', 'scipy.integrate.vode', 'scipy.integrate._dop', 'scipy.integrate.lsoda', 'scipy.integrate._ode', 'scipy.sparse.linalg.isolve._iterative', 'scipy.sparse.linalg.interface', 'scipy.sparse.linalg.isolve.utils', 'scipy._lib.decorator', 'scipy._lib._threadsafety', 'scipy.sparse.linalg.isolve.iterative', 'scipy.sparse.linalg.isolve.minres', 'scipy.sparse.linalg.isolve._gcrotmk', 'scipy.sparse.linalg.isolve.lgmres', 'scipy.sparse.linalg.isolve.lsqr', 'scipy.sparse.linalg.isolve.lsmr', 'scipy.sparse.linalg.isolve', 'scipy.sparse.linalg.dsolve._superlu', 'scipy.sparse.linalg.dsolve.linsolve', 'scipy.sparse.linalg.dsolve._add_newdocs', 'scipy.sparse.linalg.dsolve', 'scipy.sparse.linalg.eigen.arpack._arpack', 'scipy.sparse.linalg.eigen.lobpcg.lobpcg', 'scipy.sparse.linalg.eigen.lobpcg', 'scipy.sparse.linalg.eigen.arpack.arpack', 'scipy.sparse.linalg.eigen.arpack', 'scipy.sparse.linalg.eigen', 'scipy.sparse.linalg._expm_multiply', 'scipy.sparse.linalg.matfuncs', 'scipy.sparse.linalg._onenormest', 'scipy.sparse.linalg._norm', 'scipy.sparse.linalg', 'scipy.optimize.minpack2', 'scipy.optimize.linesearch', 'scipy.optimize._group_columns', 'scipy.optimize._numdiff', 'scipy.optimize._hessian_update_strategy', 'scipy.optimize._differentiable_functions', 'scipy.optimize.optimize', 'scipy.optimize._trustregion', 'scipy.optimize._trustregion_dogleg', 'scipy.optimize._trustregion_ncg', 'scipy._lib.messagestream', 'scipy.optimize._trlib._trlib', 'scipy.optimize._trlib', 'scipy.optimize._trustregion_krylov', 'scipy.optimize._trustregion_exact', 'unittest.util', 'unittest.result', 'unittest.case', 'unittest.async_case', 'unittest.suite', 'unittest.loader', 'unittest.signals', 'unittest.runner', 'unittest.main', 'unittest', 'numpy.testing._private', 'numpy.testing._private.utils', 'numpy.testing._private.decorators', 'numpy.testing._private.nosetester', 'numpy.testing', 'scipy.optimize._constraints', 'scipy.optimize._trustregion_constr.projections', 'scipy.optimize._trustregion_constr.qp_subproblem', 'scipy.optimize._trustregion_constr.equality_constrained_sqp', 'scipy.optimize._trustregion_constr.canonical_constraint', 'scipy.optimize._trustregion_constr.tr_interior_point', 'scipy.optimize._trustregion_constr.report', 'scipy.optimize._trustregion_constr.minimize_trustregion_constr', 'scipy.optimize._trustregion_constr', 'scipy.optimize._lbfgsb', 'scipy.optimize.lbfgsb', 'scipy.optimize.moduleTNC', 'scipy.optimize.tnc', 'scipy.optimize._cobyla', 'scipy.optimize.cobyla', 'scipy.optimize._slsqp', 'scipy.optimize.slsqp', 'scipy.optimize._minimize', 'scipy.optimize._minpack', 'scipy.optimize._lsq.common', 'scipy.optimize._lsq.trf', 'scipy.optimize._lsq.dogbox', 'scipy.optimize._lsq.least_squares', 'scipy.optimize._lsq.givens_elimination', 'scipy.optimize._lsq.trf_linear', 'scipy.optimize._lsq.bvls', 'scipy.optimize._lsq.lsq_linear', 'scipy.optimize._lsq', 'scipy.optimize.minpack', 'scipy.optimize._spectral', 'scipy.optimize.nonlin', 'scipy.optimize._root', 'scipy.optimize._zeros', 'scipy.optimize.zeros', 'scipy.optimize._root_scalar', 'scipy.optimize.__nnls', 'scipy.optimize._nnls', 'scipy.optimize._basinhopping', 'scipy.optimize._highs', 'scipy.optimize._highs.cython.src._highs_wrapper', 'scipy.optimize._highs._highs_wrapper', 'scipy.optimize._highs.cython.src._highs_constants', 'scipy.optimize._highs._highs_constants', 'scipy.optimize._linprog_highs', 'scipy.linalg._interpolative', 'scipy.linalg._interpolative_backend', 'scipy.linalg.interpolative', 'scipy.optimize._remove_redundancy', 'scipy.optimize._linprog_util', 'scipy.optimize._linprog_ip', 'scipy.optimize._linprog_simplex', 'scipy.optimize._bglu_dense', 'scipy.optimize._linprog_rs', 'scipy.optimize._linprog_doc', 'scipy.optimize._linprog', 'scipy.optimize._lsap_module', 'scipy.optimize._lsap', 'scipy.optimize._differentialevolution', 'scipy.spatial.ckdtree', 'scipy.spatial.kdtree', 'scipy.spatial.qhull', 'scipy.spatial._voronoi', 'scipy.spatial._spherical_voronoi', 'scipy.spatial._plotutils', 'scipy.spatial._procrustes', 'scipy.spatial._distance_wrap', 'scipy.spatial._hausdorff', 'scipy.spatial.distance', 'scipy.spatial._geometric_slerp', 'scipy.constants.codata', 'scipy.constants.constants', 'scipy.constants', 'scipy.spatial.transform._rotation_groups', 'scipy.spatial.transform.rotation', 'scipy.spatial.transform._rotation_spline', 'scipy.spatial.transform', 'scipy.spatial', 'scipy.optimize._shgo_lib', 'scipy.optimize._shgo_lib.sobol_seq', 'scipy.optimize._shgo_lib.triangulation', 'scipy.optimize._shgo', 'scipy.optimize._dual_annealing', 'scipy.optimize._qap', 'scipy.optimize', 'scipy.integrate._bvp', 'scipy.integrate._ivp.common', 'scipy.integrate._ivp.base', 'scipy.integrate._ivp.bdf', 'scipy.integrate._ivp.radau', 'scipy.integrate._ivp.dop853_coefficients', 'scipy.integrate._ivp.rk', 'scipy.integrate._ivp.lsoda', 'scipy.integrate._ivp.ivp', 'scipy.integrate._ivp', 'scipy.integrate._quad_vec', 'scipy.integrate', 'simtk', 'simtk.openmm.version', 'swig_runtime_data4', 'simtk.openmm._openmm', 'simtk.unit.mymatrix', 'simtk.unit.basedimension', 'simtk.unit.baseunit', 'simtk.unit.standard_dimensions', 'simtk.unit.unit', 'simtk.unit.quantity', 'simtk.unit.unit_operators', 'simtk.unit.prefix', 'simtk.unit.unit_definitions', 'simtk.unit.unit_math', 'simtk.unit.constants', 'simtk.unit', 'simtk.openmm.vec3', 'simtk.openmm.openmm', 'simtk.openmm.mtsintegrator', 'simtk.openmm.amd', 'simtk.openmm', 'xml.etree', 'xml.etree.ElementPath', 'pyexpat.errors', 'pyexpat.model', 'pyexpat', '_elementtree', 'xml.etree.ElementTree', 'simtk.openmm.app.internal', 'simtk.openmm.app.internal.singleton', 'simtk.openmm.app.topology', 'simtk.openmm.app.element', 'simtk.openmm.app.internal.unitcell', 'simtk.openmm.app.internal.pdbstructure', 'simtk.openmm.app.pdbfile', 'simtk.openmm.app.internal.pdbx', 'simtk.openmm.app.internal.pdbx.reader', 'simtk.openmm.app.internal.pdbx.reader.PdbxContainers', 'simtk.openmm.app.internal.pdbx.reader.PdbxReader', 'simtk.openmm.app.pdbxfile', 'simtk.openmm.app.internal.compiled', 'simtk.openmm.app.forcefield', 'simtk.openmm.app.simulation', 'simtk.openmm.app.pdbreporter', 'simtk.openmm.app.internal.customgbforces', 'simtk.openmm.app.internal.amber_file_parser', 'simtk.openmm.app.amberprmtopfile', 'simtk.openmm.app.amberinpcrdfile', 'simtk.openmm.app.dcdfile', 'simtk.openmm.app.gromacsgrofile', 'distutils.errors', 'distutils.debug', 'distutils.log', 'distutils.spawn', 'simtk.openmm.app.gromacstopfile', 'simtk.openmm.app.dcdreporter', 'simtk.openmm.app.modeller', 'gzip', 'simtk.openmm.app.statedatareporter', 'simtk.openmm.app.desmonddmsfile', 'simtk.openmm.app.checkpointreporter', 'simtk.openmm.app.internal.charmm', 'simtk.openmm.app.internal.charmm.exceptions', 'simtk.openmm.app.charmmcrdfiles', 'simtk.openmm.app.internal.charmm._charmmfile', 'simtk.openmm.app.internal.charmm.topologyobjects', 'simtk.openmm.app.charmmparameterset', 'simtk.openmm.app.charmmpsffile', 'simtk.openmm.app.simulatedtempering', 'simtk.openmm.app.metadynamics', 'simtk.openmm.app', 'openmmtools.constants', 'openmmtools.testsystems', 'openmmtools.respa', 'openmmtools.utils', 'openmmtools.integrators', 'openmmtools.forces', 'openmmtools.states', 'mdtraj.utils.delay_import', 'mdtraj.utils.six.moves', 'mdtraj.utils.six.moves.urllib_parse', 'mdtraj.utils.six.moves.urllib.parse', 'mdtraj.utils.six.moves.urllib_error', 'mdtraj.utils.six.moves.urllib.error', 'mdtraj.utils.six.moves.urllib_request', 'mdtraj.utils.six.moves.urllib.request', 'mdtraj.utils.six.moves.urllib_response', 'mdtraj.utils.six.moves.urllib.response', 'mdtraj.utils.six.moves.urllib_robotparser', 'mdtraj.utils.six.moves.urllib.robotparser', 'mdtraj.utils.six.moves.urllib', 'mdtraj.utils.six', 'mdtraj.utils.validation', 'mdtraj.utils.unit.basedimension', 'mdtraj.utils.unit.standard_dimensions', 'mdtraj.utils.unit.mymatrix', 'mdtraj.utils.unit.baseunit', 'mdtraj.utils.unit.unit', 'mdtraj.utils.unit.quantity', 'mdtraj.utils.unit.unit_operators', 'mdtraj.utils.unit.prefix', 'mdtraj.utils.unit.unit_definitions', 'mdtraj.utils.unit', 'mdtraj.utils.rotation', 'mdtraj.utils.unitcell', 'mdtraj.utils.contextmanagers', 'mdtraj.utils.zipped', 'mdtraj.utils', 'mdtraj.formats.registry', 'mdtraj.formats.arc', 'mdtraj.formats.dcd', 'mdtraj.formats.binpos', 'xdrlib', 'mdtraj.formats.xtc', 'mdtraj.formats.trr', 'mdtraj.version', 'mdtraj.core', 'mdtraj.core.element', 'mdtraj.core.residue_names', 'pyparsing', 'astunparse.unparser', 'astunparse.printer', 'astunparse', 'mdtraj.core.selection', 'mdtraj.utils.singleton', 'mdtraj.core.topology', 'mdtraj.formats.hdf5', 'mdtraj.formats.netcdf', 'mdtraj.formats.pdb.pdbstructure', 'mdtraj.formats.pdb.pdbfile', 'mdtraj.formats.pdb', 'mdtraj.formats.lh5', 'mdtraj.formats.mdcrd', 'mdtraj.formats.amberrst', 'mdtraj.formats.lammpstrj', 'mdtraj.formats.dtr', 'mdtraj.formats.gro', 'mdtraj.formats.xyzfile', 'mdtraj.formats.tng', 'mdtraj.formats', 'mdtraj.formats.openmmxml', 'mdtraj.formats.prmtop', 'mdtraj.formats.psf', 'mdtraj.formats.mol2', 'xml.etree.cElementTree', 'mdtraj.formats.hoomdxml', 'mdtraj._rmsd', 'mdtraj._lprmsd', 'mdtraj.geometry.rg', 'mdtraj.geometry._geometry', 'mdtraj.geometry.distance', 'mdtraj.geometry.angle', 'mdtraj.geometry.dihedral', 'mdtraj.geometry.hbond', 'mdtraj.geometry.sasa', 'mdtraj.geometry.contact', 'mdtraj.geometry.drid', 'mdtraj.geometry.dssp', 'mdtraj.geometry.neighbors', 'mdtraj.geometry.neighborlist', 'mdtraj.geometry.thermodynamic_properties', 'mdtraj.geometry.rdf', 'zipfile', 'xml.parsers', 'xml.parsers.expat.model', 'xml.parsers.expat.errors', 'xml.parsers.expat', 'plistlib', 'pkg_resources.extern', 'pkg_resources._vendor', 'pkg_resources._vendor.appdirs', 'pkg_resources.extern.appdirs', 'pkg_resources._vendor.packaging.__about__', 'pkg_resources._vendor.packaging', 'pkg_resources.extern.packaging', 'pkg_resources.extern.packaging._structures', 'pkg_resources.extern.packaging._typing', 'pkg_resources.extern.packaging.version', 'pkg_resources.extern.packaging._compat', 'pkg_resources.extern.packaging.utils', 'pkg_resources.extern.packaging.specifiers', 'pkg_resources._vendor.pyparsing', 'pkg_resources.extern.pyparsing', 'pkg_resources.extern.packaging.markers', 'pkg_resources.extern.packaging.requirements', 'encodings.cp437', 'pkg_resources', 'mdtraj.geometry.order', 'mdtraj.geometry.shape', 'mdtraj.geometry', 'mdtraj.formats.gsd', 'mdtraj.core.trajectory', 'mdtraj.nmr.shift_wrappers', 'mdtraj.nmr.scalar_couplings', 'mdtraj.nmr', 'mdtraj.reporters.basereporter', 'mdtraj.reporters.hdf5reporter', 'mdtraj.reporters.netcdfreporter', 'mdtraj.reporters.dcdreporter', 'mdtraj.reporters.xtcreporter', 'mdtraj.reporters', 'mdtraj', 'openmmtools.forcefactories', 'openmmtools.alchemy', 'openmmtools.cache', 'openmmtools.mcmc', 'yaml.error', 'yaml.tokens', 'yaml.events', 'yaml.nodes', 'yaml.reader', 'yaml.scanner', 'yaml.parser', 'yaml.composer', 'yaml.constructor', 'yaml.resolver', 'yaml.loader', 'yaml.emitter', 'yaml.serializer', 'yaml.representer', 'yaml.dumper', 'yaml._yaml', 'yaml.cyaml', 'yaml', 'netCDF4.utils', 'cftime._cftime', 'cftime', 'netCDF4._netCDF4', 'netCDF4', 'openmmtools.storage.iodrivers', 'openmmtools.storage.storageinterface', 'openmmtools.storage', 'mpiplus.mpiplus', 'mpiplus._version', 'mpiplus', 'numexpr.__config__', 'numexpr.interpreter', 'numexpr.expressions', 'numexpr.utils', 'numexpr.necompiler', 'numexpr.version', 'numexpr', 'pymbar.utils', 'pymbar.timeseries', 'pymbar.testsystems.harmonic_oscillators', 'pymbar.testsystems.exponential_distributions', 'pymbar.testsystems.timeseries', 'pymbar.testsystems.gaussian_work', 'pymbar.testsystems', 'scipy.ndimage._ni_support', 'scipy.ndimage._nd_image', 'scipy._lib.doccer', 'scipy.ndimage._ni_docstrings', 'scipy.ndimage.filters', 'scipy.ndimage.fourier', 'scipy.ndimage.interpolation', '_ni_label', 'scipy.ndimage._ni_label', 'scipy.ndimage.morphology', 'scipy.ndimage.measurements', 'scipy.ndimage', 'scipy.stats._distr_params', 'scipy.misc.doccer', 'scipy.misc.common', 'scipy.misc', 'scipy.stats._constants', 'scipy.stats._distn_infrastructure', 'scipy.interpolate._fitpack', 'scipy.interpolate.dfitpack', 'scipy.interpolate._fitpack_impl', 'scipy.interpolate._bspl', 'scipy.interpolate._bsplines', 'scipy.interpolate.fitpack', 'scipy.interpolate.polyint', 'scipy.interpolate._ppoly', 'scipy.interpolate.fitpack2', 'scipy.interpolate.interpnd', 'scipy.interpolate.interpolate', 'scipy.interpolate.rbf', 'scipy.interpolate._cubic', 'scipy.interpolate.ndgriddata', 'scipy.interpolate._pade', 'scipy.interpolate', 'scipy.special.cython_special', 'scipy.stats._stats', 'scipy.stats._rvs_sampling', 'scipy.stats._tukeylambda_stats', 'scipy.stats._ksstats', 'scipy.stats._continuous_distns', 'scipy.stats._discrete_distns', 'scipy.stats.distributions', 'scipy._lib._bunch', 'scipy.stats._stats_mstats_common', 'scipy.stats.mstats_basic', 'scipy.stats._wilcoxon_data', 'scipy.stats._hypotests', 'scipy.stats.stats', 'scipy.stats.statlib', 'scipy.stats.contingency', 'scipy.stats.morestats', 'scipy.stats._binned_statistic', 'scipy.stats.mvn', 'scipy.stats.kde', 'scipy.stats.mstats_extras', 'scipy.stats.mstats', 'scipy.stats._multivariate', 'scipy.stats', 'pymbar.confidenceintervals', 'pymbar.version', 'pymbar.mbar_solvers', 'pymbar.mbar', 'pymbar.exp', 'pymbar.bar', 'pymbar.old_mbar', 'pymbar', 'openmmtools.multistate.utils', 'openmmtools.multistate.multistatesampler', 'openmmtools.multistate.multistatereporter', 'numba._version', 'numba.misc', 'numba.misc.init_utils', 'numba.core', 'multiprocessing.process', 'multiprocessing.reduction', 'multiprocessing.context', '__mp_main__', 'multiprocessing', 'llvmlite._version', 'llvmlite', 'llvmlite.binding.common', 'llvmlite.utils', 'llvmlite.binding.ffi', 'llvmlite.binding.dylib', 'llvmlite.binding.targets', 'llvmlite.binding.object_file', 'llvmlite.binding.executionengine', 'llvmlite.binding.initfini', 'llvmlite.binding.linker', 'llvmlite.binding.value', 'llvmlite.binding.context', 'llvmlite.binding.module', 'llvmlite.binding.options', 'llvmlite.binding.passmanagers', 'llvmlite.binding.transforms', 'llvmlite.ir._utils', 'llvmlite.ir.types', 'llvmlite.ir.values', 'llvmlite.ir.context', 'llvmlite.ir.module', 'llvmlite.ir.instructions', 'llvmlite.ir.builder', 'llvmlite.ir.transforms', 'llvmlite.ir', 'llvmlite.binding.analysis', 'llvmlite.binding', 'numba.core.config', 'numba.testing.loader', 'numba.testing.main', 'numba.testing', 'numba.testing._runtests', 'numba.core.utils', 'numba.core.types.abstract', 'numba.core.types.common', 'numba.core.typeconv.castgraph', 'numba.core.typeconv', 'numba.core.errors', 'numba.core.types.misc', 'numba.core.types.containers', 'numba.core.types.functions', 'numba.core.types.iterators', 'numba.core.types.npytypes', 'numba.np', 'numba.np.npdatetime_helpers', 'numba.core.types.scalars', 'numba.core.types.function_type', 'numba.core.types', 'numba.core.typeconv._typeconv', 'numba.core.typeconv.typeconv', 'numba.core.typeconv.rules', 'numba.core.cpu_options', 'numba.core.typing.templates', 'numba.core.datamodel.manager', 'numba.core.datamodel.packer', 'numba.core.datamodel.registry', 'numba.core.datamodel.models', 'numba.core.datamodel', 'numba.core.cgutils', 'numba.np.numpy_support', 'numba.core.typing.typeof', 'numba.core.typing.context', 'numba.core.typing', 'numba.core.typing.asnumbatype', 'numba.misc.special', 'numba.stencils', 'numba.core.consts', 'numba.core.ir', 'numba.core.imputils', 'llvmlite.llvmpy', 'llvmlite.llvmpy.core', 'numba._helperlib', 'numba.core.debuginfo', 'numba.core.itanium_mangler', 'numba.core.funcdesc', 'numba.core.generators', 'numba.core.removerefctpass', 'numba._dynfunc', 'numba.core.serialize', 'numba.core.environment', 'numba.core.lowering', 'numba.core.pythonapi', 'numba.core.extending', 'numba.core.controlflow', 'numba.core.analysis', 'numba.core.transforms', 'numba.core.postproc', 'numba.core.rewrites.registry', 'numba.core.rewrites.static_getitem', 'numba.core.rewrites.static_raise', 'numba.core.rewrites.static_binop', 'numba.core.rewrites.ir_print', 'numba.core.rewrites', 'numba.core.ir_utils', 'numba.core.descriptors', 'numba._devicearray', 'numba._dispatcher', 'numba.core.tracing', 'numba.core.dataflow', 'numba.core.byteflow', 'numba.core.unsafe', 'numba.core.unsafe.eh', 'numba.cpython', 'numba.cpython.unsafe', 'numba.cpython.unsafe.tuple', 'numba.core.interpreter', 'numba.core.bytecode', 'numba.core.event', 'numba.core.compiler_lock', 'numba.misc.quicksort', 'numba.misc.mergesort', 'numba.cpython.slicing', 'numba.np.arrayobj', 'numba.core.typeinfer', 'numba.stencils.stencilparfor', 'numba.core.typing.npydecl', 'numba.np.unsafe', 'numba.np.unsafe.ndarray', 'numba.parfors.array_analysis', 'numba.parfors.parfor', 'numba.core.sigutils', 'numba.parfors.parfor_lowering_utils', 'numba.parfors.parfor_lowering', 'numba.parfors', 'numba.core.typing.builtins', 'numba.extending', 'numba.cpython.builtins', 'numba.core.base', 'numba.core.callconv', 'numba.core.callwrapper', 'llvmlite.llvmpy.passes', 'numba.core.runtime.nrtdynmod', 'numba.core.runtime._nrt_python', 'numba.core.runtime.nrt', 'numba.core.runtime', 'numba.core.runtime.nrtopt', 'numba.misc.inspection', 'numba.misc.llvm_pass_timings', 'numba.core.codegen', 'numba.core.intrinsics', 'numba.core.externals', 'numba.core.fastmathpass', 'numba.core.options', 'numba.core.entrypoints', 'numba.cpython.setobj', 'numba.cpython.listobj', 'numba.core.cpu', 'numba.cpython.rangeobj', 'numba.core.inline_closurecall', 'numba.core.compiler_machinery', 'numba.core.ssa', 'numba.core.untyped_passes', 'numba.core.annotations', 'numba.core.annotations.type_annotations', 'numba.core.typed_passes', 'numba.core.pylowering', 'numba.core.object_mode_passes', 'numba.core.compiler', 'numba.misc.appdirs', 'numba.core.caching', 'numba.core.dispatcher', 'numba.core.registry', 'numba.stencils.stencil', 'numba.core.decorators', 'numba.np.ufunc._internal', 'numba.np.ufunc.wrappers', 'numba.np.ufunc.sigparse', 'numba.np.ufunc.ufuncbuilder', 'numba.np.ufunc.parallel', 'numba.np.ufunc.dufunc', 'numba.np.ufunc.gufunc', 'numba.np.ufunc.decorators', 'numba.np.ufunc.array_exprs', 'numba.np.ufunc', 'numba.experimental.jitclass._box', 'numba.experimental.jitclass.base', 'numba.experimental.jitclass.decorators', 'numba.experimental.jitclass.boxing', 'numba.experimental.jitclass', 'numba.experimental', 'numba.core.withcontexts', 'numba.typed.typedobjectutils', 'numba.core.unsafe.bytes', 'numba.cpython.hashing', 'numba.cpython.unicode_support', 'numba.cpython.unicode', 'numba.typed.dictobject', 'numba.core.boxing', 'numba.cpython.charseq', 'numba.typed.dictimpl', 'numba.core.typing.ctypes_utils', 'numba.core.ccallback', 'numba.experimental.function_type', 'numba.typed.typeddict', 'numba.typed.listobject', 'numba.typed.typedlist', 'numba.typed', 'numba', 'openmmtools.multistate.multistateanalyzer', 'openmmtools.multistate.replicaexchange', 'openmmtools.multistate.paralleltempering', 'openmmtools.multistate.sams', 'openmmtools.multistate', 'openmmtools._version', 'openmmtools', 'scipy.io.matlab.byteordercodes', 'scipy.io.matlab.miobase', 'scipy.io.matlab.mio_utils', 'scipy.io.matlab.mio4', 'scipy.io.matlab.streams', 'scipy.io.matlab.mio5_params', 'scipy.io.matlab.mio5_utils', 'scipy.io.matlab.mio5', 'scipy.io.matlab.mio', 'scipy.io.matlab', 'mmap', 'scipy.io.netcdf', 'scipy.io._fortran', 'scipy.io.mmio', 'scipy.io.idl', 'scipy.io.harwell_boeing._fortran_format_parser', 'scipy.io.harwell_boeing.hb', 'scipy.io.harwell_boeing', 'scipy.io', 'qmlify._version', 'qmlify', 'qmlify.openmm_torch', 'qmlify.openmm_torch.force_hybridization', 'qmlify.openmm_torch.utils', 'qmlify.openmm_torch.torchforce_generator', 'torch._six', 'torch._utils', 'torch._utils_internal', 'torch.version', 'torch._C._onnx', 'torch._C._jit_tree_views', 'torch._C._te', 'torch._C.cpp', 'torch._C.cpp.nn', 'torch._C._cudart', 'torch._C._nvtx', 'torch._C._cudnn', 'torch._C', 'torch._namedtensor_internals', 'torch.overrides', 'torch.utils.throughput_benchmark', 'torch.utils', 'torch.utils.hooks', 'torch.tensor', 'torch.storage', 'torch.random', 'tarfile', 'torch.types', 'torch.serialization', 'torch._tensor_str', 'torch.cuda._utils', 'torch.cuda.streams', 'torch.cuda.memory', 'torch.cuda.random', 'torch.cuda.sparse', 'torch.cuda.profiler', 'torch.cuda.nvtx', 'torch.cuda.amp.autocast_mode', 'torch.cuda.amp.grad_scaler', 'torch.cuda.amp', 'torch.cuda', 'torch.sparse', 'torch.nn.parameter', 'torch.nn.modules.module', 'torch._VF', 'torch._torch_docs', 'torch._C._distributed_c10d', 'torch.distributed.constants', 'torch.distributed.rendezvous', 'torch.distributed.distributed_c10d', 'torch.distributed', 'torch._C._distributed_rpc', 'torch.futures', 'torch.distributed.rpc.internal', 'torch.distributed.rpc.constants', 'torch.distributed.rpc.api', 'torch.distributed.rpc.backend_registry', 'torch.distributed.rpc.functions', 'torch.distributed.rpc.options', 'torch.autograd.variable', 'torch.autograd.function', 'torch.testing.check_kernel_launches', 'torch.testing', 'torch.utils._pytree', 'torch._vmap_internals', 'torch.autograd.gradcheck', 'torch.autograd.grad_mode', 'torch.autograd.anomaly_mode', 'torch.autograd.functional', 'torch.autograd.forward_ad', 'torch._C._autograd', 'torch.autograd.profiler', 'torch.autograd', 'torch.distributed.rpc.server_process_global_profiler', 'torch._C._distributed_autograd', 'torch.distributed.autograd', 'torch.distributed.rpc', 'torch._jit_internal', 'torch.nn._reduction', 'torch.nn.modules.utils', 'torch.nn.grad', 'torch.nn.functional', 'torch.nn.init', 'typing_extensions', 'torch.nn.modules.lazy', 'torch.nn.modules.linear', 'torch.nn.common_types', 'torch.nn.modules.conv', 'torch.nn.modules.activation', 'torch.nn.modules.distance', 'torch.nn.modules.loss', 'torch.nn.modules.container', 'torch.nn.modules.pooling', 'torch.nn.modules._functions', 'torch.nn.modules.batchnorm', 'torch.nn.modules.instancenorm', 'torch.nn.modules.normalization', 'torch.nn.modules.dropout', 'torch.nn.modules.padding', 'torch.nn.modules.sparse', 'torch.nn.utils.rnn', 'torch.nn.utils.clip_grad', 'torch.nn.utils.weight_norm', 'torch.nn.utils.convert_parameters', 'torch.nn.utils.spectral_norm', 'torch.nn.utils.fusion', 'torch.nn.utils.memory_format', 'torch.nn.utils', 'torch.nn.modules.rnn', 'torch.nn.modules.pixelshuffle', 'torch.nn.modules.upsampling', 'torch.nn.modules.fold', 'torch.nn.modules.adaptive', 'torch.nn.modules.transformer', 'torch.nn.modules.flatten', 'torch.nn.modules.channelshuffle', 'torch.nn.modules', 'torch.nn.parallel.parallel_apply', 'torch.cuda.nccl', 'torch.nn.parallel.comm', 'torch.nn.parallel.replicate', 'torch.nn.parallel._functions', 'torch.nn.parallel.scatter_gather', 'torch.nn.parallel.data_parallel', 'torch.nn.parallel.distributed', 'torch.nn.parallel', 'torch.nn', 'torch._linalg_utils', 'torch._lowrank', 'torch._autograd_functions', 'torch.functional', 'torch.fft', 'torch.nn.intrinsic.modules.fused', 'torch.nn.intrinsic.modules', 'torch.nn.intrinsic', 'torch.nn.quantizable.modules.rnn', 'torch.nn.quantizable.modules', 'torch.nn.quantizable', 'torch.nn.quantized.modules.utils', 'torch.jit._state', 'torch.jit.annotations', 'torch.jit.frontend', 'torch.backends', 'torch.backends.cudnn', 'torch.jit._builtins', 'torch.jit._recursive', 'torch.jit._fuser', 'torch.jit._script', 'torch.jit._trace', 'torch.jit._async', 'torch.jit._serialization', 'torch.jit.cuda', 'torch.jit._freeze', 'torch.jit', 'torch.nn.quantized.functional', 'torch.nn.quantized.modules.activation', 'torch.nn.quantized.modules.batchnorm', 'torch.nn.quantized.modules.normalization', 'torch.nn.qat.modules.linear', 'torch.nn.qat.modules.conv', 'torch.nn.qat.modules', 'torch.nn.qat', 'torch.nn.intrinsic.qat.modules.linear_relu', 'torch.nn.intrinsic.qat.modules.conv_fused', 'torch.nn.intrinsic.qat.modules', 'torch.nn.intrinsic.qat', 'torch._ops', 'torch.nn.quantized.modules.conv', 'torch.nn.quantized.modules.linear', 'torch.nn.quantized.modules.embedding_ops', 'torch.nn.quantized.modules.functional_modules', 'torch.nn.quantized.modules', 'torch.nn.quantized', 'torch.optim._functional', 'torch.optim.optimizer', 'torch.optim.adadelta', 'torch.optim.adagrad', 'torch.optim.adam', 'torch.optim.adamw', 'torch.optim.sparse_adam', 'torch.optim.adamax', 'torch.optim.asgd', 'torch.optim.sgd', 'torch.optim.rprop', 'torch.optim.rmsprop', 'torch.optim.lbfgs', 'torch.optim.lr_scheduler', 'torch.optim.swa_utils', 'torch.optim', 'torch.optim._multi_tensor.adam', 'torch.optim._multi_tensor.adamw', 'torch.optim._multi_tensor.sgd', 'torch.optim._multi_tensor.rmsprop', 'torch.optim._multi_tensor.rprop', 'torch.optim._multi_tensor.asgd', 'torch.optim._multi_tensor.adamax', 'torch.optim._multi_tensor.adadelta', 'torch.optim._multi_tensor', 'multiprocessing.util', 'multiprocessing.resource_sharer', 'torch.multiprocessing.reductions', '_multiprocessing', 'multiprocessing.connection', 'torch.multiprocessing.spawn', 'torch.multiprocessing', 'torch.utils.backcompat', 'torch.onnx', 'torch.linalg', 'tqdm._monitor', 'tqdm._tqdm_pandas', 'tqdm.utils', 'tqdm.std', 'tqdm._dist_ver', 'tqdm.version', 'tqdm.cli', 'tqdm.gui', 'tqdm', 'ipywidgets._version', 'ipywidgets.widgets.widget', 'ipywidgets.widgets.util', 'ipywidgets.widgets.trait_types', 'ipywidgets.widgets.widget_layout', 'ipywidgets.widgets.widget_style', 'ipywidgets.widgets.domwidget', 'ipywidgets.widgets.valuewidget', 'ipywidgets.widgets.widget_core', 'ipywidgets.widgets.widget_description', 'ipywidgets.widgets.widget_bool', 'ipywidgets.widgets.widget_button', 'ipywidgets.widgets.docutils', 'ipywidgets.widgets.widget_box', 'ipywidgets.widgets.widget_int', 'ipywidgets.widgets.widget_float', 'ipywidgets.widgets.widget_color', 'ipywidgets.widgets.widget_date', 'ipywidgets.widgets.widget_output', 'ipywidgets.widgets.widget_selection', 'ipywidgets.widgets.widget_selectioncontainer', 'ipywidgets.widgets.widget_string', 'ipywidgets.widgets.widget_controller', 'ipywidgets.widgets.interaction', 'ipywidgets.widgets.widget_link', 'ipywidgets.widgets.widget_media', 'ipywidgets.widgets.widget_templates', 'ipywidgets.widgets.widget_upload', 'ipywidgets.widgets', 'ipywidgets', 'tqdm.notebook', 'tqdm.autonotebook', 'tqdm.asyncio', 'tqdm.auto', 'torch.hub', 'torch.distributions.constraints', 'torch.distributions.utils', 'torch.distributions.distribution', 'torch.distributions.exp_family', 'torch.distributions.bernoulli', 'torch.distributions.dirichlet', 'torch.distributions.beta', 'torch.distributions.binomial', 'torch.distributions.categorical', 'torch.distributions.cauchy', 'torch.distributions.gamma', 'torch.distributions.chi2', 'torch.distributions.transforms', 'torch.distributions.constraint_registry', 'torch.distributions.continuous_bernoulli', 'torch.distributions.exponential', 'torch.distributions.fishersnedecor', 'torch.distributions.geometric', 'torch.distributions.uniform', 'torch.distributions.independent', 'torch.distributions.transformed_distribution', 'torch.distributions.gumbel', 'torch.distributions.half_cauchy', 'torch.distributions.normal', 'torch.distributions.half_normal', 'torch.distributions.laplace', 'torch.distributions.multivariate_normal', 'torch.distributions.lowrank_multivariate_normal', 'torch.distributions.one_hot_categorical', 'torch.distributions.pareto', 'torch.distributions.poisson', 'torch.distributions.kl', 'torch.distributions.kumaraswamy', 'torch.distributions.lkj_cholesky', 'torch.distributions.log_normal', 'torch.distributions.logistic_normal', 'torch.distributions.mixture_same_family', 'torch.distributions.multinomial', 'torch.distributions.negative_binomial', 'torch.distributions.relaxed_bernoulli', 'torch.distributions.relaxed_categorical', 'torch.distributions.studentT', 'torch.distributions.von_mises', 'torch.distributions.weibull', 'torch.distributions', 'torch.backends.cuda', 'torch.backends.mkl', 'torch.backends.mkldnn', 'torch.backends.openmp', 'torch.backends.quantized', 'torch.nn.intrinsic.quantized.modules.linear_relu', 'torch.nn.intrinsic.quantized.modules.conv_relu', 'torch.nn.intrinsic.quantized.modules.bn_relu', 'torch.nn.intrinsic.quantized.modules', 'torch.nn.intrinsic.quantized', 'torch.nn.quantized.dynamic.modules.linear', 'torch.nn.quantized.dynamic.modules.rnn', 'torch.nn.quantized.dynamic.modules', 'torch.nn.quantized.dynamic', 'torch.quantization.stubs', 'torch.quantization.observer', 'torch.quantization.fake_quantize', 'torch.quantization.quant_type', 'torch.quantization.utils', 'torch.quantization.quantization_mappings', 'torch.quantization.qconfig', 'torch.quantization.quantize', 'torch.quantization.fuser_method_mappings', 'torch.quantization.fuse_modules', 'torch.quantization.quantize_jit', 'torch.quantization', 'torch.utils.data.sampler', 'torch.utils.data.dataset', 'torch.utils.data.distributed', 'dataclasses', 'torch.utils.data._utils.signal_handling', 'torch.utils.data._utils.worker', 'torch.utils.data._utils.pin_memory', 'torch.utils.data._utils.collate', 'torch.utils.data._utils.fetch', 'torch.utils.data._utils', 'torch.utils.data.dataloader', 'torch.utils.data', 'torch.__config__', 'torch.__future__', 'torch.profiler.profiler', 'torch.profiler', 'torch._tensor_docs', 'torch._storage_docs', 'torch._classes', 'torch.quasirandom', 'torch.multiprocessing._atfork', 'torch._lobpcg', 'torch', 'torchani.units', 'torchani.nn', 'torchani.utils', 'torchani.aev', 'lark.utils', 'lark.tree', 'lark.exceptions', 'lark.lexer', 'lark.visitors', 'lark.parse_tree_builder', 'lark.parsers', 'lark.grammar', 'lark.parsers.grammar_analysis', 'lark.parsers.earley_common', 'lark.parsers.earley_forest', 'lark.parsers.earley', 'lark.parsers.xearley', 'lark.parsers.cyk', 'lark.parsers.lalr_analysis', 'lark.parsers.lalr_interactive_parser', 'lark.parsers.lalr_parser', 'lark.common', 'lark.parser_frontends', 'lark.load_grammar', 'lark.lark', 'lark', 'torchani.neurochem', 'urllib3.packages.ssl_match_hostname', 'urllib3.packages', 'urllib3.packages.six', 'urllib3.packages.six.moves', 'urllib3.packages.six.moves.http_client', 'urllib3.exceptions', 'urllib3._version', 'urllib3.contrib', 'urllib3.contrib._appengine_environ', 'urllib3.util.wait', 'urllib3.util.connection', '_cffi_backend', '_brotli.lib', '_brotli', 'brotli._brotli', 'brotli.brotli', 'brotli', 'urllib3.util.request', 'urllib3.util.response', 'urllib3.util.retry', 'urllib3.util.url', 'urllib3.util.ssltransport', 'urllib3.util.ssl_', 'urllib3.util.timeout', 'urllib3.util', 'urllib3.util.proxy', 'urllib3._collections', 'urllib3.connection', 'urllib3.fields', 'urllib3.filepost', 'urllib3.packages.six.moves.urllib', 'urllib3.packages.six.moves.urllib.parse', 'urllib3.request', 'urllib3.response', 'urllib3.util.queue', 'urllib3.connectionpool', 'urllib3.poolmanager', 'urllib3', 'chardet.enums', 'chardet.charsetprober', 'chardet.charsetgroupprober', 'chardet.codingstatemachine', 'chardet.escsm', 'chardet.escprober', 'chardet.latin1prober', 'chardet.mbcssm', 'chardet.utf8prober', 'chardet.mbcharsetprober', 'chardet.euctwfreq', 'chardet.euckrfreq', 'chardet.gb2312freq', 'chardet.big5freq', 'chardet.jisfreq', 'chardet.chardistribution', 'chardet.jpcntx', 'chardet.sjisprober', 'chardet.eucjpprober', 'chardet.gb2312prober', 'chardet.euckrprober', 'chardet.cp949prober', 'chardet.big5prober', 'chardet.euctwprober', 'chardet.mbcsgroupprober', 'chardet.hebrewprober', 'chardet.sbcharsetprober', 'chardet.langbulgarianmodel', 'chardet.langgreekmodel', 'chardet.langhebrewmodel', 'chardet.langrussianmodel', 'chardet.langthaimodel', 'chardet.langturkishmodel', 'chardet.sbcsgroupprober', 'chardet.universaldetector', 'chardet.version', 'chardet', 'requests.exceptions', 'requests.__version__', 'importlib.resources', 'certifi.core', 'certifi', 'requests.certs', 'http.cookiejar', 'http.cookies', 'requests.compat', 'requests._internal_utils', 'requests.cookies', 'requests.structures', 'requests.utils', 'requests.packages.urllib3.packages.ssl_match_hostname', 'requests.packages.urllib3.packages', 'requests.packages.urllib3.packages.six', 'requests.packages.urllib3.packages.six.moves', 'requests.packages.urllib3.packages.six.moves.http_client', 'requests.packages.urllib3.exceptions', 'requests.packages.urllib3._version', 'requests.packages.urllib3.contrib', 'requests.packages.urllib3.contrib._appengine_environ', 'requests.packages.urllib3.util.wait', 'requests.packages.urllib3.util.connection', 'requests.packages.urllib3.util.request', 'requests.packages.urllib3.util.response', 'requests.packages.urllib3.util.retry', 'requests.packages.urllib3.util.url', 'requests.packages.urllib3.util.ssltransport', 'requests.packages.urllib3.util.ssl_', 'requests.packages.urllib3.util.timeout', 'requests.packages.urllib3.util', 'requests.packages.urllib3.util.proxy', 'requests.packages.urllib3._collections', 'requests.packages.urllib3.connection', 'requests.packages.urllib3.fields', 'requests.packages.urllib3.filepost', 'requests.packages.urllib3.packages.six.moves.urllib', 'requests.packages.urllib3.packages.six.moves.urllib.parse', 'requests.packages.urllib3.request', 'requests.packages.urllib3.response', 'requests.packages.urllib3.util.queue', 'requests.packages.urllib3.connectionpool', 'requests.packages.urllib3.poolmanager', 'requests.packages.urllib3', 'idna.package_data', 'idna.idnadata', 'idna.intranges', 'idna.core', 'idna', 'requests.packages.idna.package_data', 'requests.packages.idna.idnadata', 'requests.packages.idna.intranges', 'requests.packages.idna.core', 'requests.packages.idna', 'requests.packages.chardet.enums', 'requests.packages.chardet.charsetprober', 'requests.packages.chardet.charsetgroupprober', 'requests.packages.chardet.codingstatemachine', 'requests.packages.chardet.escsm', 'requests.packages.chardet.escprober', 'requests.packages.chardet.latin1prober', 'requests.packages.chardet.mbcssm', 'requests.packages.chardet.utf8prober', 'requests.packages.chardet.mbcharsetprober', 'requests.packages.chardet.euctwfreq', 'requests.packages.chardet.euckrfreq', 'requests.packages.chardet.gb2312freq', 'requests.packages.chardet.big5freq', 'requests.packages.chardet.jisfreq', 'requests.packages.chardet.chardistribution', 'requests.packages.chardet.jpcntx', 'requests.packages.chardet.sjisprober', 'requests.packages.chardet.eucjpprober', 'requests.packages.chardet.gb2312prober', 'requests.packages.chardet.euckrprober', 'requests.packages.chardet.cp949prober', 'requests.packages.chardet.big5prober', 'requests.packages.chardet.euctwprober', 'requests.packages.chardet.mbcsgroupprober', 'requests.packages.chardet.hebrewprober', 'requests.packages.chardet.sbcharsetprober', 'requests.packages.chardet.langbulgarianmodel', 'requests.packages.chardet.langgreekmodel', 'requests.packages.chardet.langhebrewmodel', 'requests.packages.chardet.langrussianmodel', 'requests.packages.chardet.langthaimodel', 'requests.packages.chardet.langturkishmodel', 'requests.packages.chardet.sbcsgroupprober', 'requests.packages.chardet.universaldetector', 'requests.packages.chardet.version', 'requests.packages.chardet', 'requests.packages', 'stringprep', 'encodings.idna', 'requests.hooks', 'requests.auth', 'requests.status_codes', 'requests.models', 'socks', 'urllib3.contrib.socks', 'requests.adapters', 'requests.sessions', 'requests.api', 'requests', 'distutils.dir_util', 'torchani.models', 'torchani', '_openmmtorch', 'openmmtorch', 'multiprocessing.synchronize', 'matplotlib', 'matplotlib._api.deprecation', 'matplotlib._api', 'matplotlib._c_internal_utils', 'matplotlib.cbook', 'matplotlib.docstring', 'PIL._version', 'PIL', 'PIL.ImageMode', 'PIL.TiffTags', 'PIL._binary', 'PIL._util', 'PIL._imaging', 'cffi.lock', 'cffi.error', 'cffi.model', 'cffi.api', 'cffi', 'PIL.Image', 'matplotlib._animation_data', 'matplotlib.animation', 'PIL.ImageChops', 'PIL.ImageFile', 'PIL.GimpGradientFile', 'PIL.GimpPaletteFile', 'PIL.ImageColor', 'PIL.PaletteFile', 'PIL.ImagePalette', 'PIL.ImageSequence', 'PIL.PngImagePlugin', 'matplotlib._path', 'matplotlib.bezier', 'matplotlib.path', 'matplotlib.transforms', 'matplotlib.ticker', 'matplotlib.scale', 'matplotlib._color_data', 'matplotlib.colors', 'matplotlib.fontconfig_pattern', 'matplotlib._enums', 'cycler', 'matplotlib.rcsetup', 'matplotlib._version', 'matplotlib.ft2font', 'kiwisolver', 'dateutil.rrule', 'matplotlib.units', 'matplotlib.dates']\n"
     ]
    },
    {
     "name": "stderr",
     "output_type": "stream",
     "text": [
      "DEBUG:matplotlib:CACHEDIR=/home/dominic/.cache/matplotlib\n",
      "DEBUG:matplotlib.font_manager:Using fontManager instance from /home/dominic/.cache/matplotlib/fontlist-v330.json\n",
      "DEBUG:matplotlib.pyplot:Loaded backend module://ipykernel.pylab.backend_inline version unknown.\n",
      "DEBUG:matplotlib.pyplot:Loaded backend module://ipykernel.pylab.backend_inline version unknown.\n"
     ]
    }
   ],
   "source": [
    "import matplotlib.pyplot as plt"
   ]
  },
  {
   "cell_type": "code",
   "execution_count": 43,
   "id": "cbb6d68a",
   "metadata": {},
   "outputs": [],
   "source": [
    "ml_energies = [energy.value_in_unit_system(unit.md_unit_system) for energy in ml_energies]\n",
    "energies = [energy.value_in_unit_system(unit.md_unit_system) for energy in energies]"
   ]
  },
  {
   "cell_type": "code",
   "execution_count": 44,
   "id": "1cec7b06",
   "metadata": {},
   "outputs": [
    {
     "data": {
      "text/plain": [
       "[<matplotlib.lines.Line2D at 0x7f3ca4ea5280>]"
      ]
     },
     "execution_count": 44,
     "metadata": {},
     "output_type": "execute_result"
    },
    {
     "name": "stderr",
     "output_type": "stream",
     "text": [
      "DEBUG:matplotlib.font_manager:findfont: Matching sans\\-serif:style=normal:variant=normal:weight=normal:stretch=normal:size=10.0.\n",
      "DEBUG:matplotlib.font_manager:findfont: score(<Font 'DejaVu Sans Mono' (DejaVuSansMono-Bold.ttf) normal normal 700 normal>) = 10.335\n",
      "DEBUG:matplotlib.font_manager:findfont: score(<Font 'STIXNonUnicode' (STIXNonUniBol.ttf) normal normal 700 normal>) = 10.335\n",
      "DEBUG:matplotlib.font_manager:findfont: score(<Font 'STIXSizeOneSym' (STIXSizOneSymReg.ttf) normal normal 400 normal>) = 10.05\n",
      "DEBUG:matplotlib.font_manager:findfont: score(<Font 'STIXNonUnicode' (STIXNonUni.ttf) normal normal 400 normal>) = 10.05\n",
      "DEBUG:matplotlib.font_manager:findfont: score(<Font 'STIXNonUnicode' (STIXNonUniIta.ttf) italic normal 400 normal>) = 11.05\n",
      "DEBUG:matplotlib.font_manager:findfont: score(<Font 'STIXSizeFourSym' (STIXSizFourSymBol.ttf) normal normal 700 normal>) = 10.335\n",
      "DEBUG:matplotlib.font_manager:findfont: score(<Font 'STIXSizeFourSym' (STIXSizFourSymReg.ttf) normal normal 400 normal>) = 10.05\n",
      "DEBUG:matplotlib.font_manager:findfont: score(<Font 'cmsy10' (cmsy10.ttf) normal normal 400 normal>) = 10.05\n",
      "DEBUG:matplotlib.font_manager:findfont: score(<Font 'STIXGeneral' (STIXGeneralBol.ttf) normal normal 700 normal>) = 10.335\n",
      "DEBUG:matplotlib.font_manager:findfont: score(<Font 'DejaVu Serif' (DejaVuSerif-Bold.ttf) normal normal 700 normal>) = 10.335\n",
      "DEBUG:matplotlib.font_manager:findfont: score(<Font 'DejaVu Serif' (DejaVuSerif-Italic.ttf) italic normal 400 normal>) = 11.05\n",
      "DEBUG:matplotlib.font_manager:findfont: score(<Font 'STIXSizeTwoSym' (STIXSizTwoSymBol.ttf) normal normal 700 normal>) = 10.335\n",
      "DEBUG:matplotlib.font_manager:findfont: score(<Font 'STIXSizeTwoSym' (STIXSizTwoSymReg.ttf) normal normal 400 normal>) = 10.05\n",
      "DEBUG:matplotlib.font_manager:findfont: score(<Font 'cmb10' (cmb10.ttf) normal normal 400 normal>) = 10.05\n",
      "DEBUG:matplotlib.font_manager:findfont: score(<Font 'cmss10' (cmss10.ttf) normal normal 400 normal>) = 10.05\n",
      "DEBUG:matplotlib.font_manager:findfont: score(<Font 'STIXNonUnicode' (STIXNonUniBolIta.ttf) italic normal 700 normal>) = 11.335\n",
      "DEBUG:matplotlib.font_manager:findfont: score(<Font 'STIXSizeOneSym' (STIXSizOneSymBol.ttf) normal normal 700 normal>) = 10.335\n",
      "DEBUG:matplotlib.font_manager:findfont: score(<Font 'cmtt10' (cmtt10.ttf) normal normal 400 normal>) = 10.05\n",
      "DEBUG:matplotlib.font_manager:findfont: score(<Font 'DejaVu Sans Mono' (DejaVuSansMono.ttf) normal normal 400 normal>) = 10.05\n",
      "DEBUG:matplotlib.font_manager:findfont: score(<Font 'STIXGeneral' (STIXGeneralItalic.ttf) italic normal 400 normal>) = 11.05\n",
      "DEBUG:matplotlib.font_manager:findfont: score(<Font 'DejaVu Sans' (DejaVuSans.ttf) normal normal 400 normal>) = 0.05\n",
      "DEBUG:matplotlib.font_manager:findfont: score(<Font 'STIXGeneral' (STIXGeneral.ttf) normal normal 400 normal>) = 10.05\n",
      "DEBUG:matplotlib.font_manager:findfont: score(<Font 'DejaVu Sans' (DejaVuSans-Oblique.ttf) oblique normal 400 normal>) = 1.05\n",
      "DEBUG:matplotlib.font_manager:findfont: score(<Font 'cmmi10' (cmmi10.ttf) normal normal 400 normal>) = 10.05\n",
      "DEBUG:matplotlib.font_manager:findfont: score(<Font 'DejaVu Serif' (DejaVuSerif.ttf) normal normal 400 normal>) = 10.05\n",
      "DEBUG:matplotlib.font_manager:findfont: score(<Font 'DejaVu Serif Display' (DejaVuSerifDisplay.ttf) normal normal 400 normal>) = 10.05\n",
      "DEBUG:matplotlib.font_manager:findfont: score(<Font 'DejaVu Sans Mono' (DejaVuSansMono-BoldOblique.ttf) oblique normal 700 normal>) = 11.335\n",
      "DEBUG:matplotlib.font_manager:findfont: score(<Font 'DejaVu Sans Mono' (DejaVuSansMono-Oblique.ttf) oblique normal 400 normal>) = 11.05\n",
      "DEBUG:matplotlib.font_manager:findfont: score(<Font 'cmr10' (cmr10.ttf) normal normal 400 normal>) = 10.05\n",
      "DEBUG:matplotlib.font_manager:findfont: score(<Font 'STIXSizeFiveSym' (STIXSizFiveSymReg.ttf) normal normal 400 normal>) = 10.05\n",
      "DEBUG:matplotlib.font_manager:findfont: score(<Font 'DejaVu Sans' (DejaVuSans-BoldOblique.ttf) oblique normal 700 normal>) = 1.335\n",
      "DEBUG:matplotlib.font_manager:findfont: score(<Font 'STIXSizeThreeSym' (STIXSizThreeSymBol.ttf) normal normal 700 normal>) = 10.335\n",
      "DEBUG:matplotlib.font_manager:findfont: score(<Font 'STIXSizeThreeSym' (STIXSizThreeSymReg.ttf) normal normal 400 normal>) = 10.05\n",
      "DEBUG:matplotlib.font_manager:findfont: score(<Font 'DejaVu Serif' (DejaVuSerif-BoldItalic.ttf) italic normal 700 normal>) = 11.335\n",
      "DEBUG:matplotlib.font_manager:findfont: score(<Font 'STIXGeneral' (STIXGeneralBolIta.ttf) italic normal 700 normal>) = 11.335\n",
      "DEBUG:matplotlib.font_manager:findfont: score(<Font 'cmex10' (cmex10.ttf) normal normal 400 normal>) = 10.05\n",
      "DEBUG:matplotlib.font_manager:findfont: score(<Font 'DejaVu Sans Display' (DejaVuSansDisplay.ttf) normal normal 400 normal>) = 10.05\n",
      "DEBUG:matplotlib.font_manager:findfont: score(<Font 'DejaVu Sans' (DejaVuSans-Bold.ttf) normal normal 700 normal>) = 0.33499999999999996\n",
      "DEBUG:matplotlib.font_manager:findfont: score(<Font 'DejaVu Sans' (DejaVuSans.ttf) normal normal 400 normal>) = 0.05\n",
      "DEBUG:matplotlib.font_manager:findfont: score(<Font 'DejaVu Sans' (DejaVuSans-Bold.ttf) normal normal 700 normal>) = 0.33499999999999996\n",
      "DEBUG:matplotlib.font_manager:findfont: score(<Font 'DejaVu Sans Mono' (DejaVuSansMono.ttf) normal normal 400 normal>) = 10.05\n",
      "DEBUG:matplotlib.font_manager:findfont: score(<Font 'DejaVu Sans Mono' (DejaVuSansMono-Bold.ttf) normal normal 700 normal>) = 10.335\n",
      "DEBUG:matplotlib.font_manager:findfont: score(<Font 'DejaVu Serif' (DejaVuSerif.ttf) normal normal 400 normal>) = 10.05\n",
      "DEBUG:matplotlib.font_manager:findfont: score(<Font 'DejaVu Serif' (DejaVuSerif-Bold.ttf) normal normal 700 normal>) = 10.335\n",
      "DEBUG:matplotlib.font_manager:findfont: Matching sans\\-serif:style=normal:variant=normal:weight=normal:stretch=normal:size=10.0 to DejaVu Sans ('/home/dominic/anaconda3/envs/perses-torch/lib/python3.8/site-packages/matplotlib/mpl-data/fonts/ttf/DejaVuSans.ttf') with score of 0.050000.\n"
     ]
    },
    {
     "data": {
      "image/png": "[encoded data removed]",
      "text/plain": [
       "<Figure size 432x288 with 1 Axes>"
      ]
     },
     "metadata": {
      "needs_background": "light"
     },
     "output_type": "display_data"
    }
   ],
   "source": [
    "plt.plot(ml_energies)\n",
    "plt.plot(energies)"
   ]
  },
  {
   "cell_type": "code",
   "execution_count": null,
   "id": "5e7110c6",
   "metadata": {},
   "outputs": [],
   "source": []
  }
 ],
 "metadata": {
  "kernelspec": {
   "display_name": "Python 3",
   "language": "python",
   "name": "python3"
  },
  "language_info": {
   "codemirror_mode": {
    "name": "ipython",
    "version": 3
   },
   "file_extension": ".py",
   "mimetype": "text/x-python",
   "name": "python",
   "nbconvert_exporter": "python",
   "pygments_lexer": "ipython3",
   "version": "3.8.10"
  }
 },
 "nbformat": 4,
 "nbformat_minor": 5
}
