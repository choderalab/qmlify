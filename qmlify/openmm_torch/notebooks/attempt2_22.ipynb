{
 "cells": [
  {
   "cell_type": "markdown",
   "id": "0b01d7fc-f8a5-4757-8093-998249958124",
   "metadata": {},
   "source": [
    "# replica exchange md for mm/ml system."
   ]
  },
  {
   "cell_type": "markdown",
   "id": "3f5d49fa-7b91-4f35-9af0-e06f94cad054",
   "metadata": {},
   "source": [
    "I'm going to try this again...help me, god!"
   ]
  },
  {
   "cell_type": "code",
   "execution_count": 1,
   "id": "bffe2e9d-dc7a-4137-a2f0-1864518583ac",
   "metadata": {},
   "outputs": [
    {
     "name": "stderr",
     "output_type": "stream",
     "text": [
      "Warning: importing 'simtk.openmm' is deprecated.  Import 'openmm' instead.\n"
     ]
    }
   ],
   "source": [
    "from openmmtools.testsystems import HostGuestExplicit"
   ]
  },
  {
   "cell_type": "code",
   "execution_count": 2,
   "id": "0bf05ff7-91e4-4575-9f84-f8877c48eae5",
   "metadata": {},
   "outputs": [],
   "source": [
    "hge = HostGuestExplicit()"
   ]
  },
  {
   "cell_type": "code",
   "execution_count": 3,
   "id": "6ea0ed77-d838-4d86-a3ed-316578157b54",
   "metadata": {},
   "outputs": [],
   "source": [
    "system, positions, topology = hge.system, hge.positions, hge.topology"
   ]
  },
  {
   "cell_type": "code",
   "execution_count": 4,
   "id": "980e91cc-7f0a-4c92-847b-3ee936e53579",
   "metadata": {},
   "outputs": [],
   "source": [
    "from qmlify.openmm_torch.force_hybridization import HybridSystemFactory\n",
    "from simtk import unit"
   ]
  },
  {
   "cell_type": "code",
   "execution_count": 5,
   "id": "28ddd09f-04f4-4adb-81b7-1d991055f550",
   "metadata": {},
   "outputs": [
    {
     "data": {
      "text/plain": [
       "[<openmm.openmm.HarmonicBondForce; proxy of <Swig Object of type 'OpenMM::HarmonicBondForce *' at 0x7f9189483600> >,\n",
       " <openmm.openmm.HarmonicAngleForce; proxy of <Swig Object of type 'OpenMM::HarmonicAngleForce *' at 0x7f91894837e0> >,\n",
       " <openmm.openmm.PeriodicTorsionForce; proxy of <Swig Object of type 'OpenMM::PeriodicTorsionForce *' at 0x7f9189483960> >,\n",
       " <openmm.openmm.NonbondedForce; proxy of <Swig Object of type 'OpenMM::NonbondedForce *' at 0x7f91894839f0> >,\n",
       " <openmm.openmm.CMMotionRemover; proxy of <Swig Object of type 'OpenMM::CMMotionRemover *' at 0x7f9189483a80> >]"
      ]
     },
     "execution_count": 5,
     "metadata": {},
     "output_type": "execute_result"
    }
   ],
   "source": [
    "hge.system.getForces()"
   ]
  },
  {
   "cell_type": "code",
   "execution_count": 6,
   "id": "97adc72e-67af-401d-8705-0e82a26ea0b5",
   "metadata": {},
   "outputs": [],
   "source": [
    "from openmmtools.testsystems import HostGuestExplicit\n",
    "T = 300*unit.kelvin\n",
    "system, positions, topology = hge.system, hge.positions, hge.topology\n",
    "system.removeForce(system.getNumForces() - 1) # remove the CMMotionRemover force because it is unknown\n",
    "_atoms = list(range(126,156)) #these atoms correspond to the guest. query these with the second residue in the topology"
   ]
  },
  {
   "cell_type": "code",
   "execution_count": 7,
   "id": "fd35c4d6-3a7d-4e20-9212-7c077680fbed",
   "metadata": {},
   "outputs": [
    {
     "data": {
      "text/plain": [
       "[<openmm.openmm.HarmonicBondForce; proxy of <Swig Object of type 'OpenMM::HarmonicBondForce *' at 0x7f91891ebc60> >,\n",
       " <openmm.openmm.HarmonicAngleForce; proxy of <Swig Object of type 'OpenMM::HarmonicAngleForce *' at 0x7f9189483090> >,\n",
       " <openmm.openmm.PeriodicTorsionForce; proxy of <Swig Object of type 'OpenMM::PeriodicTorsionForce *' at 0x7f91894834e0> >,\n",
       " <openmm.openmm.NonbondedForce; proxy of <Swig Object of type 'OpenMM::NonbondedForce *' at 0x7f9189483870> >]"
      ]
     },
     "execution_count": 7,
     "metadata": {},
     "output_type": "execute_result"
    }
   ],
   "source": [
    "system.getForces()"
   ]
  },
  {
   "cell_type": "code",
   "execution_count": 8,
   "id": "c9a52cd9-106a-4e37-8620-9a37bd7fc83f",
   "metadata": {},
   "outputs": [
    {
     "name": "stderr",
     "output_type": "stream",
     "text": [
      "INFO:force-hybridization:initializing system modifier...\n",
      "INFO:force-hybridization:found 1 matches from [1]\n",
      "INFO:force-hybridization:identified 30 to treat with ML.\n",
      "INFO:force-hybridization:modifying harmonic bonds...\n",
      "INFO:force-hybridization:modifying harmonic angles...\n",
      "INFO:force-hybridization:modifying periodic torsions...\n",
      "INFO:force-hybridization:modifying nonbondeds...\n",
      "DEBUG:force-hybridization:iterating over existing exceptions and adding to custom force...\n",
      "DEBUG:force-hybridization:iterating over alchemical particle combinations\n",
      "DEBUG:force-hybridization:enabling rest-like scaling to alchemical particle nonbondeds\n"
     ]
    }
   ],
   "source": [
    "hsf = HybridSystemFactory(topology = topology,\n",
    "         alchemical_residue_indices = [1],\n",
    "         system = system,\n",
    "         softcore_alpha_sterics = 0.5,\n",
    "         softcore_alpha_electrostatics = 0.5)\n",
    "# grab the modified system and endstate system...\n",
    "mod_system = hsf.system\n",
    "endstate_system = hsf.endstate_system"
   ]
  },
  {
   "cell_type": "code",
   "execution_count": 9,
   "id": "1529150c-5244-4218-bd90-b70cf1579ae3",
   "metadata": {},
   "outputs": [],
   "source": [
    "from openmmtools.integrators import DummyIntegrator\n",
    "from simtk import openmm\n",
    "T = 300. * unit.kelvin"
   ]
  },
  {
   "cell_type": "code",
   "execution_count": 10,
   "id": "438fd0f3-d49a-471b-9478-c47516e289f3",
   "metadata": {},
   "outputs": [],
   "source": [
    "nonalch_int = DummyIntegrator()\n",
    "alch_int = DummyIntegrator()"
   ]
  },
  {
   "cell_type": "code",
   "execution_count": 11,
   "id": "deb656f5-fc5b-44c5-822d-9b7d03b3ec54",
   "metadata": {},
   "outputs": [],
   "source": [
    "nonalch_context, alch_context = openmm.Context(system, nonalch_int), openmm.Context(mod_system, alch_int)"
   ]
  },
  {
   "cell_type": "code",
   "execution_count": 12,
   "id": "958ac750-61d9-477f-ace6-0de1f51f3d63",
   "metadata": {},
   "outputs": [],
   "source": [
    "for context in [nonalch_context, alch_context]:\n",
    "    context.setPositions(positions)\n",
    "    context.setPeriodicBoxVectors(*system.getDefaultPeriodicBoxVectors())"
   ]
  },
  {
   "cell_type": "code",
   "execution_count": 13,
   "id": "9384923b-c7ed-453c-8daf-8da3b6547ffb",
   "metadata": {},
   "outputs": [
    {
     "data": {
      "text/plain": [
       "Quantity(value=-51940.5232443395, unit=kilojoule/mole)"
      ]
     },
     "execution_count": 13,
     "metadata": {},
     "output_type": "execute_result"
    }
   ],
   "source": [
    "nonalch_context.getState(getEnergy=True).getPotentialEnergy()"
   ]
  },
  {
   "cell_type": "code",
   "execution_count": 14,
   "id": "20a74490-ae37-4d71-9c0d-12dd5b6295e7",
   "metadata": {},
   "outputs": [
    {
     "data": {
      "text/plain": [
       "Quantity(value=-51940.523090678435, unit=kilojoule/mole)"
      ]
     },
     "execution_count": 14,
     "metadata": {},
     "output_type": "execute_result"
    }
   ],
   "source": [
    "alch_context.getState(getEnergy=True).getPotentialEnergy()"
   ]
  },
  {
   "cell_type": "code",
   "execution_count": 15,
   "id": "291a5c99-8612-40b3-95ac-63be5aaecbd1",
   "metadata": {},
   "outputs": [],
   "source": [
    "del alch_context\n",
    "del nonalch_context\n",
    "del nonalch_int\n",
    "del alch_int"
   ]
  },
  {
   "cell_type": "markdown",
   "id": "9cc129df-4ad6-4043-887b-4ca51d6deb2a",
   "metadata": {},
   "source": [
    "ok, now let's execute the torch alchemification wrapper."
   ]
  },
  {
   "cell_type": "code",
   "execution_count": 16,
   "id": "a6edfab4-8d4a-441f-a90f-8e73583386d0",
   "metadata": {},
   "outputs": [],
   "source": [
    "from qmlify.openmm_torch.torchforce_generator import torch_alchemification_wrapper"
   ]
  },
  {
   "cell_type": "code",
   "execution_count": 17,
   "id": "f4c53eaf-2392-4daa-b7d9-3a2515f6e657",
   "metadata": {},
   "outputs": [
    {
     "name": "stderr",
     "output_type": "stream",
     "text": [
      "INFO:force-hybridization:initializing system modifier...\n",
      "INFO:force-hybridization:found 1 matches from [1]\n",
      "INFO:force-hybridization:identified 30 to treat with ML.\n",
      "INFO:force-hybridization:modifying harmonic bonds...\n",
      "INFO:force-hybridization:modifying harmonic angles...\n",
      "INFO:force-hybridization:modifying periodic torsions...\n",
      "INFO:force-hybridization:modifying nonbondeds...\n",
      "DEBUG:force-hybridization:iterating over existing exceptions and adding to custom force...\n",
      "DEBUG:force-hybridization:iterating over alchemical particle combinations\n",
      "DEBUG:force-hybridization:enabling rest-like scaling to alchemical particle nonbondeds\n",
      "/home/dominic/anaconda3/envs/openmm_torch/lib/python3.9/site-packages/torchani/__init__.py:55: UserWarning: Dependency not satisfied, torchani.ase will not be available\n",
      "  warnings.warn(\"Dependency not satisfied, torchani.ase will not be available\")\n",
      "DEBUG:h5py._conv:Creating converter from 7 to 5\n",
      "DEBUG:h5py._conv:Creating converter from 5 to 7\n",
      "DEBUG:h5py._conv:Creating converter from 7 to 5\n",
      "DEBUG:h5py._conv:Creating converter from 5 to 7\n",
      "INFO:torchforce_generator:registering `torch` device...\n",
      "INFO:torchforce_generator:found torch device 'cuda': False\n",
      "/home/dominic/anaconda3/envs/openmm_torch/lib/python3.9/site-packages/torch/functional.py:1069: UserWarning: torch.meshgrid: in an upcoming release, it will be required to pass the indexing argument. (Triggered internally at  /home/conda/feedstock_root/build_artifacts/pytorch-recipe_1640869844479/work/aten/src/ATen/native/TensorShape.cpp:2156.)\n",
      "  return _VF.cartesian_prod(tensors)  # type: ignore[attr-defined]\n"
     ]
    },
    {
     "name": "stdout",
     "output_type": "stream",
     "text": [
      "/home/dominic/anaconda3/envs/openmm_torch/lib/python3.9/site-packages/torchani/resources/\n"
     ]
    },
    {
     "name": "stderr",
     "output_type": "stream",
     "text": [
      "DEBUG:torchforce_generator:elements: ['C', 'C', 'C', 'C', 'C', 'C', 'C', 'C', 'C', 'O', 'C', 'O', 'H', 'H', 'H', 'H', 'H', 'H', 'H', 'H', 'H', 'H', 'H', 'H', 'H', 'H', 'H', 'H', 'H', 'H'] \n",
      " atomic_numbers: [6, 6, 6, 6, 6, 6, 6, 6, 6, 8, 6, 8, 1, 1, 1, 1, 1, 1, 1, 1, 1, 1, 1, 1, 1, 1, 1, 1, 1, 1]\n"
     ]
    }
   ],
   "source": [
    "ml_system, hsf_mod = torch_alchemification_wrapper(topology, system, [1], pbc=True, optimize=None)"
   ]
  },
  {
   "cell_type": "code",
   "execution_count": 18,
   "id": "ecde8c9e-a265-42e7-94b1-baa258c5313d",
   "metadata": {},
   "outputs": [],
   "source": [
    "from openmmtools.integrators import LangevinIntegrator"
   ]
  },
  {
   "cell_type": "code",
   "execution_count": 19,
   "id": "cb0a74f9-95e3-43cf-83c6-3dbdb01bb3db",
   "metadata": {},
   "outputs": [],
   "source": [
    "_int = LangevinIntegrator()\n",
    "nonalch_context = openmm.Context(ml_system, _int)"
   ]
  },
  {
   "cell_type": "code",
   "execution_count": 20,
   "id": "4cf55605-8e89-4ddd-b4ff-55270f333725",
   "metadata": {},
   "outputs": [],
   "source": [
    "nonalch_context.setPositions(hge.positions)\n",
    "nonalch_context.setPeriodicBoxVectors(*ml_system.getDefaultPeriodicBoxVectors())"
   ]
  },
  {
   "cell_type": "code",
   "execution_count": 21,
   "id": "452fc56f-8a69-4e89-aaa8-6de76a1bf6d7",
   "metadata": {},
   "outputs": [],
   "source": [
    "swig_params = nonalch_context.getParameters()"
   ]
  },
  {
   "cell_type": "code",
   "execution_count": 22,
   "id": "da15c9aa-48a2-4d80-b058-76d51ac7b7db",
   "metadata": {},
   "outputs": [
    {
     "name": "stdout",
     "output_type": "stream",
     "text": [
      "auxiliary_torch_scale 1.0\n",
      "lambda_MM_angles 1.0\n",
      "lambda_MM_bonds 1.0\n",
      "lambda_MM_torsions 1.0\n",
      "lambda_electrostatic_scale 0.0\n",
      "lambda_epsilon_scale 0.0\n",
      "lambda_nonbonded_MM_electrostatics 0.0\n",
      "lambda_nonbonded_MM_sterics 0.0\n",
      "lambda_scale 1.0\n",
      "torch_scale 0.0\n"
     ]
    }
   ],
   "source": [
    "for i in swig_params:\n",
    "    print(i, swig_params[i])"
   ]
  },
  {
   "cell_type": "code",
   "execution_count": 23,
   "id": "252ff31b-acf4-46ed-89a9-8fc5137d72cf",
   "metadata": {},
   "outputs": [],
   "source": [
    "from openmmtools.constants import kB"
   ]
  },
  {
   "cell_type": "code",
   "execution_count": 24,
   "id": "b22ff56d-0f7d-4b45-89ff-dd4e4bc311a9",
   "metadata": {},
   "outputs": [],
   "source": [
    "from qmlify.openmm_torch.utils import configure_platform"
   ]
  },
  {
   "cell_type": "code",
   "execution_count": 25,
   "id": "2b5ed4bf-c232-45d1-871b-385ee6f40a2a",
   "metadata": {},
   "outputs": [
    {
     "name": "stderr",
     "output_type": "stream",
     "text": [
      "INFO:utils:conducting subsequent work with the following platform: CPU\n"
     ]
    }
   ],
   "source": [
    "platform = configure_platform(platform_name='CPU')"
   ]
  },
  {
   "cell_type": "code",
   "execution_count": 26,
   "id": "311bff8e-003f-426c-ae43-2030d84e92c7",
   "metadata": {},
   "outputs": [],
   "source": [
    "beta = 1. / (kB * T)"
   ]
  },
  {
   "cell_type": "code",
   "execution_count": 27,
   "id": "1ffb147e-74e2-40b3-8a3c-52b4b8e7fd4d",
   "metadata": {},
   "outputs": [],
   "source": [
    "from qmlify.openmm_torch.utils import compute_potential_components"
   ]
  },
  {
   "cell_type": "code",
   "execution_count": 28,
   "id": "6a8a68dc-8c45-413f-a534-393c6e4004b5",
   "metadata": {},
   "outputs": [
    {
     "name": "stderr",
     "output_type": "stream",
     "text": [
      "[W BinaryOps.cpp:595] Warning: floor_divide is deprecated, and will be removed in a future version of pytorch. It currently rounds toward 0 (like the 'trunc' function NOT 'floor'). This results in incorrect rounding for negative values.\n",
      "To keep the current behavior, use torch.div(a, b, rounding_mode='trunc'), or for actual floor division, use torch.div(a, b, rounding_mode='floor'). (function operator())\n"
     ]
    },
    {
     "data": {
      "text/plain": [
       "Quantity(value=-51940.523090678435, unit=kilojoule/mole)"
      ]
     },
     "execution_count": 28,
     "metadata": {},
     "output_type": "execute_result"
    }
   ],
   "source": [
    "nonalch_context.getState(getEnergy=True).getPotentialEnergy()"
   ]
  },
  {
   "cell_type": "code",
   "execution_count": null,
   "id": "45b28144-881b-4d0d-9257-d7bc132692b3",
   "metadata": {},
   "outputs": [],
   "source": []
  },
  {
   "cell_type": "code",
   "execution_count": 29,
   "id": "fd6ed5c1-1022-4c33-a08d-c63f18d00aea",
   "metadata": {},
   "outputs": [
    {
     "name": "stderr",
     "output_type": "stream",
     "text": [
      "INFO:utils:conducting subsequent work with the following platform: CPU\n"
     ]
    },
    {
     "data": {
      "text/plain": [
       "[('HarmonicBondForce', 138.2536325732858),\n",
       " ('HarmonicAngleForce', 250.5430402178494),\n",
       " ('PeriodicTorsionForce', 127.80389899995976),\n",
       " ('NonbondedForce', -21397.72292678985),\n",
       " ('CustomBondForce', 1.2408843919367567),\n",
       " ('CustomAngleForce', 4.898738658713597),\n",
       " ('CustomTorsionForce', 29.64072359346018),\n",
       " ('CustomBondForce', 21.97856079801868),\n",
       " ('Force', 0.0)]"
      ]
     },
     "execution_count": 29,
     "metadata": {},
     "output_type": "execute_result"
    }
   ],
   "source": [
    "compute_potential_components(nonalch_context, beta, platform)"
   ]
  },
  {
   "cell_type": "code",
   "execution_count": 30,
   "id": "224dd3b6-fa0a-4b8b-a0ba-e036bcf3736b",
   "metadata": {},
   "outputs": [],
   "source": [
    "_int.step(10)"
   ]
  },
  {
   "cell_type": "code",
   "execution_count": 31,
   "id": "ed189780-307d-419d-8729-65f966f1d920",
   "metadata": {},
   "outputs": [],
   "source": [
    "for i in range(100):\n",
    "    _int.step(1)"
   ]
  },
  {
   "cell_type": "code",
   "execution_count": null,
   "id": "00b47dd4-5856-4cb9-bf65-70099f2f7f0e",
   "metadata": {},
   "outputs": [],
   "source": []
  }
 ],
 "metadata": {
  "kernelspec": {
   "display_name": "Python 3 (ipykernel)",
   "language": "python",
   "name": "python3"
  },
  "language_info": {
   "codemirror_mode": {
    "name": "ipython",
    "version": 3
   },
   "file_extension": ".py",
   "mimetype": "text/x-python",
   "name": "python",
   "nbconvert_exporter": "python",
   "pygments_lexer": "ipython3",
   "version": "3.9.10"
  }
 },
 "nbformat": 4,
 "nbformat_minor": 5
}
